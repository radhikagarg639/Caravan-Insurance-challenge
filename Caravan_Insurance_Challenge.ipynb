{
  "nbformat": 4,
  "nbformat_minor": 0,
  "metadata": {
    "celltoolbar": "Tags",
    "colab": {
      "name": "Caravan Insurance Challenge.ipynb",
      "provenance": []
    },
    "kernelspec": {
      "display_name": "Python 3",
      "language": "python",
      "name": "python3"
    },
    "language_info": {
      "codemirror_mode": {
        "name": "ipython",
        "version": 3
      },
      "file_extension": ".py",
      "mimetype": "text/x-python",
      "name": "python",
      "nbconvert_exporter": "python",
      "pygments_lexer": "ipython3",
      "version": "3.7.10"
    },
    "nav_menu": {
      "height": "279px",
      "width": "309px"
    },
    "toc": {
      "colors": {
        "hover_highlight": "#DAA520",
        "navigate_num": "#000000",
        "navigate_text": "#333333",
        "running_highlight": "#FF0000",
        "selected_highlight": "#FFD700",
        "sidebar_border": "#EEEEEE",
        "wrapper_background": "#FFFFFF"
      },
      "moveMenuLeft": true,
      "nav_menu": {
        "height": "512px",
        "width": "252px"
      },
      "navigate_menu": true,
      "number_sections": true,
      "sideBar": true,
      "threshold": 4,
      "toc_cell": false,
      "toc_position": {
        "height": "531px",
        "left": "0px",
        "right": "1453px",
        "top": "106px",
        "width": "238px"
      },
      "toc_section_display": "block",
      "toc_window_display": true,
      "widenNotebook": false
    }
  },
  "cells": [
    {
      "cell_type": "markdown",
      "metadata": {
        "id": "TPP6wpMy_S6t"
      },
      "source": [
        "<center><h1 style=\"background-color:#8ffaaa;font-family:newtimeroman;font-size:200%;text-align:center;border-radius: 15px 10px;padding: 5px\"><b><u>Project: Caravan Insurance Challenge</u></b></h1></center>\n",
        "<center><h2><b> </b></h2></center>\n",
        "\n",
        "<center><img src=\"https://www.simon-kucher.com/sites/default/files/styles/670xh/public/2019-04/Blog_Banner_Digital_Insurance_ohne-Text_Vers-2.jpg?itok=gCZog3mg\",height='300',width='600'></center>"
      ]
    },
    {
      "cell_type": "markdown",
      "metadata": {
        "id": "iPrzv5tl_S6z"
      },
      "source": [
        "##<h2> Introduction </h2>\n",
        "The Caravan Insurance dataset contains information on customers of an insurance company. The data consists of 86 variables and includes product usage data and socio-demographic data derived from zip area codes.\n",
        "\n",
        "##<h2> Objective </h2>\n",
        "To predict the potential buyers of caravan insurance policy."
      ]
    },
    {
      "cell_type": "markdown",
      "metadata": {
        "id": "_HpfckPG5mT8"
      },
      "source": [
        "**Data Preprocessing**"
      ]
    },
    {
      "cell_type": "markdown",
      "metadata": {
        "id": "DVC638dX5daE"
      },
      "source": [
        "Importing the libraries"
      ]
    },
    {
      "cell_type": "code",
      "metadata": {
        "id": "ndWpxG9w_S7H"
      },
      "source": [
        "import numpy as np\n",
        "import pandas as pd \n",
        "import os\n",
        "%matplotlib inline\n",
        "import matplotlib\n",
        "import matplotlib.pyplot as plt\n",
        "plt.rcParams['axes.labelsize'] = 14\n",
        "plt.rcParams['xtick.labelsize'] = 12\n",
        "plt.rcParams['ytick.labelsize'] = 12"
      ],
      "execution_count": null,
      "outputs": []
    },
    {
      "cell_type": "code",
      "metadata": {
        "colab": {
          "base_uri": "https://localhost:8080/"
        },
        "id": "UtsU5v7Y_S7A",
        "outputId": "37fa6d96-75c2-40a2-a36a-176f088911f8"
      },
      "source": [
        "#Changing working directory to drive\n",
        "from google.colab import drive\n",
        "drive.mount('/content/drive')\n",
        "os.chdir('/content/drive/My Drive')\n",
        "\n",
        "PROJECT_ROOT_DIR = \"/content/drive/My Drive/Dataset/\"\n",
        "datafile_path = \"/content/drive/My Drive/Dataset/caravan-insurance-challenge.csv\"\n",
        "output_path = \"/content/drive/My Drive/Images\"\n",
        "\n",
        "# Cost / benefit:\n",
        "# Cost to call = -10\n",
        "# Benefit = 100\n",
        "# b(Y,p) = b(TP) = 100 - 10 = 90\n",
        "# c(N,p) = c(FN) = 0\n",
        "# c(Y,n) = c(FP) = -10\n",
        "# b(N,n) = b(TN) = 0\n",
        "TP_amount = 90\n",
        "FN_amount = 0\n",
        "FP_amount = -10\n",
        "TN_amount = 0"
      ],
      "execution_count": null,
      "outputs": [
        {
          "output_type": "stream",
          "text": [
            "Drive already mounted at /content/drive; to attempt to forcibly remount, call drive.mount(\"/content/drive\", force_remount=True).\n"
          ],
          "name": "stdout"
        }
      ]
    },
    {
      "cell_type": "code",
      "metadata": {
        "id": "p_7Bcd1w_S7K"
      },
      "source": [
        "# For saving the figures\n",
        "def save_fig(fig_id, tight_layout=True):\n",
        "    path = os.path.join(PROJECT_ROOT_DIR, output_path, fig_id + \".png\")\n",
        "    print(\"Saving figure\", fig_id)\n",
        "    if tight_layout:\n",
        "        plt.tight_layout()\n",
        "    plt.savefig(path, format='png', dpi=300)"
      ],
      "execution_count": null,
      "outputs": []
    },
    {
      "cell_type": "markdown",
      "metadata": {
        "id": "FQtvhl6e_S7L"
      },
      "source": [
        "Reading the data and viewing a snippet of the data"
      ]
    },
    {
      "cell_type": "code",
      "metadata": {
        "colab": {
          "base_uri": "https://localhost:8080/",
          "height": 255
        },
        "id": "E4QGglIp_S7M",
        "outputId": "29e79dd9-c5d8-4629-9cd8-2abfdd070d09"
      },
      "source": [
        "data_all = pd.read_csv('/content/drive/My Drive/Dataset/caravan-insurance-challenge.csv')\n",
        "data_all.head()"
      ],
      "execution_count": null,
      "outputs": [
        {
          "output_type": "execute_result",
          "data": {
            "text/html": [
              "<div>\n",
              "<style scoped>\n",
              "    .dataframe tbody tr th:only-of-type {\n",
              "        vertical-align: middle;\n",
              "    }\n",
              "\n",
              "    .dataframe tbody tr th {\n",
              "        vertical-align: top;\n",
              "    }\n",
              "\n",
              "    .dataframe thead th {\n",
              "        text-align: right;\n",
              "    }\n",
              "</style>\n",
              "<table border=\"1\" class=\"dataframe\">\n",
              "  <thead>\n",
              "    <tr style=\"text-align: right;\">\n",
              "      <th></th>\n",
              "      <th>ORIGIN</th>\n",
              "      <th>MOSTYPE</th>\n",
              "      <th>MAANTHUI</th>\n",
              "      <th>MGEMOMV</th>\n",
              "      <th>MGEMLEEF</th>\n",
              "      <th>MOSHOOFD</th>\n",
              "      <th>MGODRK</th>\n",
              "      <th>MGODPR</th>\n",
              "      <th>MGODOV</th>\n",
              "      <th>MGODGE</th>\n",
              "      <th>MRELGE</th>\n",
              "      <th>MRELSA</th>\n",
              "      <th>MRELOV</th>\n",
              "      <th>MFALLEEN</th>\n",
              "      <th>MFGEKIND</th>\n",
              "      <th>MFWEKIND</th>\n",
              "      <th>MOPLHOOG</th>\n",
              "      <th>MOPLMIDD</th>\n",
              "      <th>MOPLLAAG</th>\n",
              "      <th>MBERHOOG</th>\n",
              "      <th>MBERZELF</th>\n",
              "      <th>MBERBOER</th>\n",
              "      <th>MBERMIDD</th>\n",
              "      <th>MBERARBG</th>\n",
              "      <th>MBERARBO</th>\n",
              "      <th>MSKA</th>\n",
              "      <th>MSKB1</th>\n",
              "      <th>MSKB2</th>\n",
              "      <th>MSKC</th>\n",
              "      <th>MSKD</th>\n",
              "      <th>MHHUUR</th>\n",
              "      <th>MHKOOP</th>\n",
              "      <th>MAUT1</th>\n",
              "      <th>MAUT2</th>\n",
              "      <th>MAUT0</th>\n",
              "      <th>MZFONDS</th>\n",
              "      <th>MZPART</th>\n",
              "      <th>MINKM30</th>\n",
              "      <th>MINK3045</th>\n",
              "      <th>MINK4575</th>\n",
              "      <th>...</th>\n",
              "      <th>PPERSAUT</th>\n",
              "      <th>PBESAUT</th>\n",
              "      <th>PMOTSCO</th>\n",
              "      <th>PVRAAUT</th>\n",
              "      <th>PAANHANG</th>\n",
              "      <th>PTRACTOR</th>\n",
              "      <th>PWERKT</th>\n",
              "      <th>PBROM</th>\n",
              "      <th>PLEVEN</th>\n",
              "      <th>PPERSONG</th>\n",
              "      <th>PGEZONG</th>\n",
              "      <th>PWAOREG</th>\n",
              "      <th>PBRAND</th>\n",
              "      <th>PZEILPL</th>\n",
              "      <th>PPLEZIER</th>\n",
              "      <th>PFIETS</th>\n",
              "      <th>PINBOED</th>\n",
              "      <th>PBYSTAND</th>\n",
              "      <th>AWAPART</th>\n",
              "      <th>AWABEDR</th>\n",
              "      <th>AWALAND</th>\n",
              "      <th>APERSAUT</th>\n",
              "      <th>ABESAUT</th>\n",
              "      <th>AMOTSCO</th>\n",
              "      <th>AVRAAUT</th>\n",
              "      <th>AAANHANG</th>\n",
              "      <th>ATRACTOR</th>\n",
              "      <th>AWERKT</th>\n",
              "      <th>ABROM</th>\n",
              "      <th>ALEVEN</th>\n",
              "      <th>APERSONG</th>\n",
              "      <th>AGEZONG</th>\n",
              "      <th>AWAOREG</th>\n",
              "      <th>ABRAND</th>\n",
              "      <th>AZEILPL</th>\n",
              "      <th>APLEZIER</th>\n",
              "      <th>AFIETS</th>\n",
              "      <th>AINBOED</th>\n",
              "      <th>ABYSTAND</th>\n",
              "      <th>CARAVAN</th>\n",
              "    </tr>\n",
              "  </thead>\n",
              "  <tbody>\n",
              "    <tr>\n",
              "      <th>0</th>\n",
              "      <td>train</td>\n",
              "      <td>33</td>\n",
              "      <td>1</td>\n",
              "      <td>3</td>\n",
              "      <td>2</td>\n",
              "      <td>8</td>\n",
              "      <td>0</td>\n",
              "      <td>5</td>\n",
              "      <td>1</td>\n",
              "      <td>3</td>\n",
              "      <td>7</td>\n",
              "      <td>0</td>\n",
              "      <td>2</td>\n",
              "      <td>1</td>\n",
              "      <td>2</td>\n",
              "      <td>6</td>\n",
              "      <td>1</td>\n",
              "      <td>2</td>\n",
              "      <td>7</td>\n",
              "      <td>1</td>\n",
              "      <td>0</td>\n",
              "      <td>1</td>\n",
              "      <td>2</td>\n",
              "      <td>5</td>\n",
              "      <td>2</td>\n",
              "      <td>1</td>\n",
              "      <td>1</td>\n",
              "      <td>2</td>\n",
              "      <td>6</td>\n",
              "      <td>1</td>\n",
              "      <td>1</td>\n",
              "      <td>8</td>\n",
              "      <td>8</td>\n",
              "      <td>0</td>\n",
              "      <td>1</td>\n",
              "      <td>8</td>\n",
              "      <td>1</td>\n",
              "      <td>0</td>\n",
              "      <td>4</td>\n",
              "      <td>5</td>\n",
              "      <td>...</td>\n",
              "      <td>6</td>\n",
              "      <td>0</td>\n",
              "      <td>0</td>\n",
              "      <td>0</td>\n",
              "      <td>0</td>\n",
              "      <td>0</td>\n",
              "      <td>0</td>\n",
              "      <td>0</td>\n",
              "      <td>0</td>\n",
              "      <td>0</td>\n",
              "      <td>0</td>\n",
              "      <td>0</td>\n",
              "      <td>5</td>\n",
              "      <td>0</td>\n",
              "      <td>0</td>\n",
              "      <td>0</td>\n",
              "      <td>0</td>\n",
              "      <td>0</td>\n",
              "      <td>0</td>\n",
              "      <td>0</td>\n",
              "      <td>0</td>\n",
              "      <td>1</td>\n",
              "      <td>0</td>\n",
              "      <td>0</td>\n",
              "      <td>0</td>\n",
              "      <td>0</td>\n",
              "      <td>0</td>\n",
              "      <td>0</td>\n",
              "      <td>0</td>\n",
              "      <td>0</td>\n",
              "      <td>0</td>\n",
              "      <td>0</td>\n",
              "      <td>0</td>\n",
              "      <td>1</td>\n",
              "      <td>0</td>\n",
              "      <td>0</td>\n",
              "      <td>0</td>\n",
              "      <td>0</td>\n",
              "      <td>0</td>\n",
              "      <td>0</td>\n",
              "    </tr>\n",
              "    <tr>\n",
              "      <th>1</th>\n",
              "      <td>train</td>\n",
              "      <td>37</td>\n",
              "      <td>1</td>\n",
              "      <td>2</td>\n",
              "      <td>2</td>\n",
              "      <td>8</td>\n",
              "      <td>1</td>\n",
              "      <td>4</td>\n",
              "      <td>1</td>\n",
              "      <td>4</td>\n",
              "      <td>6</td>\n",
              "      <td>2</td>\n",
              "      <td>2</td>\n",
              "      <td>0</td>\n",
              "      <td>4</td>\n",
              "      <td>5</td>\n",
              "      <td>0</td>\n",
              "      <td>5</td>\n",
              "      <td>4</td>\n",
              "      <td>0</td>\n",
              "      <td>0</td>\n",
              "      <td>0</td>\n",
              "      <td>5</td>\n",
              "      <td>0</td>\n",
              "      <td>4</td>\n",
              "      <td>0</td>\n",
              "      <td>2</td>\n",
              "      <td>3</td>\n",
              "      <td>5</td>\n",
              "      <td>0</td>\n",
              "      <td>2</td>\n",
              "      <td>7</td>\n",
              "      <td>7</td>\n",
              "      <td>1</td>\n",
              "      <td>2</td>\n",
              "      <td>6</td>\n",
              "      <td>3</td>\n",
              "      <td>2</td>\n",
              "      <td>0</td>\n",
              "      <td>5</td>\n",
              "      <td>...</td>\n",
              "      <td>0</td>\n",
              "      <td>0</td>\n",
              "      <td>0</td>\n",
              "      <td>0</td>\n",
              "      <td>0</td>\n",
              "      <td>0</td>\n",
              "      <td>0</td>\n",
              "      <td>0</td>\n",
              "      <td>0</td>\n",
              "      <td>0</td>\n",
              "      <td>0</td>\n",
              "      <td>0</td>\n",
              "      <td>2</td>\n",
              "      <td>0</td>\n",
              "      <td>0</td>\n",
              "      <td>0</td>\n",
              "      <td>0</td>\n",
              "      <td>0</td>\n",
              "      <td>2</td>\n",
              "      <td>0</td>\n",
              "      <td>0</td>\n",
              "      <td>0</td>\n",
              "      <td>0</td>\n",
              "      <td>0</td>\n",
              "      <td>0</td>\n",
              "      <td>0</td>\n",
              "      <td>0</td>\n",
              "      <td>0</td>\n",
              "      <td>0</td>\n",
              "      <td>0</td>\n",
              "      <td>0</td>\n",
              "      <td>0</td>\n",
              "      <td>0</td>\n",
              "      <td>1</td>\n",
              "      <td>0</td>\n",
              "      <td>0</td>\n",
              "      <td>0</td>\n",
              "      <td>0</td>\n",
              "      <td>0</td>\n",
              "      <td>0</td>\n",
              "    </tr>\n",
              "    <tr>\n",
              "      <th>2</th>\n",
              "      <td>train</td>\n",
              "      <td>37</td>\n",
              "      <td>1</td>\n",
              "      <td>2</td>\n",
              "      <td>2</td>\n",
              "      <td>8</td>\n",
              "      <td>0</td>\n",
              "      <td>4</td>\n",
              "      <td>2</td>\n",
              "      <td>4</td>\n",
              "      <td>3</td>\n",
              "      <td>2</td>\n",
              "      <td>4</td>\n",
              "      <td>4</td>\n",
              "      <td>4</td>\n",
              "      <td>2</td>\n",
              "      <td>0</td>\n",
              "      <td>5</td>\n",
              "      <td>4</td>\n",
              "      <td>0</td>\n",
              "      <td>0</td>\n",
              "      <td>0</td>\n",
              "      <td>7</td>\n",
              "      <td>0</td>\n",
              "      <td>2</td>\n",
              "      <td>0</td>\n",
              "      <td>5</td>\n",
              "      <td>0</td>\n",
              "      <td>4</td>\n",
              "      <td>0</td>\n",
              "      <td>7</td>\n",
              "      <td>2</td>\n",
              "      <td>7</td>\n",
              "      <td>0</td>\n",
              "      <td>2</td>\n",
              "      <td>9</td>\n",
              "      <td>0</td>\n",
              "      <td>4</td>\n",
              "      <td>5</td>\n",
              "      <td>0</td>\n",
              "      <td>...</td>\n",
              "      <td>6</td>\n",
              "      <td>0</td>\n",
              "      <td>0</td>\n",
              "      <td>0</td>\n",
              "      <td>0</td>\n",
              "      <td>0</td>\n",
              "      <td>0</td>\n",
              "      <td>0</td>\n",
              "      <td>0</td>\n",
              "      <td>0</td>\n",
              "      <td>0</td>\n",
              "      <td>0</td>\n",
              "      <td>2</td>\n",
              "      <td>0</td>\n",
              "      <td>0</td>\n",
              "      <td>0</td>\n",
              "      <td>0</td>\n",
              "      <td>0</td>\n",
              "      <td>1</td>\n",
              "      <td>0</td>\n",
              "      <td>0</td>\n",
              "      <td>1</td>\n",
              "      <td>0</td>\n",
              "      <td>0</td>\n",
              "      <td>0</td>\n",
              "      <td>0</td>\n",
              "      <td>0</td>\n",
              "      <td>0</td>\n",
              "      <td>0</td>\n",
              "      <td>0</td>\n",
              "      <td>0</td>\n",
              "      <td>0</td>\n",
              "      <td>0</td>\n",
              "      <td>1</td>\n",
              "      <td>0</td>\n",
              "      <td>0</td>\n",
              "      <td>0</td>\n",
              "      <td>0</td>\n",
              "      <td>0</td>\n",
              "      <td>0</td>\n",
              "    </tr>\n",
              "    <tr>\n",
              "      <th>3</th>\n",
              "      <td>train</td>\n",
              "      <td>9</td>\n",
              "      <td>1</td>\n",
              "      <td>3</td>\n",
              "      <td>3</td>\n",
              "      <td>3</td>\n",
              "      <td>2</td>\n",
              "      <td>3</td>\n",
              "      <td>2</td>\n",
              "      <td>4</td>\n",
              "      <td>5</td>\n",
              "      <td>2</td>\n",
              "      <td>2</td>\n",
              "      <td>2</td>\n",
              "      <td>3</td>\n",
              "      <td>4</td>\n",
              "      <td>3</td>\n",
              "      <td>4</td>\n",
              "      <td>2</td>\n",
              "      <td>4</td>\n",
              "      <td>0</td>\n",
              "      <td>0</td>\n",
              "      <td>3</td>\n",
              "      <td>1</td>\n",
              "      <td>2</td>\n",
              "      <td>3</td>\n",
              "      <td>2</td>\n",
              "      <td>1</td>\n",
              "      <td>4</td>\n",
              "      <td>0</td>\n",
              "      <td>5</td>\n",
              "      <td>4</td>\n",
              "      <td>9</td>\n",
              "      <td>0</td>\n",
              "      <td>0</td>\n",
              "      <td>7</td>\n",
              "      <td>2</td>\n",
              "      <td>1</td>\n",
              "      <td>5</td>\n",
              "      <td>3</td>\n",
              "      <td>...</td>\n",
              "      <td>6</td>\n",
              "      <td>0</td>\n",
              "      <td>0</td>\n",
              "      <td>0</td>\n",
              "      <td>0</td>\n",
              "      <td>0</td>\n",
              "      <td>0</td>\n",
              "      <td>0</td>\n",
              "      <td>0</td>\n",
              "      <td>0</td>\n",
              "      <td>0</td>\n",
              "      <td>0</td>\n",
              "      <td>2</td>\n",
              "      <td>0</td>\n",
              "      <td>0</td>\n",
              "      <td>0</td>\n",
              "      <td>0</td>\n",
              "      <td>0</td>\n",
              "      <td>0</td>\n",
              "      <td>0</td>\n",
              "      <td>0</td>\n",
              "      <td>1</td>\n",
              "      <td>0</td>\n",
              "      <td>0</td>\n",
              "      <td>0</td>\n",
              "      <td>0</td>\n",
              "      <td>0</td>\n",
              "      <td>0</td>\n",
              "      <td>0</td>\n",
              "      <td>0</td>\n",
              "      <td>0</td>\n",
              "      <td>0</td>\n",
              "      <td>0</td>\n",
              "      <td>1</td>\n",
              "      <td>0</td>\n",
              "      <td>0</td>\n",
              "      <td>0</td>\n",
              "      <td>0</td>\n",
              "      <td>0</td>\n",
              "      <td>0</td>\n",
              "    </tr>\n",
              "    <tr>\n",
              "      <th>4</th>\n",
              "      <td>train</td>\n",
              "      <td>40</td>\n",
              "      <td>1</td>\n",
              "      <td>4</td>\n",
              "      <td>2</td>\n",
              "      <td>10</td>\n",
              "      <td>1</td>\n",
              "      <td>4</td>\n",
              "      <td>1</td>\n",
              "      <td>4</td>\n",
              "      <td>7</td>\n",
              "      <td>1</td>\n",
              "      <td>2</td>\n",
              "      <td>2</td>\n",
              "      <td>4</td>\n",
              "      <td>4</td>\n",
              "      <td>5</td>\n",
              "      <td>4</td>\n",
              "      <td>0</td>\n",
              "      <td>0</td>\n",
              "      <td>5</td>\n",
              "      <td>4</td>\n",
              "      <td>0</td>\n",
              "      <td>0</td>\n",
              "      <td>0</td>\n",
              "      <td>9</td>\n",
              "      <td>0</td>\n",
              "      <td>0</td>\n",
              "      <td>0</td>\n",
              "      <td>0</td>\n",
              "      <td>4</td>\n",
              "      <td>5</td>\n",
              "      <td>6</td>\n",
              "      <td>2</td>\n",
              "      <td>1</td>\n",
              "      <td>5</td>\n",
              "      <td>4</td>\n",
              "      <td>0</td>\n",
              "      <td>0</td>\n",
              "      <td>9</td>\n",
              "      <td>...</td>\n",
              "      <td>0</td>\n",
              "      <td>0</td>\n",
              "      <td>0</td>\n",
              "      <td>0</td>\n",
              "      <td>0</td>\n",
              "      <td>0</td>\n",
              "      <td>0</td>\n",
              "      <td>0</td>\n",
              "      <td>0</td>\n",
              "      <td>0</td>\n",
              "      <td>0</td>\n",
              "      <td>0</td>\n",
              "      <td>6</td>\n",
              "      <td>0</td>\n",
              "      <td>0</td>\n",
              "      <td>0</td>\n",
              "      <td>0</td>\n",
              "      <td>0</td>\n",
              "      <td>0</td>\n",
              "      <td>0</td>\n",
              "      <td>0</td>\n",
              "      <td>0</td>\n",
              "      <td>0</td>\n",
              "      <td>0</td>\n",
              "      <td>0</td>\n",
              "      <td>0</td>\n",
              "      <td>0</td>\n",
              "      <td>0</td>\n",
              "      <td>0</td>\n",
              "      <td>0</td>\n",
              "      <td>0</td>\n",
              "      <td>0</td>\n",
              "      <td>0</td>\n",
              "      <td>1</td>\n",
              "      <td>0</td>\n",
              "      <td>0</td>\n",
              "      <td>0</td>\n",
              "      <td>0</td>\n",
              "      <td>0</td>\n",
              "      <td>0</td>\n",
              "    </tr>\n",
              "  </tbody>\n",
              "</table>\n",
              "<p>5 rows × 87 columns</p>\n",
              "</div>"
            ],
            "text/plain": [
              "  ORIGIN  MOSTYPE  MAANTHUI  MGEMOMV  ...  AFIETS  AINBOED  ABYSTAND  CARAVAN\n",
              "0  train       33         1        3  ...       0        0         0        0\n",
              "1  train       37         1        2  ...       0        0         0        0\n",
              "2  train       37         1        2  ...       0        0         0        0\n",
              "3  train        9         1        3  ...       0        0         0        0\n",
              "4  train       40         1        4  ...       0        0         0        0\n",
              "\n",
              "[5 rows x 87 columns]"
            ]
          },
          "metadata": {},
          "execution_count": 175
        }
      ]
    },
    {
      "cell_type": "code",
      "metadata": {
        "colab": {
          "base_uri": "https://localhost:8080/"
        },
        "id": "UoaHtX2n_S7N",
        "scrolled": true,
        "outputId": "d5d1435f-312d-4bf2-8878-5ee6c7fbfd7e"
      },
      "source": [
        "data_all.info()  #viewing a summary of the dataframe"
      ],
      "execution_count": null,
      "outputs": [
        {
          "output_type": "stream",
          "text": [
            "<class 'pandas.core.frame.DataFrame'>\n",
            "RangeIndex: 9822 entries, 0 to 9821\n",
            "Data columns (total 87 columns):\n",
            " #   Column    Non-Null Count  Dtype \n",
            "---  ------    --------------  ----- \n",
            " 0   ORIGIN    9822 non-null   object\n",
            " 1   MOSTYPE   9822 non-null   int64 \n",
            " 2   MAANTHUI  9822 non-null   int64 \n",
            " 3   MGEMOMV   9822 non-null   int64 \n",
            " 4   MGEMLEEF  9822 non-null   int64 \n",
            " 5   MOSHOOFD  9822 non-null   int64 \n",
            " 6   MGODRK    9822 non-null   int64 \n",
            " 7   MGODPR    9822 non-null   int64 \n",
            " 8   MGODOV    9822 non-null   int64 \n",
            " 9   MGODGE    9822 non-null   int64 \n",
            " 10  MRELGE    9822 non-null   int64 \n",
            " 11  MRELSA    9822 non-null   int64 \n",
            " 12  MRELOV    9822 non-null   int64 \n",
            " 13  MFALLEEN  9822 non-null   int64 \n",
            " 14  MFGEKIND  9822 non-null   int64 \n",
            " 15  MFWEKIND  9822 non-null   int64 \n",
            " 16  MOPLHOOG  9822 non-null   int64 \n",
            " 17  MOPLMIDD  9822 non-null   int64 \n",
            " 18  MOPLLAAG  9822 non-null   int64 \n",
            " 19  MBERHOOG  9822 non-null   int64 \n",
            " 20  MBERZELF  9822 non-null   int64 \n",
            " 21  MBERBOER  9822 non-null   int64 \n",
            " 22  MBERMIDD  9822 non-null   int64 \n",
            " 23  MBERARBG  9822 non-null   int64 \n",
            " 24  MBERARBO  9822 non-null   int64 \n",
            " 25  MSKA      9822 non-null   int64 \n",
            " 26  MSKB1     9822 non-null   int64 \n",
            " 27  MSKB2     9822 non-null   int64 \n",
            " 28  MSKC      9822 non-null   int64 \n",
            " 29  MSKD      9822 non-null   int64 \n",
            " 30  MHHUUR    9822 non-null   int64 \n",
            " 31  MHKOOP    9822 non-null   int64 \n",
            " 32  MAUT1     9822 non-null   int64 \n",
            " 33  MAUT2     9822 non-null   int64 \n",
            " 34  MAUT0     9822 non-null   int64 \n",
            " 35  MZFONDS   9822 non-null   int64 \n",
            " 36  MZPART    9822 non-null   int64 \n",
            " 37  MINKM30   9822 non-null   int64 \n",
            " 38  MINK3045  9822 non-null   int64 \n",
            " 39  MINK4575  9822 non-null   int64 \n",
            " 40  MINK7512  9822 non-null   int64 \n",
            " 41  MINK123M  9822 non-null   int64 \n",
            " 42  MINKGEM   9822 non-null   int64 \n",
            " 43  MKOOPKLA  9822 non-null   int64 \n",
            " 44  PWAPART   9822 non-null   int64 \n",
            " 45  PWABEDR   9822 non-null   int64 \n",
            " 46  PWALAND   9822 non-null   int64 \n",
            " 47  PPERSAUT  9822 non-null   int64 \n",
            " 48  PBESAUT   9822 non-null   int64 \n",
            " 49  PMOTSCO   9822 non-null   int64 \n",
            " 50  PVRAAUT   9822 non-null   int64 \n",
            " 51  PAANHANG  9822 non-null   int64 \n",
            " 52  PTRACTOR  9822 non-null   int64 \n",
            " 53  PWERKT    9822 non-null   int64 \n",
            " 54  PBROM     9822 non-null   int64 \n",
            " 55  PLEVEN    9822 non-null   int64 \n",
            " 56  PPERSONG  9822 non-null   int64 \n",
            " 57  PGEZONG   9822 non-null   int64 \n",
            " 58  PWAOREG   9822 non-null   int64 \n",
            " 59  PBRAND    9822 non-null   int64 \n",
            " 60  PZEILPL   9822 non-null   int64 \n",
            " 61  PPLEZIER  9822 non-null   int64 \n",
            " 62  PFIETS    9822 non-null   int64 \n",
            " 63  PINBOED   9822 non-null   int64 \n",
            " 64  PBYSTAND  9822 non-null   int64 \n",
            " 65  AWAPART   9822 non-null   int64 \n",
            " 66  AWABEDR   9822 non-null   int64 \n",
            " 67  AWALAND   9822 non-null   int64 \n",
            " 68  APERSAUT  9822 non-null   int64 \n",
            " 69  ABESAUT   9822 non-null   int64 \n",
            " 70  AMOTSCO   9822 non-null   int64 \n",
            " 71  AVRAAUT   9822 non-null   int64 \n",
            " 72  AAANHANG  9822 non-null   int64 \n",
            " 73  ATRACTOR  9822 non-null   int64 \n",
            " 74  AWERKT    9822 non-null   int64 \n",
            " 75  ABROM     9822 non-null   int64 \n",
            " 76  ALEVEN    9822 non-null   int64 \n",
            " 77  APERSONG  9822 non-null   int64 \n",
            " 78  AGEZONG   9822 non-null   int64 \n",
            " 79  AWAOREG   9822 non-null   int64 \n",
            " 80  ABRAND    9822 non-null   int64 \n",
            " 81  AZEILPL   9822 non-null   int64 \n",
            " 82  APLEZIER  9822 non-null   int64 \n",
            " 83  AFIETS    9822 non-null   int64 \n",
            " 84  AINBOED   9822 non-null   int64 \n",
            " 85  ABYSTAND  9822 non-null   int64 \n",
            " 86  CARAVAN   9822 non-null   int64 \n",
            "dtypes: int64(86), object(1)\n",
            "memory usage: 6.5+ MB\n"
          ],
          "name": "stdout"
        }
      ]
    },
    {
      "cell_type": "code",
      "metadata": {
        "colab": {
          "base_uri": "https://localhost:8080/"
        },
        "id": "FEoJr1yG_S7O",
        "outputId": "c56dd6e0-d3b4-4ec0-9298-3854620c8fbf"
      },
      "source": [
        "data_all[\"ORIGIN\"].value_counts()  #value count of train & test set"
      ],
      "execution_count": null,
      "outputs": [
        {
          "output_type": "execute_result",
          "data": {
            "text/plain": [
              "train    5822\n",
              "test     4000\n",
              "Name: ORIGIN, dtype: int64"
            ]
          },
          "metadata": {},
          "execution_count": 177
        }
      ]
    },
    {
      "cell_type": "code",
      "metadata": {
        "colab": {
          "base_uri": "https://localhost:8080/",
          "height": 349
        },
        "id": "Si6fr-Ns_S7P",
        "outputId": "b04c4a39-2cb1-4fd1-950e-5b09217b0ded"
      },
      "source": [
        "data_all.describe()"
      ],
      "execution_count": null,
      "outputs": [
        {
          "output_type": "execute_result",
          "data": {
            "text/html": [
              "<div>\n",
              "<style scoped>\n",
              "    .dataframe tbody tr th:only-of-type {\n",
              "        vertical-align: middle;\n",
              "    }\n",
              "\n",
              "    .dataframe tbody tr th {\n",
              "        vertical-align: top;\n",
              "    }\n",
              "\n",
              "    .dataframe thead th {\n",
              "        text-align: right;\n",
              "    }\n",
              "</style>\n",
              "<table border=\"1\" class=\"dataframe\">\n",
              "  <thead>\n",
              "    <tr style=\"text-align: right;\">\n",
              "      <th></th>\n",
              "      <th>MOSTYPE</th>\n",
              "      <th>MAANTHUI</th>\n",
              "      <th>MGEMOMV</th>\n",
              "      <th>MGEMLEEF</th>\n",
              "      <th>MOSHOOFD</th>\n",
              "      <th>MGODRK</th>\n",
              "      <th>MGODPR</th>\n",
              "      <th>MGODOV</th>\n",
              "      <th>MGODGE</th>\n",
              "      <th>MRELGE</th>\n",
              "      <th>MRELSA</th>\n",
              "      <th>MRELOV</th>\n",
              "      <th>MFALLEEN</th>\n",
              "      <th>MFGEKIND</th>\n",
              "      <th>MFWEKIND</th>\n",
              "      <th>MOPLHOOG</th>\n",
              "      <th>MOPLMIDD</th>\n",
              "      <th>MOPLLAAG</th>\n",
              "      <th>MBERHOOG</th>\n",
              "      <th>MBERZELF</th>\n",
              "      <th>MBERBOER</th>\n",
              "      <th>MBERMIDD</th>\n",
              "      <th>MBERARBG</th>\n",
              "      <th>MBERARBO</th>\n",
              "      <th>MSKA</th>\n",
              "      <th>MSKB1</th>\n",
              "      <th>MSKB2</th>\n",
              "      <th>MSKC</th>\n",
              "      <th>MSKD</th>\n",
              "      <th>MHHUUR</th>\n",
              "      <th>MHKOOP</th>\n",
              "      <th>MAUT1</th>\n",
              "      <th>MAUT2</th>\n",
              "      <th>MAUT0</th>\n",
              "      <th>MZFONDS</th>\n",
              "      <th>MZPART</th>\n",
              "      <th>MINKM30</th>\n",
              "      <th>MINK3045</th>\n",
              "      <th>MINK4575</th>\n",
              "      <th>MINK7512</th>\n",
              "      <th>...</th>\n",
              "      <th>PPERSAUT</th>\n",
              "      <th>PBESAUT</th>\n",
              "      <th>PMOTSCO</th>\n",
              "      <th>PVRAAUT</th>\n",
              "      <th>PAANHANG</th>\n",
              "      <th>PTRACTOR</th>\n",
              "      <th>PWERKT</th>\n",
              "      <th>PBROM</th>\n",
              "      <th>PLEVEN</th>\n",
              "      <th>PPERSONG</th>\n",
              "      <th>PGEZONG</th>\n",
              "      <th>PWAOREG</th>\n",
              "      <th>PBRAND</th>\n",
              "      <th>PZEILPL</th>\n",
              "      <th>PPLEZIER</th>\n",
              "      <th>PFIETS</th>\n",
              "      <th>PINBOED</th>\n",
              "      <th>PBYSTAND</th>\n",
              "      <th>AWAPART</th>\n",
              "      <th>AWABEDR</th>\n",
              "      <th>AWALAND</th>\n",
              "      <th>APERSAUT</th>\n",
              "      <th>ABESAUT</th>\n",
              "      <th>AMOTSCO</th>\n",
              "      <th>AVRAAUT</th>\n",
              "      <th>AAANHANG</th>\n",
              "      <th>ATRACTOR</th>\n",
              "      <th>AWERKT</th>\n",
              "      <th>ABROM</th>\n",
              "      <th>ALEVEN</th>\n",
              "      <th>APERSONG</th>\n",
              "      <th>AGEZONG</th>\n",
              "      <th>AWAOREG</th>\n",
              "      <th>ABRAND</th>\n",
              "      <th>AZEILPL</th>\n",
              "      <th>APLEZIER</th>\n",
              "      <th>AFIETS</th>\n",
              "      <th>AINBOED</th>\n",
              "      <th>ABYSTAND</th>\n",
              "      <th>CARAVAN</th>\n",
              "    </tr>\n",
              "  </thead>\n",
              "  <tbody>\n",
              "    <tr>\n",
              "      <th>count</th>\n",
              "      <td>9822.000000</td>\n",
              "      <td>9822.000000</td>\n",
              "      <td>9822.000000</td>\n",
              "      <td>9822.000000</td>\n",
              "      <td>9822.000000</td>\n",
              "      <td>9822.000000</td>\n",
              "      <td>9822.000000</td>\n",
              "      <td>9822.000000</td>\n",
              "      <td>9822.000000</td>\n",
              "      <td>9822.000000</td>\n",
              "      <td>9822.000000</td>\n",
              "      <td>9822.000000</td>\n",
              "      <td>9822.000000</td>\n",
              "      <td>9822.000000</td>\n",
              "      <td>9822.000000</td>\n",
              "      <td>9822.000000</td>\n",
              "      <td>9822.000000</td>\n",
              "      <td>9822.000000</td>\n",
              "      <td>9822.000000</td>\n",
              "      <td>9822.000000</td>\n",
              "      <td>9822.000000</td>\n",
              "      <td>9822.000000</td>\n",
              "      <td>9822.000000</td>\n",
              "      <td>9822.000000</td>\n",
              "      <td>9822.000000</td>\n",
              "      <td>9822.000000</td>\n",
              "      <td>9822.000000</td>\n",
              "      <td>9822.000000</td>\n",
              "      <td>9822.000000</td>\n",
              "      <td>9822.000000</td>\n",
              "      <td>9822.000000</td>\n",
              "      <td>9822.000000</td>\n",
              "      <td>9822.000000</td>\n",
              "      <td>9822.000000</td>\n",
              "      <td>9822.000000</td>\n",
              "      <td>9822.000000</td>\n",
              "      <td>9822.000000</td>\n",
              "      <td>9822.000000</td>\n",
              "      <td>9822.000000</td>\n",
              "      <td>9822.000000</td>\n",
              "      <td>...</td>\n",
              "      <td>9822.000000</td>\n",
              "      <td>9822.000000</td>\n",
              "      <td>9822.000000</td>\n",
              "      <td>9822.000000</td>\n",
              "      <td>9822.000000</td>\n",
              "      <td>9822.000000</td>\n",
              "      <td>9822.000000</td>\n",
              "      <td>9822.000000</td>\n",
              "      <td>9822.000000</td>\n",
              "      <td>9822.000000</td>\n",
              "      <td>9822.000000</td>\n",
              "      <td>9822.000000</td>\n",
              "      <td>9822.000000</td>\n",
              "      <td>9822.000000</td>\n",
              "      <td>9822.000000</td>\n",
              "      <td>9822.000000</td>\n",
              "      <td>9822.000000</td>\n",
              "      <td>9822.000000</td>\n",
              "      <td>9822.000000</td>\n",
              "      <td>9822.000000</td>\n",
              "      <td>9822.000000</td>\n",
              "      <td>9822.000000</td>\n",
              "      <td>9822.000000</td>\n",
              "      <td>9822.000000</td>\n",
              "      <td>9822.000000</td>\n",
              "      <td>9822.000000</td>\n",
              "      <td>9822.000000</td>\n",
              "      <td>9822.000000</td>\n",
              "      <td>9822.000000</td>\n",
              "      <td>9822.000000</td>\n",
              "      <td>9822.000000</td>\n",
              "      <td>9822.000000</td>\n",
              "      <td>9822.000000</td>\n",
              "      <td>9822.000000</td>\n",
              "      <td>9822.000000</td>\n",
              "      <td>9822.000000</td>\n",
              "      <td>9822.00000</td>\n",
              "      <td>9822.000000</td>\n",
              "      <td>9822.000000</td>\n",
              "      <td>9822.000000</td>\n",
              "    </tr>\n",
              "    <tr>\n",
              "      <th>mean</th>\n",
              "      <td>24.253207</td>\n",
              "      <td>1.108735</td>\n",
              "      <td>2.677561</td>\n",
              "      <td>2.996437</td>\n",
              "      <td>5.779067</td>\n",
              "      <td>0.700672</td>\n",
              "      <td>4.637650</td>\n",
              "      <td>1.050092</td>\n",
              "      <td>3.262981</td>\n",
              "      <td>6.188964</td>\n",
              "      <td>0.873142</td>\n",
              "      <td>2.286602</td>\n",
              "      <td>1.887294</td>\n",
              "      <td>3.237324</td>\n",
              "      <td>4.302891</td>\n",
              "      <td>1.484525</td>\n",
              "      <td>3.307269</td>\n",
              "      <td>4.592038</td>\n",
              "      <td>1.898799</td>\n",
              "      <td>0.403278</td>\n",
              "      <td>0.545714</td>\n",
              "      <td>2.877113</td>\n",
              "      <td>2.226532</td>\n",
              "      <td>2.291183</td>\n",
              "      <td>1.650682</td>\n",
              "      <td>1.595093</td>\n",
              "      <td>2.204744</td>\n",
              "      <td>3.742211</td>\n",
              "      <td>1.068214</td>\n",
              "      <td>4.187742</td>\n",
              "      <td>4.819487</td>\n",
              "      <td>6.022501</td>\n",
              "      <td>1.335980</td>\n",
              "      <td>1.956730</td>\n",
              "      <td>6.254327</td>\n",
              "      <td>2.750662</td>\n",
              "      <td>2.577072</td>\n",
              "      <td>3.505498</td>\n",
              "      <td>2.739462</td>\n",
              "      <td>0.808491</td>\n",
              "      <td>...</td>\n",
              "      <td>2.956424</td>\n",
              "      <td>0.054877</td>\n",
              "      <td>0.170841</td>\n",
              "      <td>0.008858</td>\n",
              "      <td>0.019344</td>\n",
              "      <td>0.093565</td>\n",
              "      <td>0.011505</td>\n",
              "      <td>0.215027</td>\n",
              "      <td>0.202301</td>\n",
              "      <td>0.011505</td>\n",
              "      <td>0.018733</td>\n",
              "      <td>0.023315</td>\n",
              "      <td>1.849420</td>\n",
              "      <td>0.001629</td>\n",
              "      <td>0.015272</td>\n",
              "      <td>0.025351</td>\n",
              "      <td>0.016697</td>\n",
              "      <td>0.045408</td>\n",
              "      <td>0.400020</td>\n",
              "      <td>0.014050</td>\n",
              "      <td>0.021279</td>\n",
              "      <td>0.557218</td>\n",
              "      <td>0.011098</td>\n",
              "      <td>0.040216</td>\n",
              "      <td>0.002240</td>\n",
              "      <td>0.011403</td>\n",
              "      <td>0.034413</td>\n",
              "      <td>0.005192</td>\n",
              "      <td>0.071065</td>\n",
              "      <td>0.079821</td>\n",
              "      <td>0.004582</td>\n",
              "      <td>0.007941</td>\n",
              "      <td>0.004276</td>\n",
              "      <td>0.574018</td>\n",
              "      <td>0.000916</td>\n",
              "      <td>0.005091</td>\n",
              "      <td>0.03146</td>\n",
              "      <td>0.008450</td>\n",
              "      <td>0.013846</td>\n",
              "      <td>0.059662</td>\n",
              "    </tr>\n",
              "    <tr>\n",
              "      <th>std</th>\n",
              "      <td>12.918058</td>\n",
              "      <td>0.412101</td>\n",
              "      <td>0.780701</td>\n",
              "      <td>0.804660</td>\n",
              "      <td>2.874148</td>\n",
              "      <td>1.015107</td>\n",
              "      <td>1.721212</td>\n",
              "      <td>1.011156</td>\n",
              "      <td>1.606287</td>\n",
              "      <td>1.896070</td>\n",
              "      <td>0.961955</td>\n",
              "      <td>1.710674</td>\n",
              "      <td>1.779238</td>\n",
              "      <td>1.609139</td>\n",
              "      <td>1.984152</td>\n",
              "      <td>1.645968</td>\n",
              "      <td>1.723377</td>\n",
              "      <td>2.279839</td>\n",
              "      <td>1.814406</td>\n",
              "      <td>0.786792</td>\n",
              "      <td>1.106349</td>\n",
              "      <td>1.846703</td>\n",
              "      <td>1.748025</td>\n",
              "      <td>1.684008</td>\n",
              "      <td>1.742410</td>\n",
              "      <td>1.321487</td>\n",
              "      <td>1.534163</td>\n",
              "      <td>1.944900</td>\n",
              "      <td>1.298229</td>\n",
              "      <td>3.093127</td>\n",
              "      <td>3.093541</td>\n",
              "      <td>1.543980</td>\n",
              "      <td>1.213627</td>\n",
              "      <td>1.596842</td>\n",
              "      <td>2.000374</td>\n",
              "      <td>2.002960</td>\n",
              "      <td>2.073125</td>\n",
              "      <td>1.871365</td>\n",
              "      <td>1.950625</td>\n",
              "      <td>1.173771</td>\n",
              "      <td>...</td>\n",
              "      <td>2.921736</td>\n",
              "      <td>0.566108</td>\n",
              "      <td>0.888518</td>\n",
              "      <td>0.237556</td>\n",
              "      <td>0.200885</td>\n",
              "      <td>0.604350</td>\n",
              "      <td>0.215408</td>\n",
              "      <td>0.810899</td>\n",
              "      <td>0.910574</td>\n",
              "      <td>0.188699</td>\n",
              "      <td>0.213712</td>\n",
              "      <td>0.375350</td>\n",
              "      <td>1.881271</td>\n",
              "      <td>0.057058</td>\n",
              "      <td>0.244210</td>\n",
              "      <td>0.157198</td>\n",
              "      <td>0.211487</td>\n",
              "      <td>0.396983</td>\n",
              "      <td>0.492001</td>\n",
              "      <td>0.126058</td>\n",
              "      <td>0.144319</td>\n",
              "      <td>0.608575</td>\n",
              "      <td>0.129928</td>\n",
              "      <td>0.223622</td>\n",
              "      <td>0.068402</td>\n",
              "      <td>0.116251</td>\n",
              "      <td>0.249706</td>\n",
              "      <td>0.109954</td>\n",
              "      <td>0.267432</td>\n",
              "      <td>0.384431</td>\n",
              "      <td>0.067535</td>\n",
              "      <td>0.088764</td>\n",
              "      <td>0.071224</td>\n",
              "      <td>0.561255</td>\n",
              "      <td>0.030258</td>\n",
              "      <td>0.077996</td>\n",
              "      <td>0.20907</td>\n",
              "      <td>0.092647</td>\n",
              "      <td>0.117728</td>\n",
              "      <td>0.236872</td>\n",
              "    </tr>\n",
              "    <tr>\n",
              "      <th>min</th>\n",
              "      <td>1.000000</td>\n",
              "      <td>1.000000</td>\n",
              "      <td>1.000000</td>\n",
              "      <td>1.000000</td>\n",
              "      <td>1.000000</td>\n",
              "      <td>0.000000</td>\n",
              "      <td>0.000000</td>\n",
              "      <td>0.000000</td>\n",
              "      <td>0.000000</td>\n",
              "      <td>0.000000</td>\n",
              "      <td>0.000000</td>\n",
              "      <td>0.000000</td>\n",
              "      <td>0.000000</td>\n",
              "      <td>0.000000</td>\n",
              "      <td>0.000000</td>\n",
              "      <td>0.000000</td>\n",
              "      <td>0.000000</td>\n",
              "      <td>0.000000</td>\n",
              "      <td>0.000000</td>\n",
              "      <td>0.000000</td>\n",
              "      <td>0.000000</td>\n",
              "      <td>0.000000</td>\n",
              "      <td>0.000000</td>\n",
              "      <td>0.000000</td>\n",
              "      <td>0.000000</td>\n",
              "      <td>0.000000</td>\n",
              "      <td>0.000000</td>\n",
              "      <td>0.000000</td>\n",
              "      <td>0.000000</td>\n",
              "      <td>0.000000</td>\n",
              "      <td>0.000000</td>\n",
              "      <td>0.000000</td>\n",
              "      <td>0.000000</td>\n",
              "      <td>0.000000</td>\n",
              "      <td>0.000000</td>\n",
              "      <td>0.000000</td>\n",
              "      <td>0.000000</td>\n",
              "      <td>0.000000</td>\n",
              "      <td>0.000000</td>\n",
              "      <td>0.000000</td>\n",
              "      <td>...</td>\n",
              "      <td>0.000000</td>\n",
              "      <td>0.000000</td>\n",
              "      <td>0.000000</td>\n",
              "      <td>0.000000</td>\n",
              "      <td>0.000000</td>\n",
              "      <td>0.000000</td>\n",
              "      <td>0.000000</td>\n",
              "      <td>0.000000</td>\n",
              "      <td>0.000000</td>\n",
              "      <td>0.000000</td>\n",
              "      <td>0.000000</td>\n",
              "      <td>0.000000</td>\n",
              "      <td>0.000000</td>\n",
              "      <td>0.000000</td>\n",
              "      <td>0.000000</td>\n",
              "      <td>0.000000</td>\n",
              "      <td>0.000000</td>\n",
              "      <td>0.000000</td>\n",
              "      <td>0.000000</td>\n",
              "      <td>0.000000</td>\n",
              "      <td>0.000000</td>\n",
              "      <td>0.000000</td>\n",
              "      <td>0.000000</td>\n",
              "      <td>0.000000</td>\n",
              "      <td>0.000000</td>\n",
              "      <td>0.000000</td>\n",
              "      <td>0.000000</td>\n",
              "      <td>0.000000</td>\n",
              "      <td>0.000000</td>\n",
              "      <td>0.000000</td>\n",
              "      <td>0.000000</td>\n",
              "      <td>0.000000</td>\n",
              "      <td>0.000000</td>\n",
              "      <td>0.000000</td>\n",
              "      <td>0.000000</td>\n",
              "      <td>0.000000</td>\n",
              "      <td>0.00000</td>\n",
              "      <td>0.000000</td>\n",
              "      <td>0.000000</td>\n",
              "      <td>0.000000</td>\n",
              "    </tr>\n",
              "    <tr>\n",
              "      <th>25%</th>\n",
              "      <td>10.000000</td>\n",
              "      <td>1.000000</td>\n",
              "      <td>2.000000</td>\n",
              "      <td>2.000000</td>\n",
              "      <td>3.000000</td>\n",
              "      <td>0.000000</td>\n",
              "      <td>4.000000</td>\n",
              "      <td>0.000000</td>\n",
              "      <td>2.000000</td>\n",
              "      <td>5.000000</td>\n",
              "      <td>0.000000</td>\n",
              "      <td>1.000000</td>\n",
              "      <td>0.000000</td>\n",
              "      <td>2.000000</td>\n",
              "      <td>3.000000</td>\n",
              "      <td>0.000000</td>\n",
              "      <td>2.000000</td>\n",
              "      <td>3.000000</td>\n",
              "      <td>0.000000</td>\n",
              "      <td>0.000000</td>\n",
              "      <td>0.000000</td>\n",
              "      <td>2.000000</td>\n",
              "      <td>1.000000</td>\n",
              "      <td>1.000000</td>\n",
              "      <td>0.000000</td>\n",
              "      <td>1.000000</td>\n",
              "      <td>1.000000</td>\n",
              "      <td>2.000000</td>\n",
              "      <td>0.000000</td>\n",
              "      <td>2.000000</td>\n",
              "      <td>2.000000</td>\n",
              "      <td>5.000000</td>\n",
              "      <td>0.000000</td>\n",
              "      <td>0.000000</td>\n",
              "      <td>5.000000</td>\n",
              "      <td>1.000000</td>\n",
              "      <td>1.000000</td>\n",
              "      <td>2.000000</td>\n",
              "      <td>1.000000</td>\n",
              "      <td>0.000000</td>\n",
              "      <td>...</td>\n",
              "      <td>0.000000</td>\n",
              "      <td>0.000000</td>\n",
              "      <td>0.000000</td>\n",
              "      <td>0.000000</td>\n",
              "      <td>0.000000</td>\n",
              "      <td>0.000000</td>\n",
              "      <td>0.000000</td>\n",
              "      <td>0.000000</td>\n",
              "      <td>0.000000</td>\n",
              "      <td>0.000000</td>\n",
              "      <td>0.000000</td>\n",
              "      <td>0.000000</td>\n",
              "      <td>0.000000</td>\n",
              "      <td>0.000000</td>\n",
              "      <td>0.000000</td>\n",
              "      <td>0.000000</td>\n",
              "      <td>0.000000</td>\n",
              "      <td>0.000000</td>\n",
              "      <td>0.000000</td>\n",
              "      <td>0.000000</td>\n",
              "      <td>0.000000</td>\n",
              "      <td>0.000000</td>\n",
              "      <td>0.000000</td>\n",
              "      <td>0.000000</td>\n",
              "      <td>0.000000</td>\n",
              "      <td>0.000000</td>\n",
              "      <td>0.000000</td>\n",
              "      <td>0.000000</td>\n",
              "      <td>0.000000</td>\n",
              "      <td>0.000000</td>\n",
              "      <td>0.000000</td>\n",
              "      <td>0.000000</td>\n",
              "      <td>0.000000</td>\n",
              "      <td>0.000000</td>\n",
              "      <td>0.000000</td>\n",
              "      <td>0.000000</td>\n",
              "      <td>0.00000</td>\n",
              "      <td>0.000000</td>\n",
              "      <td>0.000000</td>\n",
              "      <td>0.000000</td>\n",
              "    </tr>\n",
              "    <tr>\n",
              "      <th>50%</th>\n",
              "      <td>30.000000</td>\n",
              "      <td>1.000000</td>\n",
              "      <td>3.000000</td>\n",
              "      <td>3.000000</td>\n",
              "      <td>7.000000</td>\n",
              "      <td>0.000000</td>\n",
              "      <td>5.000000</td>\n",
              "      <td>1.000000</td>\n",
              "      <td>3.000000</td>\n",
              "      <td>6.000000</td>\n",
              "      <td>1.000000</td>\n",
              "      <td>2.000000</td>\n",
              "      <td>2.000000</td>\n",
              "      <td>3.000000</td>\n",
              "      <td>4.000000</td>\n",
              "      <td>1.000000</td>\n",
              "      <td>3.000000</td>\n",
              "      <td>5.000000</td>\n",
              "      <td>2.000000</td>\n",
              "      <td>0.000000</td>\n",
              "      <td>0.000000</td>\n",
              "      <td>3.000000</td>\n",
              "      <td>2.000000</td>\n",
              "      <td>2.000000</td>\n",
              "      <td>1.000000</td>\n",
              "      <td>2.000000</td>\n",
              "      <td>2.000000</td>\n",
              "      <td>4.000000</td>\n",
              "      <td>1.000000</td>\n",
              "      <td>4.000000</td>\n",
              "      <td>5.000000</td>\n",
              "      <td>6.000000</td>\n",
              "      <td>1.000000</td>\n",
              "      <td>2.000000</td>\n",
              "      <td>7.000000</td>\n",
              "      <td>2.000000</td>\n",
              "      <td>2.000000</td>\n",
              "      <td>4.000000</td>\n",
              "      <td>3.000000</td>\n",
              "      <td>0.000000</td>\n",
              "      <td>...</td>\n",
              "      <td>5.000000</td>\n",
              "      <td>0.000000</td>\n",
              "      <td>0.000000</td>\n",
              "      <td>0.000000</td>\n",
              "      <td>0.000000</td>\n",
              "      <td>0.000000</td>\n",
              "      <td>0.000000</td>\n",
              "      <td>0.000000</td>\n",
              "      <td>0.000000</td>\n",
              "      <td>0.000000</td>\n",
              "      <td>0.000000</td>\n",
              "      <td>0.000000</td>\n",
              "      <td>2.000000</td>\n",
              "      <td>0.000000</td>\n",
              "      <td>0.000000</td>\n",
              "      <td>0.000000</td>\n",
              "      <td>0.000000</td>\n",
              "      <td>0.000000</td>\n",
              "      <td>0.000000</td>\n",
              "      <td>0.000000</td>\n",
              "      <td>0.000000</td>\n",
              "      <td>1.000000</td>\n",
              "      <td>0.000000</td>\n",
              "      <td>0.000000</td>\n",
              "      <td>0.000000</td>\n",
              "      <td>0.000000</td>\n",
              "      <td>0.000000</td>\n",
              "      <td>0.000000</td>\n",
              "      <td>0.000000</td>\n",
              "      <td>0.000000</td>\n",
              "      <td>0.000000</td>\n",
              "      <td>0.000000</td>\n",
              "      <td>0.000000</td>\n",
              "      <td>1.000000</td>\n",
              "      <td>0.000000</td>\n",
              "      <td>0.000000</td>\n",
              "      <td>0.00000</td>\n",
              "      <td>0.000000</td>\n",
              "      <td>0.000000</td>\n",
              "      <td>0.000000</td>\n",
              "    </tr>\n",
              "    <tr>\n",
              "      <th>75%</th>\n",
              "      <td>35.000000</td>\n",
              "      <td>1.000000</td>\n",
              "      <td>3.000000</td>\n",
              "      <td>3.000000</td>\n",
              "      <td>8.000000</td>\n",
              "      <td>1.000000</td>\n",
              "      <td>6.000000</td>\n",
              "      <td>2.000000</td>\n",
              "      <td>4.000000</td>\n",
              "      <td>7.000000</td>\n",
              "      <td>1.000000</td>\n",
              "      <td>3.000000</td>\n",
              "      <td>3.000000</td>\n",
              "      <td>4.000000</td>\n",
              "      <td>6.000000</td>\n",
              "      <td>2.000000</td>\n",
              "      <td>4.000000</td>\n",
              "      <td>6.000000</td>\n",
              "      <td>3.000000</td>\n",
              "      <td>1.000000</td>\n",
              "      <td>1.000000</td>\n",
              "      <td>4.000000</td>\n",
              "      <td>3.000000</td>\n",
              "      <td>3.000000</td>\n",
              "      <td>2.000000</td>\n",
              "      <td>2.000000</td>\n",
              "      <td>3.000000</td>\n",
              "      <td>5.000000</td>\n",
              "      <td>2.000000</td>\n",
              "      <td>7.000000</td>\n",
              "      <td>7.000000</td>\n",
              "      <td>7.000000</td>\n",
              "      <td>2.000000</td>\n",
              "      <td>3.000000</td>\n",
              "      <td>8.000000</td>\n",
              "      <td>4.000000</td>\n",
              "      <td>4.000000</td>\n",
              "      <td>5.000000</td>\n",
              "      <td>4.000000</td>\n",
              "      <td>1.000000</td>\n",
              "      <td>...</td>\n",
              "      <td>6.000000</td>\n",
              "      <td>0.000000</td>\n",
              "      <td>0.000000</td>\n",
              "      <td>0.000000</td>\n",
              "      <td>0.000000</td>\n",
              "      <td>0.000000</td>\n",
              "      <td>0.000000</td>\n",
              "      <td>0.000000</td>\n",
              "      <td>0.000000</td>\n",
              "      <td>0.000000</td>\n",
              "      <td>0.000000</td>\n",
              "      <td>0.000000</td>\n",
              "      <td>4.000000</td>\n",
              "      <td>0.000000</td>\n",
              "      <td>0.000000</td>\n",
              "      <td>0.000000</td>\n",
              "      <td>0.000000</td>\n",
              "      <td>0.000000</td>\n",
              "      <td>1.000000</td>\n",
              "      <td>0.000000</td>\n",
              "      <td>0.000000</td>\n",
              "      <td>1.000000</td>\n",
              "      <td>0.000000</td>\n",
              "      <td>0.000000</td>\n",
              "      <td>0.000000</td>\n",
              "      <td>0.000000</td>\n",
              "      <td>0.000000</td>\n",
              "      <td>0.000000</td>\n",
              "      <td>0.000000</td>\n",
              "      <td>0.000000</td>\n",
              "      <td>0.000000</td>\n",
              "      <td>0.000000</td>\n",
              "      <td>0.000000</td>\n",
              "      <td>1.000000</td>\n",
              "      <td>0.000000</td>\n",
              "      <td>0.000000</td>\n",
              "      <td>0.00000</td>\n",
              "      <td>0.000000</td>\n",
              "      <td>0.000000</td>\n",
              "      <td>0.000000</td>\n",
              "    </tr>\n",
              "    <tr>\n",
              "      <th>max</th>\n",
              "      <td>41.000000</td>\n",
              "      <td>10.000000</td>\n",
              "      <td>6.000000</td>\n",
              "      <td>6.000000</td>\n",
              "      <td>10.000000</td>\n",
              "      <td>9.000000</td>\n",
              "      <td>9.000000</td>\n",
              "      <td>5.000000</td>\n",
              "      <td>9.000000</td>\n",
              "      <td>9.000000</td>\n",
              "      <td>7.000000</td>\n",
              "      <td>9.000000</td>\n",
              "      <td>9.000000</td>\n",
              "      <td>9.000000</td>\n",
              "      <td>9.000000</td>\n",
              "      <td>9.000000</td>\n",
              "      <td>9.000000</td>\n",
              "      <td>9.000000</td>\n",
              "      <td>9.000000</td>\n",
              "      <td>5.000000</td>\n",
              "      <td>9.000000</td>\n",
              "      <td>9.000000</td>\n",
              "      <td>9.000000</td>\n",
              "      <td>9.000000</td>\n",
              "      <td>9.000000</td>\n",
              "      <td>9.000000</td>\n",
              "      <td>9.000000</td>\n",
              "      <td>9.000000</td>\n",
              "      <td>9.000000</td>\n",
              "      <td>9.000000</td>\n",
              "      <td>9.000000</td>\n",
              "      <td>9.000000</td>\n",
              "      <td>9.000000</td>\n",
              "      <td>9.000000</td>\n",
              "      <td>9.000000</td>\n",
              "      <td>9.000000</td>\n",
              "      <td>9.000000</td>\n",
              "      <td>9.000000</td>\n",
              "      <td>9.000000</td>\n",
              "      <td>9.000000</td>\n",
              "      <td>...</td>\n",
              "      <td>9.000000</td>\n",
              "      <td>7.000000</td>\n",
              "      <td>7.000000</td>\n",
              "      <td>9.000000</td>\n",
              "      <td>5.000000</td>\n",
              "      <td>7.000000</td>\n",
              "      <td>6.000000</td>\n",
              "      <td>6.000000</td>\n",
              "      <td>9.000000</td>\n",
              "      <td>6.000000</td>\n",
              "      <td>3.000000</td>\n",
              "      <td>7.000000</td>\n",
              "      <td>8.000000</td>\n",
              "      <td>3.000000</td>\n",
              "      <td>6.000000</td>\n",
              "      <td>1.000000</td>\n",
              "      <td>6.000000</td>\n",
              "      <td>5.000000</td>\n",
              "      <td>2.000000</td>\n",
              "      <td>5.000000</td>\n",
              "      <td>1.000000</td>\n",
              "      <td>12.000000</td>\n",
              "      <td>5.000000</td>\n",
              "      <td>8.000000</td>\n",
              "      <td>4.000000</td>\n",
              "      <td>3.000000</td>\n",
              "      <td>6.000000</td>\n",
              "      <td>6.000000</td>\n",
              "      <td>3.000000</td>\n",
              "      <td>8.000000</td>\n",
              "      <td>1.000000</td>\n",
              "      <td>1.000000</td>\n",
              "      <td>2.000000</td>\n",
              "      <td>7.000000</td>\n",
              "      <td>1.000000</td>\n",
              "      <td>2.000000</td>\n",
              "      <td>4.00000</td>\n",
              "      <td>2.000000</td>\n",
              "      <td>2.000000</td>\n",
              "      <td>1.000000</td>\n",
              "    </tr>\n",
              "  </tbody>\n",
              "</table>\n",
              "<p>8 rows × 86 columns</p>\n",
              "</div>"
            ],
            "text/plain": [
              "           MOSTYPE     MAANTHUI  ...     ABYSTAND      CARAVAN\n",
              "count  9822.000000  9822.000000  ...  9822.000000  9822.000000\n",
              "mean     24.253207     1.108735  ...     0.013846     0.059662\n",
              "std      12.918058     0.412101  ...     0.117728     0.236872\n",
              "min       1.000000     1.000000  ...     0.000000     0.000000\n",
              "25%      10.000000     1.000000  ...     0.000000     0.000000\n",
              "50%      30.000000     1.000000  ...     0.000000     0.000000\n",
              "75%      35.000000     1.000000  ...     0.000000     0.000000\n",
              "max      41.000000    10.000000  ...     2.000000     1.000000\n",
              "\n",
              "[8 rows x 86 columns]"
            ]
          },
          "metadata": {},
          "execution_count": 178
        }
      ]
    },
    {
      "cell_type": "markdown",
      "metadata": {
        "id": "K-HKDyut_S7Q"
      },
      "source": [
        "Creating the test set"
      ]
    },
    {
      "cell_type": "code",
      "metadata": {
        "colab": {
          "base_uri": "https://localhost:8080/"
        },
        "id": "JzovE0uT_S7Q",
        "outputId": "080edc67-73c6-44a3-a8da-ca91f0325c02"
      },
      "source": [
        "data_train = data_all.loc[data_all['ORIGIN'] == 'train']\n",
        "data_test = data_all.loc[data_all['ORIGIN'] != 'train']\n",
        "print(len(data_train), \"train +\", len(data_test), \"test\")"
      ],
      "execution_count": null,
      "outputs": [
        {
          "output_type": "stream",
          "text": [
            "5822 train + 4000 test\n"
          ],
          "name": "stdout"
        }
      ]
    },
    {
      "cell_type": "code",
      "metadata": {
        "id": "01tglup9_S7R"
      },
      "source": [
        "# Removing the \"ORIGIN\" attribute as it is not needed anymore\n",
        "data_train = data_train.drop(\"ORIGIN\", axis=1)\n",
        "data_test = data_test.drop(\"ORIGIN\", axis=1)"
      ],
      "execution_count": null,
      "outputs": []
    },
    {
      "cell_type": "markdown",
      "metadata": {
        "id": "rhxlovFA_S7T"
      },
      "source": [
        "Exploring the data"
      ]
    },
    {
      "cell_type": "code",
      "metadata": {
        "id": "tP75XYGy_S7T"
      },
      "source": [
        "# Creating a copy of the training set so that we can modify\n",
        "data = data_train.copy()"
      ],
      "execution_count": null,
      "outputs": []
    },
    {
      "cell_type": "code",
      "metadata": {
        "colab": {
          "base_uri": "https://localhost:8080/"
        },
        "id": "z85nAwpV_S7V",
        "outputId": "2ca03a5e-4be8-42f7-f06a-6cb126d86e9b"
      },
      "source": [
        "# Proportion of CARAVAN data\n",
        "data['CARAVAN'].value_counts()"
      ],
      "execution_count": null,
      "outputs": [
        {
          "output_type": "execute_result",
          "data": {
            "text/plain": [
              "0    5474\n",
              "1     348\n",
              "Name: CARAVAN, dtype: int64"
            ]
          },
          "metadata": {},
          "execution_count": 182
        }
      ]
    },
    {
      "cell_type": "code",
      "metadata": {
        "id": "OTB3KGeU_S7W"
      },
      "source": [
        "corr_matrix = data.corr()"
      ],
      "execution_count": null,
      "outputs": []
    },
    {
      "cell_type": "code",
      "metadata": {
        "colab": {
          "base_uri": "https://localhost:8080/"
        },
        "id": "Z6rM_5fd_S7X",
        "outputId": "3f99c9bb-2623-4b5e-a6bf-df87e5ea6403"
      },
      "source": [
        "corr_matrix[\"CARAVAN\"].sort_values(ascending=False)"
      ],
      "execution_count": null,
      "outputs": [
        {
          "output_type": "execute_result",
          "data": {
            "text/plain": [
              "CARAVAN     1.000000\n",
              "PPERSAUT    0.150910\n",
              "APERSAUT    0.144210\n",
              "APLEZIER    0.105700\n",
              "PWAPART     0.096463\n",
              "              ...   \n",
              "MOSTYPE    -0.069385\n",
              "MAUT0      -0.076501\n",
              "MHHUUR     -0.079143\n",
              "MINKM30    -0.079765\n",
              "MOPLLAAG   -0.090561\n",
              "Name: CARAVAN, Length: 86, dtype: float64"
            ]
          },
          "metadata": {},
          "execution_count": 184
        }
      ]
    },
    {
      "cell_type": "code",
      "metadata": {
        "colab": {
          "base_uri": "https://localhost:8080/",
          "height": 1000
        },
        "id": "2QQ_A_7A_S7X",
        "outputId": "31a6207a-1be2-4034-e834-6fe15d341252"
      },
      "source": [
        "\n",
        "from pandas.plotting import scatter_matrix\n",
        "\n",
        "attributes = [\"CARAVAN\", \"PPERSAUT\", \"APERSAUT\", \"APLEZIER\", \"PWAPART\", \"MKOOPKLA\", \"PBRAND\", \"PPLEZIER\", \"MINKGEM\", \"MOPLLAAG\"]\n",
        "scatter_matrix(data[attributes], figsize=(20, 20))\n",
        "save_fig(\"scatter_matrix_plot\")\n"
      ],
      "execution_count": null,
      "outputs": [
        {
          "output_type": "stream",
          "text": [
            "Saving figure scatter_matrix_plot\n"
          ],
          "name": "stdout"
        },
        {
          "output_type": "display_data",
          "data": {
            "image/png": "[encoded data removed]",
            "text/plain": [
              "<Figure size 1440x1440 with 100 Axes>"
            ]
          },
          "metadata": {
            "needs_background": "light"
          }
        }
      ]
    },
    {
      "cell_type": "markdown",
      "metadata": {
        "id": "YCDb4N-5_S7b"
      },
      "source": [
        "Preparing the data"
      ]
    },
    {
      "cell_type": "code",
      "metadata": {
        "id": "035MApCh_S7b"
      },
      "source": [
        "target_name = [\"NO_INS\", \"HAS_INS\"]\n",
        "target_columns = [\"CARAVAN\"]\n",
        "# y_train = data_train[target_name].copy().values # to convert the dataframe to a NumPy array\n",
        "y_train = data_train[target_columns].copy()\n",
        "data = data_train.drop(target_columns, axis=1) # drop labels for training set"
      ],
      "execution_count": null,
      "outputs": []
    },
    {
      "cell_type": "code",
      "metadata": {
        "id": "uv2STYhe_S7c"
      },
      "source": [
        "y_test = data_test[target_columns].copy()\n",
        "data_test = data_test.drop(target_columns, axis=1)"
      ],
      "execution_count": null,
      "outputs": []
    },
    {
      "cell_type": "markdown",
      "metadata": {
        "id": "P0HbXkE__S7c"
      },
      "source": [
        "Cleaning the data:\n",
        "\n",
        "- Managing outliers and Managing missing values"
      ]
    },
    {
      "cell_type": "code",
      "metadata": {
        "id": "kaCUCho__S7d"
      },
      "source": [
        "from sklearn.base import BaseEstimator, TransformerMixin\n",
        "\n",
        "class DataFrameSelector(BaseEstimator, TransformerMixin):\n",
        "    def __init__(self, attribute_names):\n",
        "        self.attribute_names = attribute_names\n",
        "    def fit(self, X, y=None):\n",
        "        return self\n",
        "    def transform(self, X):\n",
        "        return X[self.attribute_names].values"
      ],
      "execution_count": null,
      "outputs": []
    },
    {
      "cell_type": "markdown",
      "metadata": {
        "id": "tqCutHg9_S7e"
      },
      "source": [
        "### Feature engineering"
      ]
    },
    {
      "cell_type": "markdown",
      "metadata": {
        "id": "gShPq3sX_S7e"
      },
      "source": [
        "Handling Text and Categorical attributes"
      ]
    },
    {
      "cell_type": "code",
      "metadata": {
        "id": "Ucrp1hxJ_S7e",
        "scrolled": true
      },
      "source": [
        "# Dummification of \"MOSTYPE\" and \"MOSHOOFD\" nominal attributes\n",
        "cat_attributes = [\"MOSTYPE\", \"MOSHOOFD\"]"
      ],
      "execution_count": null,
      "outputs": []
    },
    {
      "cell_type": "code",
      "metadata": {
        "id": "FbwO6q8P_S7f"
      },
      "source": [
        "from sklearn.pipeline import Pipeline\n",
        "from sklearn.preprocessing import LabelBinarizer\n",
        "\n",
        "# Pipeline for categorical attributes\n",
        "cat_pipeline = Pipeline([\n",
        "        ('selector', DataFrameSelector(cat_attributes)),\n",
        "        ('label_binarizer', LabelBinarizer()),\n",
        "    ])"
      ],
      "execution_count": null,
      "outputs": []
    },
    {
      "cell_type": "markdown",
      "metadata": {
        "id": "8P-TD_qp_S7f"
      },
      "source": [
        "#### Handling Numerical attributes"
      ]
    },
    {
      "cell_type": "code",
      "metadata": {
        "id": "96w2BV94_S7f"
      },
      "source": [
        "# Numerical attributes\n",
        "data_num = data.drop(cat_attributes, axis=1)\n",
        "num_attributes = list(data_num)"
      ],
      "execution_count": null,
      "outputs": []
    },
    {
      "cell_type": "code",
      "metadata": {
        "id": "fJ4QfV8__S7h"
      },
      "source": [
        "from sklearn.impute import SimpleImputer\n",
        "from sklearn.preprocessing import MinMaxScaler\n",
        "\n",
        "# Pipeline for numerical attributes\n",
        "num_pipeline = Pipeline([\n",
        "        ('selector', DataFrameSelector(num_attributes)),\n",
        "        ('SimpleImputer', SimpleImputer(strategy=\"median\")),\n",
        "        ('std_scaler', MinMaxScaler())\n",
        "    ])"
      ],
      "execution_count": null,
      "outputs": []
    },
    {
      "cell_type": "markdown",
      "metadata": {
        "id": "K1whS97W_S7h"
      },
      "source": [
        "Preparing the training set"
      ]
    },
    {
      "cell_type": "code",
      "metadata": {
        "id": "UdHyWR8__S7i"
      },
      "source": [
        "from sklearn.pipeline import Pipeline\n",
        "\n",
        "# Union of features created by previous pipelines\n",
        "from sklearn.pipeline import FeatureUnion\n",
        "\n",
        "full_pipeline = FeatureUnion(transformer_list=[\n",
        "        (\"num_pipeline\", num_pipeline),\n",
        "        (\"cat_pipeline\", cat_pipeline),\n",
        "    ])\n",
        "\n",
        "full_pipeline = num_pipeline"
      ],
      "execution_count": null,
      "outputs": []
    },
    {
      "cell_type": "code",
      "metadata": {
        "id": "eK0YxE8S_S7i"
      },
      "source": [
        "X_train = full_pipeline.fit_transform(data)"
      ],
      "execution_count": null,
      "outputs": []
    },
    {
      "cell_type": "code",
      "metadata": {
        "id": "933myTNe_S7j"
      },
      "source": [
        "features_name = num_attributes"
      ],
      "execution_count": null,
      "outputs": []
    },
    {
      "cell_type": "code",
      "metadata": {
        "colab": {
          "base_uri": "https://localhost:8080/"
        },
        "id": "y89z88yY_S7j",
        "outputId": "95c81cd5-5df4-4e23-b666-1ac0a23a6719"
      },
      "source": [
        "# Checking the shape of the prepared data\n",
        "X_train.shape"
      ],
      "execution_count": null,
      "outputs": [
        {
          "output_type": "execute_result",
          "data": {
            "text/plain": [
              "(5822, 83)"
            ]
          },
          "metadata": {},
          "execution_count": 196
        }
      ]
    },
    {
      "cell_type": "code",
      "metadata": {
        "colab": {
          "base_uri": "https://localhost:8080/"
        },
        "id": "mTJZwMfu_S7k",
        "outputId": "7edaa4ad-9acd-4d09-a036-fd7c0ff6ce43"
      },
      "source": [
        "# Transforming y_train into a shape accepted by cross_val_score and cross_val_predict methods, with only 1 dimension\n",
        "c, r = y_train.values.shape\n",
        "print(c, r)\n",
        "y_train_old = y_train\n",
        "y_train = y_train.values.reshape(c,)"
      ],
      "execution_count": null,
      "outputs": [
        {
          "output_type": "stream",
          "text": [
            "5822 1\n"
          ],
          "name": "stdout"
        }
      ]
    },
    {
      "cell_type": "markdown",
      "metadata": {
        "id": "UIbiEGlI_S7k"
      },
      "source": [
        "Preparing the test set"
      ]
    },
    {
      "cell_type": "code",
      "metadata": {
        "colab": {
          "base_uri": "https://localhost:8080/"
        },
        "id": "qp195z6g_S7l",
        "outputId": "996c486f-5d15-4269-9cb7-fc085faa2248"
      },
      "source": [
        "X_test = full_pipeline.transform(data_test)\n",
        "X_test.shape"
      ],
      "execution_count": null,
      "outputs": [
        {
          "output_type": "execute_result",
          "data": {
            "text/plain": [
              "(4000, 83)"
            ]
          },
          "metadata": {},
          "execution_count": 198
        }
      ]
    },
    {
      "cell_type": "code",
      "metadata": {
        "colab": {
          "base_uri": "https://localhost:8080/"
        },
        "id": "tJKTNi4U_S7l",
        "outputId": "a5276091-c283-44d7-cbfe-acfe8929a25f"
      },
      "source": [
        "# Transforming y_test into a shape accepted by cross_val_score and cross_val_predict methods, with only 1 dimension\n",
        "c, r = y_test.values.shape\n",
        "print(c, r)\n",
        "y_test = y_test.values.reshape(c,)"
      ],
      "execution_count": null,
      "outputs": [
        {
          "output_type": "stream",
          "text": [
            "4000 1\n"
          ],
          "name": "stdout"
        }
      ]
    },
    {
      "cell_type": "markdown",
      "metadata": {
        "id": "C3WirJg-_S7l"
      },
      "source": [
        "### Automatic feature selection"
      ]
    },
    {
      "cell_type": "markdown",
      "metadata": {
        "id": "CaxeNzX1_S7l"
      },
      "source": [
        "#### Tree-based feature selection"
      ]
    },
    {
      "cell_type": "code",
      "metadata": {
        "colab": {
          "base_uri": "https://localhost:8080/"
        },
        "id": "SuV9w3PV_S7m",
        "scrolled": true,
        "outputId": "3183dd1c-dc03-43ac-8f6e-f3fe8c7f9060"
      },
      "source": [
        "from sklearn.ensemble import ExtraTreesClassifier\n",
        "from sklearn.feature_selection import SelectFromModel\n",
        "\n",
        "print(\"Initial shape: \", X_train.shape)\n",
        "\n",
        "clf = ExtraTreesClassifier()\n",
        "clf = clf.fit(X_train, y_train)\n",
        "\n",
        "model = SelectFromModel(clf, prefit=True)\n",
        "X_new = model.transform(X_train)\n",
        "print(\"New shape: \", X_new.shape)\n",
        "\n",
        "sorted(zip(clf.feature_importances_, features_name), reverse=True)"
      ],
      "execution_count": null,
      "outputs": [
        {
          "output_type": "stream",
          "text": [
            "Initial shape:  (5822, 83)\n",
            "New shape:  (5822, 43)\n"
          ],
          "name": "stdout"
        },
        {
          "output_type": "execute_result",
          "data": {
            "text/plain": [
              "[(0.06881210392285028, 'PBRAND'),\n",
              " (0.055689606393716326, 'PPERSAUT'),\n",
              " (0.04519411934458058, 'APERSAUT'),\n",
              " (0.040210218602940814, 'MKOOPKLA'),\n",
              " (0.027140310984249433, 'ABRAND'),\n",
              " (0.025762633051629194, 'PWAPART'),\n",
              " (0.018904598442386292, 'AWAPART'),\n",
              " (0.017086577249772895, 'MOPLMIDD'),\n",
              " (0.01704076842338414, 'MOPLHOOG'),\n",
              " (0.017002130943681002, 'MBERMIDD'),\n",
              " (0.016638491049554352, 'MOPLLAAG'),\n",
              " (0.01656325779260599, 'MGODGE'),\n",
              " (0.01604083642910383, 'MINK3045'),\n",
              " (0.015947996003653108, 'MFGEKIND'),\n",
              " (0.01589209691790168, 'MGODPR'),\n",
              " (0.015771507096192048, 'MBERARBG'),\n",
              " (0.015522431317595134, 'MFWEKIND'),\n",
              " (0.015520937884093415, 'MINK4575'),\n",
              " (0.015510837553850828, 'MSKC'),\n",
              " (0.015453477358153918, 'MINKGEM'),\n",
              " (0.015304049182808713, 'MSKB1'),\n",
              " (0.015249856251014781, 'MGODOV'),\n",
              " (0.015213927666823562, 'MHKOOP'),\n",
              " (0.014945593434855346, 'MSKB2'),\n",
              " (0.014774860100343986, 'MRELGE'),\n",
              " (0.014742055487976278, 'MSKA'),\n",
              " (0.014710839296724367, 'MINK7512'),\n",
              " (0.01456067858488675, 'MHHUUR'),\n",
              " (0.014456497309296323, 'MBERARBO'),\n",
              " (0.014452092949514175, 'MBERHOOG'),\n",
              " (0.01425611956044192, 'MINKM30'),\n",
              " (0.014118205592506072, 'ALEVEN'),\n",
              " (0.013921033566839002, 'MZPART'),\n",
              " (0.013884062279715514, 'MFALLEEN'),\n",
              " (0.01384245800539609, 'MAUT1'),\n",
              " (0.013604746911256444, 'PLEVEN'),\n",
              " (0.013578074482987932, 'MGEMLEEF'),\n",
              " (0.013374552423846995, 'MZFONDS'),\n",
              " (0.01314937664740997, 'MSKD'),\n",
              " (0.012894139353738558, 'MAUT0'),\n",
              " (0.012851259682337468, 'MRELOV'),\n",
              " (0.012634571046797913, 'MGEMOMV'),\n",
              " (0.012588701179086639, 'MAUT2'),\n",
              " (0.01153442894941338, 'MRELSA'),\n",
              " (0.011493387612472223, 'APLEZIER'),\n",
              " (0.011404571516564177, 'MBERZELF'),\n",
              " (0.011000348019103498, 'MGODRK'),\n",
              " (0.010385194067188712, 'AFIETS'),\n",
              " (0.009669212955436733, 'AMOTSCO'),\n",
              " (0.009271274164313831, 'PMOTSCO'),\n",
              " (0.008917174611794417, 'PPLEZIER'),\n",
              " (0.008557819483371237, 'MAANTHUI'),\n",
              " (0.008418253718710928, 'MBERBOER'),\n",
              " (0.007843225916552852, 'PFIETS'),\n",
              " (0.007712240429688285, 'PBROM'),\n",
              " (0.007181431584311639, 'ABYSTAND'),\n",
              " (0.007181355037677627, 'ABROM'),\n",
              " (0.007069054812373026, 'MINK123M'),\n",
              " (0.0063178594164371915, 'PBYSTAND'),\n",
              " (0.004336792372539534, 'PGEZONG'),\n",
              " (0.0034455724890678253, 'AGEZONG'),\n",
              " (0.0032035384532027728, 'PWAOREG'),\n",
              " (0.0030187902231006746, 'PINBOED'),\n",
              " (0.0030074676877003344, 'AINBOED'),\n",
              " (0.002891953978769745, 'PWABEDR'),\n",
              " (0.002861300318291303, 'AWAOREG'),\n",
              " (0.0027547163037378564, 'PAANHANG'),\n",
              " (0.002679397897125079, 'AWABEDR'),\n",
              " (0.0024709050765458233, 'AAANHANG'),\n",
              " (0.0024414105988346925, 'ATRACTOR'),\n",
              " (0.002274286665645042, 'PTRACTOR'),\n",
              " (0.001299892940063895, 'PBESAUT'),\n",
              " (0.0011694491367770239, 'ABESAUT'),\n",
              " (0.0007700236637912275, 'PWALAND'),\n",
              " (0.0007294836936567972, 'AWALAND'),\n",
              " (0.0005364693383230324, 'AZEILPL'),\n",
              " (0.00046123916178551034, 'APERSONG'),\n",
              " (0.0003980153262759079, 'PZEILPL'),\n",
              " (0.00039318341529743416, 'PPERSONG'),\n",
              " (3.582697557965017e-05, 'AWERKT'),\n",
              " (2.480029000407824e-05, 'PWERKT'),\n",
              " (1.6800196454375586e-05, 'AVRAAUT'),\n",
              " (9.163743520568492e-06, 'PVRAAUT')]"
            ]
          },
          "metadata": {},
          "execution_count": 200
        }
      ]
    },
    {
      "cell_type": "markdown",
      "metadata": {
        "id": "VsQ0HbNK_S7m"
      },
      "source": [
        "#### Feature selection with recursive feature elimination"
      ]
    },
    {
      "cell_type": "code",
      "metadata": {
        "colab": {
          "base_uri": "https://localhost:8080/",
          "height": 1000
        },
        "id": "ujvq1h3w_S7n",
        "outputId": "28511029-ee51-4b04-9ce5-87d164cdd68e"
      },
      "source": [
        "import matplotlib.pyplot as plt\n",
        "from sklearn.svm import SVC\n",
        "from sklearn.model_selection import StratifiedKFold\n",
        "from sklearn.feature_selection import RFECV\n",
        "from sklearn.tree import DecisionTreeClassifier\n",
        "\n",
        "# Creating the RFE object and computing a cross-validated score.\n",
        "svc = SVC(kernel=\"linear\")\n",
        "dt = DecisionTreeClassifier(class_weight=None, criterion='gini', max_depth=10, max_leaf_nodes=None, min_impurity_decrease=0, min_impurity_split=None, min_samples_leaf=0.1, min_samples_split=2, min_weight_fraction_leaf=0.0, presort=False, random_state=None, splitter='best')\n",
        "\n",
        "# The \"accuracy\" scoring is proportional to the number of correct classifications\n",
        "rfecv = RFECV(estimator=dt, step=1, cv=StratifiedKFold(3),\n",
        "              scoring='roc_auc', verbose = 0)\n",
        "rfecv.fit(X_train, y_train)\n",
        "\n",
        "# print(rfecv.ranking_)\n",
        "\n",
        "print(\"Optimal number of features : %d\" % rfecv.n_features_)\n",
        "\n",
        "# Plot number of features VS. cross-validation scores\n",
        "plt.figure()\n",
        "plt.xlabel(\"Number of features selected\")\n",
        "plt.ylabel(\"Cross validation score (nb of correct classifications)\")\n",
        "plt.plot(range(1, len(rfecv.grid_scores_) + 1), rfecv.grid_scores_)\n",
        "plt.show()"
      ],
      "execution_count": null,
      "outputs": [
        {
          "output_type": "stream",
          "text": [
            "/usr/local/lib/python3.7/dist-packages/sklearn/tree/_classes.py:319: FutureWarning: The parameter 'presort' is deprecated and has no effect. It will be removed in v0.24. You can suppress this warning by not passing any value to the 'presort' parameter.\n",
            "  FutureWarning)\n",
            "/usr/local/lib/python3.7/dist-packages/sklearn/tree/_classes.py:319: FutureWarning: The parameter 'presort' is deprecated and has no effect. It will be removed in v0.24. You can suppress this warning by not passing any value to the 'presort' parameter.\n",
            "  FutureWarning)\n",
            "/usr/local/lib/python3.7/dist-packages/sklearn/tree/_classes.py:319: FutureWarning: The parameter 'presort' is deprecated and has no effect. It will be removed in v0.24. You can suppress this warning by not passing any value to the 'presort' parameter.\n",
            "  FutureWarning)\n",
            "/usr/local/lib/python3.7/dist-packages/sklearn/tree/_classes.py:319: FutureWarning: The parameter 'presort' is deprecated and has no effect. It will be removed in v0.24. You can suppress this warning by not passing any value to the 'presort' parameter.\n",
            "  FutureWarning)\n",
            "/usr/local/lib/python3.7/dist-packages/sklearn/tree/_classes.py:319: FutureWarning: The parameter 'presort' is deprecated and has no effect. It will be removed in v0.24. You can suppress this warning by not passing any value to the 'presort' parameter.\n",
            "  FutureWarning)\n",
            "/usr/local/lib/python3.7/dist-packages/sklearn/tree/_classes.py:319: FutureWarning: The parameter 'presort' is deprecated and has no effect. It will be removed in v0.24. You can suppress this warning by not passing any value to the 'presort' parameter.\n",
            "  FutureWarning)\n",
            "/usr/local/lib/python3.7/dist-packages/sklearn/tree/_classes.py:319: FutureWarning: The parameter 'presort' is deprecated and has no effect. It will be removed in v0.24. You can suppress this warning by not passing any value to the 'presort' parameter.\n",
            "  FutureWarning)\n",
            "/usr/local/lib/python3.7/dist-packages/sklearn/tree/_classes.py:319: FutureWarning: The parameter 'presort' is deprecated and has no effect. It will be removed in v0.24. You can suppress this warning by not passing any value to the 'presort' parameter.\n",
            "  FutureWarning)\n",
            "/usr/local/lib/python3.7/dist-packages/sklearn/tree/_classes.py:319: FutureWarning: The parameter 'presort' is deprecated and has no effect. It will be removed in v0.24. You can suppress this warning by not passing any value to the 'presort' parameter.\n",
            "  FutureWarning)\n",
            "/usr/local/lib/python3.7/dist-packages/sklearn/tree/_classes.py:319: FutureWarning: The parameter 'presort' is deprecated and has no effect. It will be removed in v0.24. You can suppress this warning by not passing any value to the 'presort' parameter.\n",
            "  FutureWarning)\n",
            "/usr/local/lib/python3.7/dist-packages/sklearn/tree/_classes.py:319: FutureWarning: The parameter 'presort' is deprecated and has no effect. It will be removed in v0.24. You can suppress this warning by not passing any value to the 'presort' parameter.\n",
            "  FutureWarning)\n",
            "/usr/local/lib/python3.7/dist-packages/sklearn/tree/_classes.py:319: FutureWarning: The parameter 'presort' is deprecated and has no effect. It will be removed in v0.24. You can suppress this warning by not passing any value to the 'presort' parameter.\n",
            "  FutureWarning)\n",
            "/usr/local/lib/python3.7/dist-packages/sklearn/tree/_classes.py:319: FutureWarning: The parameter 'presort' is deprecated and has no effect. It will be removed in v0.24. You can suppress this warning by not passing any value to the 'presort' parameter.\n",
            "  FutureWarning)\n",
            "/usr/local/lib/python3.7/dist-packages/sklearn/tree/_classes.py:319: FutureWarning: The parameter 'presort' is deprecated and has no effect. It will be removed in v0.24. You can suppress this warning by not passing any value to the 'presort' parameter.\n",
            "  FutureWarning)\n",
            "/usr/local/lib/python3.7/dist-packages/sklearn/tree/_classes.py:319: FutureWarning: The parameter 'presort' is deprecated and has no effect. It will be removed in v0.24. You can suppress this warning by not passing any value to the 'presort' parameter.\n",
            "  FutureWarning)\n",
            "/usr/local/lib/python3.7/dist-packages/sklearn/tree/_classes.py:319: FutureWarning: The parameter 'presort' is deprecated and has no effect. It will be removed in v0.24. You can suppress this warning by not passing any value to the 'presort' parameter.\n",
            "  FutureWarning)\n",
            "/usr/local/lib/python3.7/dist-packages/sklearn/tree/_classes.py:319: FutureWarning: The parameter 'presort' is deprecated and has no effect. It will be removed in v0.24. You can suppress this warning by not passing any value to the 'presort' parameter.\n",
            "  FutureWarning)\n",
            "/usr/local/lib/python3.7/dist-packages/sklearn/tree/_classes.py:319: FutureWarning: The parameter 'presort' is deprecated and has no effect. It will be removed in v0.24. You can suppress this warning by not passing any value to the 'presort' parameter.\n",
            "  FutureWarning)\n",
            "/usr/local/lib/python3.7/dist-packages/sklearn/tree/_classes.py:319: FutureWarning: The parameter 'presort' is deprecated and has no effect. It will be removed in v0.24. You can suppress this warning by not passing any value to the 'presort' parameter.\n",
            "  FutureWarning)\n",
            "/usr/local/lib/python3.7/dist-packages/sklearn/tree/_classes.py:319: FutureWarning: The parameter 'presort' is deprecated and has no effect. It will be removed in v0.24. You can suppress this warning by not passing any value to the 'presort' parameter.\n",
            "  FutureWarning)\n",
            "/usr/local/lib/python3.7/dist-packages/sklearn/tree/_classes.py:319: FutureWarning: The parameter 'presort' is deprecated and has no effect. It will be removed in v0.24. You can suppress this warning by not passing any value to the 'presort' parameter.\n",
            "  FutureWarning)\n",
            "/usr/local/lib/python3.7/dist-packages/sklearn/tree/_classes.py:319: FutureWarning: The parameter 'presort' is deprecated and has no effect. It will be removed in v0.24. You can suppress this warning by not passing any value to the 'presort' parameter.\n",
            "  FutureWarning)\n",
            "/usr/local/lib/python3.7/dist-packages/sklearn/tree/_classes.py:319: FutureWarning: The parameter 'presort' is deprecated and has no effect. It will be removed in v0.24. You can suppress this warning by not passing any value to the 'presort' parameter.\n",
            "  FutureWarning)\n",
            "/usr/local/lib/python3.7/dist-packages/sklearn/tree/_classes.py:319: FutureWarning: The parameter 'presort' is deprecated and has no effect. It will be removed in v0.24. You can suppress this warning by not passing any value to the 'presort' parameter.\n",
            "  FutureWarning)\n",
            "/usr/local/lib/python3.7/dist-packages/sklearn/tree/_classes.py:319: FutureWarning: The parameter 'presort' is deprecated and has no effect. It will be removed in v0.24. You can suppress this warning by not passing any value to the 'presort' parameter.\n",
            "  FutureWarning)\n",
            "/usr/local/lib/python3.7/dist-packages/sklearn/tree/_classes.py:319: FutureWarning: The parameter 'presort' is deprecated and has no effect. It will be removed in v0.24. You can suppress this warning by not passing any value to the 'presort' parameter.\n",
            "  FutureWarning)\n",
            "/usr/local/lib/python3.7/dist-packages/sklearn/tree/_classes.py:319: FutureWarning: The parameter 'presort' is deprecated and has no effect. It will be removed in v0.24. You can suppress this warning by not passing any value to the 'presort' parameter.\n",
            "  FutureWarning)\n",
            "/usr/local/lib/python3.7/dist-packages/sklearn/tree/_classes.py:319: FutureWarning: The parameter 'presort' is deprecated and has no effect. It will be removed in v0.24. You can suppress this warning by not passing any value to the 'presort' parameter.\n",
            "  FutureWarning)\n",
            "/usr/local/lib/python3.7/dist-packages/sklearn/tree/_classes.py:319: FutureWarning: The parameter 'presort' is deprecated and has no effect. It will be removed in v0.24. You can suppress this warning by not passing any value to the 'presort' parameter.\n",
            "  FutureWarning)\n",
            "/usr/local/lib/python3.7/dist-packages/sklearn/tree/_classes.py:319: FutureWarning: The parameter 'presort' is deprecated and has no effect. It will be removed in v0.24. You can suppress this warning by not passing any value to the 'presort' parameter.\n",
            "  FutureWarning)\n",
            "/usr/local/lib/python3.7/dist-packages/sklearn/tree/_classes.py:319: FutureWarning: The parameter 'presort' is deprecated and has no effect. It will be removed in v0.24. You can suppress this warning by not passing any value to the 'presort' parameter.\n",
            "  FutureWarning)\n",
            "/usr/local/lib/python3.7/dist-packages/sklearn/tree/_classes.py:319: FutureWarning: The parameter 'presort' is deprecated and has no effect. It will be removed in v0.24. You can suppress this warning by not passing any value to the 'presort' parameter.\n",
            "  FutureWarning)\n",
            "/usr/local/lib/python3.7/dist-packages/sklearn/tree/_classes.py:319: FutureWarning: The parameter 'presort' is deprecated and has no effect. It will be removed in v0.24. You can suppress this warning by not passing any value to the 'presort' parameter.\n",
            "  FutureWarning)\n",
            "/usr/local/lib/python3.7/dist-packages/sklearn/tree/_classes.py:319: FutureWarning: The parameter 'presort' is deprecated and has no effect. It will be removed in v0.24. You can suppress this warning by not passing any value to the 'presort' parameter.\n",
            "  FutureWarning)\n",
            "/usr/local/lib/python3.7/dist-packages/sklearn/tree/_classes.py:319: FutureWarning: The parameter 'presort' is deprecated and has no effect. It will be removed in v0.24. You can suppress this warning by not passing any value to the 'presort' parameter.\n",
            "  FutureWarning)\n",
            "/usr/local/lib/python3.7/dist-packages/sklearn/tree/_classes.py:319: FutureWarning: The parameter 'presort' is deprecated and has no effect. It will be removed in v0.24. You can suppress this warning by not passing any value to the 'presort' parameter.\n",
            "  FutureWarning)\n",
            "/usr/local/lib/python3.7/dist-packages/sklearn/tree/_classes.py:319: FutureWarning: The parameter 'presort' is deprecated and has no effect. It will be removed in v0.24. You can suppress this warning by not passing any value to the 'presort' parameter.\n",
            "  FutureWarning)\n",
            "/usr/local/lib/python3.7/dist-packages/sklearn/tree/_classes.py:319: FutureWarning: The parameter 'presort' is deprecated and has no effect. It will be removed in v0.24. You can suppress this warning by not passing any value to the 'presort' parameter.\n",
            "  FutureWarning)\n",
            "/usr/local/lib/python3.7/dist-packages/sklearn/tree/_classes.py:319: FutureWarning: The parameter 'presort' is deprecated and has no effect. It will be removed in v0.24. You can suppress this warning by not passing any value to the 'presort' parameter.\n",
            "  FutureWarning)\n",
            "/usr/local/lib/python3.7/dist-packages/sklearn/tree/_classes.py:319: FutureWarning: The parameter 'presort' is deprecated and has no effect. It will be removed in v0.24. You can suppress this warning by not passing any value to the 'presort' parameter.\n",
            "  FutureWarning)\n",
            "/usr/local/lib/python3.7/dist-packages/sklearn/tree/_classes.py:319: FutureWarning: The parameter 'presort' is deprecated and has no effect. It will be removed in v0.24. You can suppress this warning by not passing any value to the 'presort' parameter.\n",
            "  FutureWarning)\n",
            "/usr/local/lib/python3.7/dist-packages/sklearn/tree/_classes.py:319: FutureWarning: The parameter 'presort' is deprecated and has no effect. It will be removed in v0.24. You can suppress this warning by not passing any value to the 'presort' parameter.\n",
            "  FutureWarning)\n",
            "/usr/local/lib/python3.7/dist-packages/sklearn/tree/_classes.py:319: FutureWarning: The parameter 'presort' is deprecated and has no effect. It will be removed in v0.24. You can suppress this warning by not passing any value to the 'presort' parameter.\n",
            "  FutureWarning)\n",
            "/usr/local/lib/python3.7/dist-packages/sklearn/tree/_classes.py:319: FutureWarning: The parameter 'presort' is deprecated and has no effect. It will be removed in v0.24. You can suppress this warning by not passing any value to the 'presort' parameter.\n",
            "  FutureWarning)\n",
            "/usr/local/lib/python3.7/dist-packages/sklearn/tree/_classes.py:319: FutureWarning: The parameter 'presort' is deprecated and has no effect. It will be removed in v0.24. You can suppress this warning by not passing any value to the 'presort' parameter.\n",
            "  FutureWarning)\n",
            "/usr/local/lib/python3.7/dist-packages/sklearn/tree/_classes.py:319: FutureWarning: The parameter 'presort' is deprecated and has no effect. It will be removed in v0.24. You can suppress this warning by not passing any value to the 'presort' parameter.\n",
            "  FutureWarning)\n",
            "/usr/local/lib/python3.7/dist-packages/sklearn/tree/_classes.py:319: FutureWarning: The parameter 'presort' is deprecated and has no effect. It will be removed in v0.24. You can suppress this warning by not passing any value to the 'presort' parameter.\n",
            "  FutureWarning)\n",
            "/usr/local/lib/python3.7/dist-packages/sklearn/tree/_classes.py:319: FutureWarning: The parameter 'presort' is deprecated and has no effect. It will be removed in v0.24. You can suppress this warning by not passing any value to the 'presort' parameter.\n",
            "  FutureWarning)\n",
            "/usr/local/lib/python3.7/dist-packages/sklearn/tree/_classes.py:319: FutureWarning: The parameter 'presort' is deprecated and has no effect. It will be removed in v0.24. You can suppress this warning by not passing any value to the 'presort' parameter.\n",
            "  FutureWarning)\n",
            "/usr/local/lib/python3.7/dist-packages/sklearn/tree/_classes.py:319: FutureWarning: The parameter 'presort' is deprecated and has no effect. It will be removed in v0.24. You can suppress this warning by not passing any value to the 'presort' parameter.\n",
            "  FutureWarning)\n",
            "/usr/local/lib/python3.7/dist-packages/sklearn/tree/_classes.py:319: FutureWarning: The parameter 'presort' is deprecated and has no effect. It will be removed in v0.24. You can suppress this warning by not passing any value to the 'presort' parameter.\n",
            "  FutureWarning)\n",
            "/usr/local/lib/python3.7/dist-packages/sklearn/tree/_classes.py:319: FutureWarning: The parameter 'presort' is deprecated and has no effect. It will be removed in v0.24. You can suppress this warning by not passing any value to the 'presort' parameter.\n",
            "  FutureWarning)\n",
            "/usr/local/lib/python3.7/dist-packages/sklearn/tree/_classes.py:319: FutureWarning: The parameter 'presort' is deprecated and has no effect. It will be removed in v0.24. You can suppress this warning by not passing any value to the 'presort' parameter.\n",
            "  FutureWarning)\n",
            "/usr/local/lib/python3.7/dist-packages/sklearn/tree/_classes.py:319: FutureWarning: The parameter 'presort' is deprecated and has no effect. It will be removed in v0.24. You can suppress this warning by not passing any value to the 'presort' parameter.\n",
            "  FutureWarning)\n",
            "/usr/local/lib/python3.7/dist-packages/sklearn/tree/_classes.py:319: FutureWarning: The parameter 'presort' is deprecated and has no effect. It will be removed in v0.24. You can suppress this warning by not passing any value to the 'presort' parameter.\n",
            "  FutureWarning)\n",
            "/usr/local/lib/python3.7/dist-packages/sklearn/tree/_classes.py:319: FutureWarning: The parameter 'presort' is deprecated and has no effect. It will be removed in v0.24. You can suppress this warning by not passing any value to the 'presort' parameter.\n",
            "  FutureWarning)\n",
            "/usr/local/lib/python3.7/dist-packages/sklearn/tree/_classes.py:319: FutureWarning: The parameter 'presort' is deprecated and has no effect. It will be removed in v0.24. You can suppress this warning by not passing any value to the 'presort' parameter.\n",
            "  FutureWarning)\n",
            "/usr/local/lib/python3.7/dist-packages/sklearn/tree/_classes.py:319: FutureWarning: The parameter 'presort' is deprecated and has no effect. It will be removed in v0.24. You can suppress this warning by not passing any value to the 'presort' parameter.\n",
            "  FutureWarning)\n",
            "/usr/local/lib/python3.7/dist-packages/sklearn/tree/_classes.py:319: FutureWarning: The parameter 'presort' is deprecated and has no effect. It will be removed in v0.24. You can suppress this warning by not passing any value to the 'presort' parameter.\n",
            "  FutureWarning)\n",
            "/usr/local/lib/python3.7/dist-packages/sklearn/tree/_classes.py:319: FutureWarning: The parameter 'presort' is deprecated and has no effect. It will be removed in v0.24. You can suppress this warning by not passing any value to the 'presort' parameter.\n",
            "  FutureWarning)\n",
            "/usr/local/lib/python3.7/dist-packages/sklearn/tree/_classes.py:319: FutureWarning: The parameter 'presort' is deprecated and has no effect. It will be removed in v0.24. You can suppress this warning by not passing any value to the 'presort' parameter.\n",
            "  FutureWarning)\n",
            "/usr/local/lib/python3.7/dist-packages/sklearn/tree/_classes.py:319: FutureWarning: The parameter 'presort' is deprecated and has no effect. It will be removed in v0.24. You can suppress this warning by not passing any value to the 'presort' parameter.\n",
            "  FutureWarning)\n",
            "/usr/local/lib/python3.7/dist-packages/sklearn/tree/_classes.py:319: FutureWarning: The parameter 'presort' is deprecated and has no effect. It will be removed in v0.24. You can suppress this warning by not passing any value to the 'presort' parameter.\n",
            "  FutureWarning)\n",
            "/usr/local/lib/python3.7/dist-packages/sklearn/tree/_classes.py:319: FutureWarning: The parameter 'presort' is deprecated and has no effect. It will be removed in v0.24. You can suppress this warning by not passing any value to the 'presort' parameter.\n",
            "  FutureWarning)\n",
            "/usr/local/lib/python3.7/dist-packages/sklearn/tree/_classes.py:319: FutureWarning: The parameter 'presort' is deprecated and has no effect. It will be removed in v0.24. You can suppress this warning by not passing any value to the 'presort' parameter.\n",
            "  FutureWarning)\n",
            "/usr/local/lib/python3.7/dist-packages/sklearn/tree/_classes.py:319: FutureWarning: The parameter 'presort' is deprecated and has no effect. It will be removed in v0.24. You can suppress this warning by not passing any value to the 'presort' parameter.\n",
            "  FutureWarning)\n",
            "/usr/local/lib/python3.7/dist-packages/sklearn/tree/_classes.py:319: FutureWarning: The parameter 'presort' is deprecated and has no effect. It will be removed in v0.24. You can suppress this warning by not passing any value to the 'presort' parameter.\n",
            "  FutureWarning)\n",
            "/usr/local/lib/python3.7/dist-packages/sklearn/tree/_classes.py:319: FutureWarning: The parameter 'presort' is deprecated and has no effect. It will be removed in v0.24. You can suppress this warning by not passing any value to the 'presort' parameter.\n",
            "  FutureWarning)\n",
            "/usr/local/lib/python3.7/dist-packages/sklearn/tree/_classes.py:319: FutureWarning: The parameter 'presort' is deprecated and has no effect. It will be removed in v0.24. You can suppress this warning by not passing any value to the 'presort' parameter.\n",
            "  FutureWarning)\n",
            "/usr/local/lib/python3.7/dist-packages/sklearn/tree/_classes.py:319: FutureWarning: The parameter 'presort' is deprecated and has no effect. It will be removed in v0.24. You can suppress this warning by not passing any value to the 'presort' parameter.\n",
            "  FutureWarning)\n",
            "/usr/local/lib/python3.7/dist-packages/sklearn/tree/_classes.py:319: FutureWarning: The parameter 'presort' is deprecated and has no effect. It will be removed in v0.24. You can suppress this warning by not passing any value to the 'presort' parameter.\n",
            "  FutureWarning)\n",
            "/usr/local/lib/python3.7/dist-packages/sklearn/tree/_classes.py:319: FutureWarning: The parameter 'presort' is deprecated and has no effect. It will be removed in v0.24. You can suppress this warning by not passing any value to the 'presort' parameter.\n",
            "  FutureWarning)\n",
            "/usr/local/lib/python3.7/dist-packages/sklearn/tree/_classes.py:319: FutureWarning: The parameter 'presort' is deprecated and has no effect. It will be removed in v0.24. You can suppress this warning by not passing any value to the 'presort' parameter.\n",
            "  FutureWarning)\n",
            "/usr/local/lib/python3.7/dist-packages/sklearn/tree/_classes.py:319: FutureWarning: The parameter 'presort' is deprecated and has no effect. It will be removed in v0.24. You can suppress this warning by not passing any value to the 'presort' parameter.\n",
            "  FutureWarning)\n",
            "/usr/local/lib/python3.7/dist-packages/sklearn/tree/_classes.py:319: FutureWarning: The parameter 'presort' is deprecated and has no effect. It will be removed in v0.24. You can suppress this warning by not passing any value to the 'presort' parameter.\n",
            "  FutureWarning)\n",
            "/usr/local/lib/python3.7/dist-packages/sklearn/tree/_classes.py:319: FutureWarning: The parameter 'presort' is deprecated and has no effect. It will be removed in v0.24. You can suppress this warning by not passing any value to the 'presort' parameter.\n",
            "  FutureWarning)\n",
            "/usr/local/lib/python3.7/dist-packages/sklearn/tree/_classes.py:319: FutureWarning: The parameter 'presort' is deprecated and has no effect. It will be removed in v0.24. You can suppress this warning by not passing any value to the 'presort' parameter.\n",
            "  FutureWarning)\n",
            "/usr/local/lib/python3.7/dist-packages/sklearn/tree/_classes.py:319: FutureWarning: The parameter 'presort' is deprecated and has no effect. It will be removed in v0.24. You can suppress this warning by not passing any value to the 'presort' parameter.\n",
            "  FutureWarning)\n",
            "/usr/local/lib/python3.7/dist-packages/sklearn/tree/_classes.py:319: FutureWarning: The parameter 'presort' is deprecated and has no effect. It will be removed in v0.24. You can suppress this warning by not passing any value to the 'presort' parameter.\n",
            "  FutureWarning)\n",
            "/usr/local/lib/python3.7/dist-packages/sklearn/tree/_classes.py:319: FutureWarning: The parameter 'presort' is deprecated and has no effect. It will be removed in v0.24. You can suppress this warning by not passing any value to the 'presort' parameter.\n",
            "  FutureWarning)\n",
            "/usr/local/lib/python3.7/dist-packages/sklearn/tree/_classes.py:319: FutureWarning: The parameter 'presort' is deprecated and has no effect. It will be removed in v0.24. You can suppress this warning by not passing any value to the 'presort' parameter.\n",
            "  FutureWarning)\n",
            "/usr/local/lib/python3.7/dist-packages/sklearn/tree/_classes.py:319: FutureWarning: The parameter 'presort' is deprecated and has no effect. It will be removed in v0.24. You can suppress this warning by not passing any value to the 'presort' parameter.\n",
            "  FutureWarning)\n",
            "/usr/local/lib/python3.7/dist-packages/sklearn/tree/_classes.py:319: FutureWarning: The parameter 'presort' is deprecated and has no effect. It will be removed in v0.24. You can suppress this warning by not passing any value to the 'presort' parameter.\n",
            "  FutureWarning)\n",
            "/usr/local/lib/python3.7/dist-packages/sklearn/tree/_classes.py:319: FutureWarning: The parameter 'presort' is deprecated and has no effect. It will be removed in v0.24. You can suppress this warning by not passing any value to the 'presort' parameter.\n",
            "  FutureWarning)\n",
            "/usr/local/lib/python3.7/dist-packages/sklearn/tree/_classes.py:319: FutureWarning: The parameter 'presort' is deprecated and has no effect. It will be removed in v0.24. You can suppress this warning by not passing any value to the 'presort' parameter.\n",
            "  FutureWarning)\n",
            "/usr/local/lib/python3.7/dist-packages/sklearn/tree/_classes.py:319: FutureWarning: The parameter 'presort' is deprecated and has no effect. It will be removed in v0.24. You can suppress this warning by not passing any value to the 'presort' parameter.\n",
            "  FutureWarning)\n",
            "/usr/local/lib/python3.7/dist-packages/sklearn/tree/_classes.py:319: FutureWarning: The parameter 'presort' is deprecated and has no effect. It will be removed in v0.24. You can suppress this warning by not passing any value to the 'presort' parameter.\n",
            "  FutureWarning)\n",
            "/usr/local/lib/python3.7/dist-packages/sklearn/tree/_classes.py:319: FutureWarning: The parameter 'presort' is deprecated and has no effect. It will be removed in v0.24. You can suppress this warning by not passing any value to the 'presort' parameter.\n",
            "  FutureWarning)\n",
            "/usr/local/lib/python3.7/dist-packages/sklearn/tree/_classes.py:319: FutureWarning: The parameter 'presort' is deprecated and has no effect. It will be removed in v0.24. You can suppress this warning by not passing any value to the 'presort' parameter.\n",
            "  FutureWarning)\n",
            "/usr/local/lib/python3.7/dist-packages/sklearn/tree/_classes.py:319: FutureWarning: The parameter 'presort' is deprecated and has no effect. It will be removed in v0.24. You can suppress this warning by not passing any value to the 'presort' parameter.\n",
            "  FutureWarning)\n",
            "/usr/local/lib/python3.7/dist-packages/sklearn/tree/_classes.py:319: FutureWarning: The parameter 'presort' is deprecated and has no effect. It will be removed in v0.24. You can suppress this warning by not passing any value to the 'presort' parameter.\n",
            "  FutureWarning)\n",
            "/usr/local/lib/python3.7/dist-packages/sklearn/tree/_classes.py:319: FutureWarning: The parameter 'presort' is deprecated and has no effect. It will be removed in v0.24. You can suppress this warning by not passing any value to the 'presort' parameter.\n",
            "  FutureWarning)\n",
            "/usr/local/lib/python3.7/dist-packages/sklearn/tree/_classes.py:319: FutureWarning: The parameter 'presort' is deprecated and has no effect. It will be removed in v0.24. You can suppress this warning by not passing any value to the 'presort' parameter.\n",
            "  FutureWarning)\n",
            "/usr/local/lib/python3.7/dist-packages/sklearn/tree/_classes.py:319: FutureWarning: The parameter 'presort' is deprecated and has no effect. It will be removed in v0.24. You can suppress this warning by not passing any value to the 'presort' parameter.\n",
            "  FutureWarning)\n",
            "/usr/local/lib/python3.7/dist-packages/sklearn/tree/_classes.py:319: FutureWarning: The parameter 'presort' is deprecated and has no effect. It will be removed in v0.24. You can suppress this warning by not passing any value to the 'presort' parameter.\n",
            "  FutureWarning)\n",
            "/usr/local/lib/python3.7/dist-packages/sklearn/tree/_classes.py:319: FutureWarning: The parameter 'presort' is deprecated and has no effect. It will be removed in v0.24. You can suppress this warning by not passing any value to the 'presort' parameter.\n",
            "  FutureWarning)\n",
            "/usr/local/lib/python3.7/dist-packages/sklearn/tree/_classes.py:319: FutureWarning: The parameter 'presort' is deprecated and has no effect. It will be removed in v0.24. You can suppress this warning by not passing any value to the 'presort' parameter.\n",
            "  FutureWarning)\n",
            "/usr/local/lib/python3.7/dist-packages/sklearn/tree/_classes.py:319: FutureWarning: The parameter 'presort' is deprecated and has no effect. It will be removed in v0.24. You can suppress this warning by not passing any value to the 'presort' parameter.\n",
            "  FutureWarning)\n",
            "/usr/local/lib/python3.7/dist-packages/sklearn/tree/_classes.py:319: FutureWarning: The parameter 'presort' is deprecated and has no effect. It will be removed in v0.24. You can suppress this warning by not passing any value to the 'presort' parameter.\n",
            "  FutureWarning)\n",
            "/usr/local/lib/python3.7/dist-packages/sklearn/tree/_classes.py:319: FutureWarning: The parameter 'presort' is deprecated and has no effect. It will be removed in v0.24. You can suppress this warning by not passing any value to the 'presort' parameter.\n",
            "  FutureWarning)\n",
            "/usr/local/lib/python3.7/dist-packages/sklearn/tree/_classes.py:319: FutureWarning: The parameter 'presort' is deprecated and has no effect. It will be removed in v0.24. You can suppress this warning by not passing any value to the 'presort' parameter.\n",
            "  FutureWarning)\n",
            "/usr/local/lib/python3.7/dist-packages/sklearn/tree/_classes.py:319: FutureWarning: The parameter 'presort' is deprecated and has no effect. It will be removed in v0.24. You can suppress this warning by not passing any value to the 'presort' parameter.\n",
            "  FutureWarning)\n",
            "/usr/local/lib/python3.7/dist-packages/sklearn/tree/_classes.py:319: FutureWarning: The parameter 'presort' is deprecated and has no effect. It will be removed in v0.24. You can suppress this warning by not passing any value to the 'presort' parameter.\n",
            "  FutureWarning)\n",
            "/usr/local/lib/python3.7/dist-packages/sklearn/tree/_classes.py:319: FutureWarning: The parameter 'presort' is deprecated and has no effect. It will be removed in v0.24. You can suppress this warning by not passing any value to the 'presort' parameter.\n",
            "  FutureWarning)\n",
            "/usr/local/lib/python3.7/dist-packages/sklearn/tree/_classes.py:319: FutureWarning: The parameter 'presort' is deprecated and has no effect. It will be removed in v0.24. You can suppress this warning by not passing any value to the 'presort' parameter.\n",
            "  FutureWarning)\n",
            "/usr/local/lib/python3.7/dist-packages/sklearn/tree/_classes.py:319: FutureWarning: The parameter 'presort' is deprecated and has no effect. It will be removed in v0.24. You can suppress this warning by not passing any value to the 'presort' parameter.\n",
            "  FutureWarning)\n",
            "/usr/local/lib/python3.7/dist-packages/sklearn/tree/_classes.py:319: FutureWarning: The parameter 'presort' is deprecated and has no effect. It will be removed in v0.24. You can suppress this warning by not passing any value to the 'presort' parameter.\n",
            "  FutureWarning)\n",
            "/usr/local/lib/python3.7/dist-packages/sklearn/tree/_classes.py:319: FutureWarning: The parameter 'presort' is deprecated and has no effect. It will be removed in v0.24. You can suppress this warning by not passing any value to the 'presort' parameter.\n",
            "  FutureWarning)\n",
            "/usr/local/lib/python3.7/dist-packages/sklearn/tree/_classes.py:319: FutureWarning: The parameter 'presort' is deprecated and has no effect. It will be removed in v0.24. You can suppress this warning by not passing any value to the 'presort' parameter.\n",
            "  FutureWarning)\n",
            "/usr/local/lib/python3.7/dist-packages/sklearn/tree/_classes.py:319: FutureWarning: The parameter 'presort' is deprecated and has no effect. It will be removed in v0.24. You can suppress this warning by not passing any value to the 'presort' parameter.\n",
            "  FutureWarning)\n",
            "/usr/local/lib/python3.7/dist-packages/sklearn/tree/_classes.py:319: FutureWarning: The parameter 'presort' is deprecated and has no effect. It will be removed in v0.24. You can suppress this warning by not passing any value to the 'presort' parameter.\n",
            "  FutureWarning)\n",
            "/usr/local/lib/python3.7/dist-packages/sklearn/tree/_classes.py:319: FutureWarning: The parameter 'presort' is deprecated and has no effect. It will be removed in v0.24. You can suppress this warning by not passing any value to the 'presort' parameter.\n",
            "  FutureWarning)\n",
            "/usr/local/lib/python3.7/dist-packages/sklearn/tree/_classes.py:319: FutureWarning: The parameter 'presort' is deprecated and has no effect. It will be removed in v0.24. You can suppress this warning by not passing any value to the 'presort' parameter.\n",
            "  FutureWarning)\n",
            "/usr/local/lib/python3.7/dist-packages/sklearn/tree/_classes.py:319: FutureWarning: The parameter 'presort' is deprecated and has no effect. It will be removed in v0.24. You can suppress this warning by not passing any value to the 'presort' parameter.\n",
            "  FutureWarning)\n",
            "/usr/local/lib/python3.7/dist-packages/sklearn/tree/_classes.py:319: FutureWarning: The parameter 'presort' is deprecated and has no effect. It will be removed in v0.24. You can suppress this warning by not passing any value to the 'presort' parameter.\n",
            "  FutureWarning)\n",
            "/usr/local/lib/python3.7/dist-packages/sklearn/tree/_classes.py:319: FutureWarning: The parameter 'presort' is deprecated and has no effect. It will be removed in v0.24. You can suppress this warning by not passing any value to the 'presort' parameter.\n",
            "  FutureWarning)\n",
            "/usr/local/lib/python3.7/dist-packages/sklearn/tree/_classes.py:319: FutureWarning: The parameter 'presort' is deprecated and has no effect. It will be removed in v0.24. You can suppress this warning by not passing any value to the 'presort' parameter.\n",
            "  FutureWarning)\n",
            "/usr/local/lib/python3.7/dist-packages/sklearn/tree/_classes.py:319: FutureWarning: The parameter 'presort' is deprecated and has no effect. It will be removed in v0.24. You can suppress this warning by not passing any value to the 'presort' parameter.\n",
            "  FutureWarning)\n",
            "/usr/local/lib/python3.7/dist-packages/sklearn/tree/_classes.py:319: FutureWarning: The parameter 'presort' is deprecated and has no effect. It will be removed in v0.24. You can suppress this warning by not passing any value to the 'presort' parameter.\n",
            "  FutureWarning)\n",
            "/usr/local/lib/python3.7/dist-packages/sklearn/tree/_classes.py:319: FutureWarning: The parameter 'presort' is deprecated and has no effect. It will be removed in v0.24. You can suppress this warning by not passing any value to the 'presort' parameter.\n",
            "  FutureWarning)\n",
            "/usr/local/lib/python3.7/dist-packages/sklearn/tree/_classes.py:319: FutureWarning: The parameter 'presort' is deprecated and has no effect. It will be removed in v0.24. You can suppress this warning by not passing any value to the 'presort' parameter.\n",
            "  FutureWarning)\n",
            "/usr/local/lib/python3.7/dist-packages/sklearn/tree/_classes.py:319: FutureWarning: The parameter 'presort' is deprecated and has no effect. It will be removed in v0.24. You can suppress this warning by not passing any value to the 'presort' parameter.\n",
            "  FutureWarning)\n",
            "/usr/local/lib/python3.7/dist-packages/sklearn/tree/_classes.py:319: FutureWarning: The parameter 'presort' is deprecated and has no effect. It will be removed in v0.24. You can suppress this warning by not passing any value to the 'presort' parameter.\n",
            "  FutureWarning)\n",
            "/usr/local/lib/python3.7/dist-packages/sklearn/tree/_classes.py:319: FutureWarning: The parameter 'presort' is deprecated and has no effect. It will be removed in v0.24. You can suppress this warning by not passing any value to the 'presort' parameter.\n",
            "  FutureWarning)\n",
            "/usr/local/lib/python3.7/dist-packages/sklearn/tree/_classes.py:319: FutureWarning: The parameter 'presort' is deprecated and has no effect. It will be removed in v0.24. You can suppress this warning by not passing any value to the 'presort' parameter.\n",
            "  FutureWarning)\n",
            "/usr/local/lib/python3.7/dist-packages/sklearn/tree/_classes.py:319: FutureWarning: The parameter 'presort' is deprecated and has no effect. It will be removed in v0.24. You can suppress this warning by not passing any value to the 'presort' parameter.\n",
            "  FutureWarning)\n",
            "/usr/local/lib/python3.7/dist-packages/sklearn/tree/_classes.py:319: FutureWarning: The parameter 'presort' is deprecated and has no effect. It will be removed in v0.24. You can suppress this warning by not passing any value to the 'presort' parameter.\n",
            "  FutureWarning)\n",
            "/usr/local/lib/python3.7/dist-packages/sklearn/tree/_classes.py:319: FutureWarning: The parameter 'presort' is deprecated and has no effect. It will be removed in v0.24. You can suppress this warning by not passing any value to the 'presort' parameter.\n",
            "  FutureWarning)\n",
            "/usr/local/lib/python3.7/dist-packages/sklearn/tree/_classes.py:319: FutureWarning: The parameter 'presort' is deprecated and has no effect. It will be removed in v0.24. You can suppress this warning by not passing any value to the 'presort' parameter.\n",
            "  FutureWarning)\n",
            "/usr/local/lib/python3.7/dist-packages/sklearn/tree/_classes.py:319: FutureWarning: The parameter 'presort' is deprecated and has no effect. It will be removed in v0.24. You can suppress this warning by not passing any value to the 'presort' parameter.\n",
            "  FutureWarning)\n",
            "/usr/local/lib/python3.7/dist-packages/sklearn/tree/_classes.py:319: FutureWarning: The parameter 'presort' is deprecated and has no effect. It will be removed in v0.24. You can suppress this warning by not passing any value to the 'presort' parameter.\n",
            "  FutureWarning)\n",
            "/usr/local/lib/python3.7/dist-packages/sklearn/tree/_classes.py:319: FutureWarning: The parameter 'presort' is deprecated and has no effect. It will be removed in v0.24. You can suppress this warning by not passing any value to the 'presort' parameter.\n",
            "  FutureWarning)\n",
            "/usr/local/lib/python3.7/dist-packages/sklearn/tree/_classes.py:319: FutureWarning: The parameter 'presort' is deprecated and has no effect. It will be removed in v0.24. You can suppress this warning by not passing any value to the 'presort' parameter.\n",
            "  FutureWarning)\n",
            "/usr/local/lib/python3.7/dist-packages/sklearn/tree/_classes.py:319: FutureWarning: The parameter 'presort' is deprecated and has no effect. It will be removed in v0.24. You can suppress this warning by not passing any value to the 'presort' parameter.\n",
            "  FutureWarning)\n",
            "/usr/local/lib/python3.7/dist-packages/sklearn/tree/_classes.py:319: FutureWarning: The parameter 'presort' is deprecated and has no effect. It will be removed in v0.24. You can suppress this warning by not passing any value to the 'presort' parameter.\n",
            "  FutureWarning)\n",
            "/usr/local/lib/python3.7/dist-packages/sklearn/tree/_classes.py:319: FutureWarning: The parameter 'presort' is deprecated and has no effect. It will be removed in v0.24. You can suppress this warning by not passing any value to the 'presort' parameter.\n",
            "  FutureWarning)\n",
            "/usr/local/lib/python3.7/dist-packages/sklearn/tree/_classes.py:319: FutureWarning: The parameter 'presort' is deprecated and has no effect. It will be removed in v0.24. You can suppress this warning by not passing any value to the 'presort' parameter.\n",
            "  FutureWarning)\n",
            "/usr/local/lib/python3.7/dist-packages/sklearn/tree/_classes.py:319: FutureWarning: The parameter 'presort' is deprecated and has no effect. It will be removed in v0.24. You can suppress this warning by not passing any value to the 'presort' parameter.\n",
            "  FutureWarning)\n",
            "/usr/local/lib/python3.7/dist-packages/sklearn/tree/_classes.py:319: FutureWarning: The parameter 'presort' is deprecated and has no effect. It will be removed in v0.24. You can suppress this warning by not passing any value to the 'presort' parameter.\n",
            "  FutureWarning)\n",
            "/usr/local/lib/python3.7/dist-packages/sklearn/tree/_classes.py:319: FutureWarning: The parameter 'presort' is deprecated and has no effect. It will be removed in v0.24. You can suppress this warning by not passing any value to the 'presort' parameter.\n",
            "  FutureWarning)\n",
            "/usr/local/lib/python3.7/dist-packages/sklearn/tree/_classes.py:319: FutureWarning: The parameter 'presort' is deprecated and has no effect. It will be removed in v0.24. You can suppress this warning by not passing any value to the 'presort' parameter.\n",
            "  FutureWarning)\n",
            "/usr/local/lib/python3.7/dist-packages/sklearn/tree/_classes.py:319: FutureWarning: The parameter 'presort' is deprecated and has no effect. It will be removed in v0.24. You can suppress this warning by not passing any value to the 'presort' parameter.\n",
            "  FutureWarning)\n",
            "/usr/local/lib/python3.7/dist-packages/sklearn/tree/_classes.py:319: FutureWarning: The parameter 'presort' is deprecated and has no effect. It will be removed in v0.24. You can suppress this warning by not passing any value to the 'presort' parameter.\n",
            "  FutureWarning)\n",
            "/usr/local/lib/python3.7/dist-packages/sklearn/tree/_classes.py:319: FutureWarning: The parameter 'presort' is deprecated and has no effect. It will be removed in v0.24. You can suppress this warning by not passing any value to the 'presort' parameter.\n",
            "  FutureWarning)\n",
            "/usr/local/lib/python3.7/dist-packages/sklearn/tree/_classes.py:319: FutureWarning: The parameter 'presort' is deprecated and has no effect. It will be removed in v0.24. You can suppress this warning by not passing any value to the 'presort' parameter.\n",
            "  FutureWarning)\n",
            "/usr/local/lib/python3.7/dist-packages/sklearn/tree/_classes.py:319: FutureWarning: The parameter 'presort' is deprecated and has no effect. It will be removed in v0.24. You can suppress this warning by not passing any value to the 'presort' parameter.\n",
            "  FutureWarning)\n",
            "/usr/local/lib/python3.7/dist-packages/sklearn/tree/_classes.py:319: FutureWarning: The parameter 'presort' is deprecated and has no effect. It will be removed in v0.24. You can suppress this warning by not passing any value to the 'presort' parameter.\n",
            "  FutureWarning)\n",
            "/usr/local/lib/python3.7/dist-packages/sklearn/tree/_classes.py:319: FutureWarning: The parameter 'presort' is deprecated and has no effect. It will be removed in v0.24. You can suppress this warning by not passing any value to the 'presort' parameter.\n",
            "  FutureWarning)\n",
            "/usr/local/lib/python3.7/dist-packages/sklearn/tree/_classes.py:319: FutureWarning: The parameter 'presort' is deprecated and has no effect. It will be removed in v0.24. You can suppress this warning by not passing any value to the 'presort' parameter.\n",
            "  FutureWarning)\n",
            "/usr/local/lib/python3.7/dist-packages/sklearn/tree/_classes.py:319: FutureWarning: The parameter 'presort' is deprecated and has no effect. It will be removed in v0.24. You can suppress this warning by not passing any value to the 'presort' parameter.\n",
            "  FutureWarning)\n",
            "/usr/local/lib/python3.7/dist-packages/sklearn/tree/_classes.py:319: FutureWarning: The parameter 'presort' is deprecated and has no effect. It will be removed in v0.24. You can suppress this warning by not passing any value to the 'presort' parameter.\n",
            "  FutureWarning)\n",
            "/usr/local/lib/python3.7/dist-packages/sklearn/tree/_classes.py:319: FutureWarning: The parameter 'presort' is deprecated and has no effect. It will be removed in v0.24. You can suppress this warning by not passing any value to the 'presort' parameter.\n",
            "  FutureWarning)\n",
            "/usr/local/lib/python3.7/dist-packages/sklearn/tree/_classes.py:319: FutureWarning: The parameter 'presort' is deprecated and has no effect. It will be removed in v0.24. You can suppress this warning by not passing any value to the 'presort' parameter.\n",
            "  FutureWarning)\n",
            "/usr/local/lib/python3.7/dist-packages/sklearn/tree/_classes.py:319: FutureWarning: The parameter 'presort' is deprecated and has no effect. It will be removed in v0.24. You can suppress this warning by not passing any value to the 'presort' parameter.\n",
            "  FutureWarning)\n",
            "/usr/local/lib/python3.7/dist-packages/sklearn/tree/_classes.py:319: FutureWarning: The parameter 'presort' is deprecated and has no effect. It will be removed in v0.24. You can suppress this warning by not passing any value to the 'presort' parameter.\n",
            "  FutureWarning)\n",
            "/usr/local/lib/python3.7/dist-packages/sklearn/tree/_classes.py:319: FutureWarning: The parameter 'presort' is deprecated and has no effect. It will be removed in v0.24. You can suppress this warning by not passing any value to the 'presort' parameter.\n",
            "  FutureWarning)\n",
            "/usr/local/lib/python3.7/dist-packages/sklearn/tree/_classes.py:319: FutureWarning: The parameter 'presort' is deprecated and has no effect. It will be removed in v0.24. You can suppress this warning by not passing any value to the 'presort' parameter.\n",
            "  FutureWarning)\n",
            "/usr/local/lib/python3.7/dist-packages/sklearn/tree/_classes.py:319: FutureWarning: The parameter 'presort' is deprecated and has no effect. It will be removed in v0.24. You can suppress this warning by not passing any value to the 'presort' parameter.\n",
            "  FutureWarning)\n",
            "/usr/local/lib/python3.7/dist-packages/sklearn/tree/_classes.py:319: FutureWarning: The parameter 'presort' is deprecated and has no effect. It will be removed in v0.24. You can suppress this warning by not passing any value to the 'presort' parameter.\n",
            "  FutureWarning)\n",
            "/usr/local/lib/python3.7/dist-packages/sklearn/tree/_classes.py:319: FutureWarning: The parameter 'presort' is deprecated and has no effect. It will be removed in v0.24. You can suppress this warning by not passing any value to the 'presort' parameter.\n",
            "  FutureWarning)\n",
            "/usr/local/lib/python3.7/dist-packages/sklearn/tree/_classes.py:319: FutureWarning: The parameter 'presort' is deprecated and has no effect. It will be removed in v0.24. You can suppress this warning by not passing any value to the 'presort' parameter.\n",
            "  FutureWarning)\n",
            "/usr/local/lib/python3.7/dist-packages/sklearn/tree/_classes.py:319: FutureWarning: The parameter 'presort' is deprecated and has no effect. It will be removed in v0.24. You can suppress this warning by not passing any value to the 'presort' parameter.\n",
            "  FutureWarning)\n",
            "/usr/local/lib/python3.7/dist-packages/sklearn/tree/_classes.py:319: FutureWarning: The parameter 'presort' is deprecated and has no effect. It will be removed in v0.24. You can suppress this warning by not passing any value to the 'presort' parameter.\n",
            "  FutureWarning)\n",
            "/usr/local/lib/python3.7/dist-packages/sklearn/tree/_classes.py:319: FutureWarning: The parameter 'presort' is deprecated and has no effect. It will be removed in v0.24. You can suppress this warning by not passing any value to the 'presort' parameter.\n",
            "  FutureWarning)\n",
            "/usr/local/lib/python3.7/dist-packages/sklearn/tree/_classes.py:319: FutureWarning: The parameter 'presort' is deprecated and has no effect. It will be removed in v0.24. You can suppress this warning by not passing any value to the 'presort' parameter.\n",
            "  FutureWarning)\n",
            "/usr/local/lib/python3.7/dist-packages/sklearn/tree/_classes.py:319: FutureWarning: The parameter 'presort' is deprecated and has no effect. It will be removed in v0.24. You can suppress this warning by not passing any value to the 'presort' parameter.\n",
            "  FutureWarning)\n",
            "/usr/local/lib/python3.7/dist-packages/sklearn/tree/_classes.py:319: FutureWarning: The parameter 'presort' is deprecated and has no effect. It will be removed in v0.24. You can suppress this warning by not passing any value to the 'presort' parameter.\n",
            "  FutureWarning)\n",
            "/usr/local/lib/python3.7/dist-packages/sklearn/tree/_classes.py:319: FutureWarning: The parameter 'presort' is deprecated and has no effect. It will be removed in v0.24. You can suppress this warning by not passing any value to the 'presort' parameter.\n",
            "  FutureWarning)\n",
            "/usr/local/lib/python3.7/dist-packages/sklearn/tree/_classes.py:319: FutureWarning: The parameter 'presort' is deprecated and has no effect. It will be removed in v0.24. You can suppress this warning by not passing any value to the 'presort' parameter.\n",
            "  FutureWarning)\n",
            "/usr/local/lib/python3.7/dist-packages/sklearn/tree/_classes.py:319: FutureWarning: The parameter 'presort' is deprecated and has no effect. It will be removed in v0.24. You can suppress this warning by not passing any value to the 'presort' parameter.\n",
            "  FutureWarning)\n",
            "/usr/local/lib/python3.7/dist-packages/sklearn/tree/_classes.py:319: FutureWarning: The parameter 'presort' is deprecated and has no effect. It will be removed in v0.24. You can suppress this warning by not passing any value to the 'presort' parameter.\n",
            "  FutureWarning)\n",
            "/usr/local/lib/python3.7/dist-packages/sklearn/tree/_classes.py:319: FutureWarning: The parameter 'presort' is deprecated and has no effect. It will be removed in v0.24. You can suppress this warning by not passing any value to the 'presort' parameter.\n",
            "  FutureWarning)\n",
            "/usr/local/lib/python3.7/dist-packages/sklearn/tree/_classes.py:319: FutureWarning: The parameter 'presort' is deprecated and has no effect. It will be removed in v0.24. You can suppress this warning by not passing any value to the 'presort' parameter.\n",
            "  FutureWarning)\n",
            "/usr/local/lib/python3.7/dist-packages/sklearn/tree/_classes.py:319: FutureWarning: The parameter 'presort' is deprecated and has no effect. It will be removed in v0.24. You can suppress this warning by not passing any value to the 'presort' parameter.\n",
            "  FutureWarning)\n",
            "/usr/local/lib/python3.7/dist-packages/sklearn/tree/_classes.py:319: FutureWarning: The parameter 'presort' is deprecated and has no effect. It will be removed in v0.24. You can suppress this warning by not passing any value to the 'presort' parameter.\n",
            "  FutureWarning)\n",
            "/usr/local/lib/python3.7/dist-packages/sklearn/tree/_classes.py:319: FutureWarning: The parameter 'presort' is deprecated and has no effect. It will be removed in v0.24. You can suppress this warning by not passing any value to the 'presort' parameter.\n",
            "  FutureWarning)\n",
            "/usr/local/lib/python3.7/dist-packages/sklearn/tree/_classes.py:319: FutureWarning: The parameter 'presort' is deprecated and has no effect. It will be removed in v0.24. You can suppress this warning by not passing any value to the 'presort' parameter.\n",
            "  FutureWarning)\n",
            "/usr/local/lib/python3.7/dist-packages/sklearn/tree/_classes.py:319: FutureWarning: The parameter 'presort' is deprecated and has no effect. It will be removed in v0.24. You can suppress this warning by not passing any value to the 'presort' parameter.\n",
            "  FutureWarning)\n",
            "/usr/local/lib/python3.7/dist-packages/sklearn/tree/_classes.py:319: FutureWarning: The parameter 'presort' is deprecated and has no effect. It will be removed in v0.24. You can suppress this warning by not passing any value to the 'presort' parameter.\n",
            "  FutureWarning)\n",
            "/usr/local/lib/python3.7/dist-packages/sklearn/tree/_classes.py:319: FutureWarning: The parameter 'presort' is deprecated and has no effect. It will be removed in v0.24. You can suppress this warning by not passing any value to the 'presort' parameter.\n",
            "  FutureWarning)\n",
            "/usr/local/lib/python3.7/dist-packages/sklearn/tree/_classes.py:319: FutureWarning: The parameter 'presort' is deprecated and has no effect. It will be removed in v0.24. You can suppress this warning by not passing any value to the 'presort' parameter.\n",
            "  FutureWarning)\n",
            "/usr/local/lib/python3.7/dist-packages/sklearn/tree/_classes.py:319: FutureWarning: The parameter 'presort' is deprecated and has no effect. It will be removed in v0.24. You can suppress this warning by not passing any value to the 'presort' parameter.\n",
            "  FutureWarning)\n",
            "/usr/local/lib/python3.7/dist-packages/sklearn/tree/_classes.py:319: FutureWarning: The parameter 'presort' is deprecated and has no effect. It will be removed in v0.24. You can suppress this warning by not passing any value to the 'presort' parameter.\n",
            "  FutureWarning)\n",
            "/usr/local/lib/python3.7/dist-packages/sklearn/tree/_classes.py:319: FutureWarning: The parameter 'presort' is deprecated and has no effect. It will be removed in v0.24. You can suppress this warning by not passing any value to the 'presort' parameter.\n",
            "  FutureWarning)\n",
            "/usr/local/lib/python3.7/dist-packages/sklearn/tree/_classes.py:319: FutureWarning: The parameter 'presort' is deprecated and has no effect. It will be removed in v0.24. You can suppress this warning by not passing any value to the 'presort' parameter.\n",
            "  FutureWarning)\n",
            "/usr/local/lib/python3.7/dist-packages/sklearn/tree/_classes.py:319: FutureWarning: The parameter 'presort' is deprecated and has no effect. It will be removed in v0.24. You can suppress this warning by not passing any value to the 'presort' parameter.\n",
            "  FutureWarning)\n",
            "/usr/local/lib/python3.7/dist-packages/sklearn/tree/_classes.py:319: FutureWarning: The parameter 'presort' is deprecated and has no effect. It will be removed in v0.24. You can suppress this warning by not passing any value to the 'presort' parameter.\n",
            "  FutureWarning)\n",
            "/usr/local/lib/python3.7/dist-packages/sklearn/tree/_classes.py:319: FutureWarning: The parameter 'presort' is deprecated and has no effect. It will be removed in v0.24. You can suppress this warning by not passing any value to the 'presort' parameter.\n",
            "  FutureWarning)\n",
            "/usr/local/lib/python3.7/dist-packages/sklearn/tree/_classes.py:319: FutureWarning: The parameter 'presort' is deprecated and has no effect. It will be removed in v0.24. You can suppress this warning by not passing any value to the 'presort' parameter.\n",
            "  FutureWarning)\n",
            "/usr/local/lib/python3.7/dist-packages/sklearn/tree/_classes.py:319: FutureWarning: The parameter 'presort' is deprecated and has no effect. It will be removed in v0.24. You can suppress this warning by not passing any value to the 'presort' parameter.\n",
            "  FutureWarning)\n",
            "/usr/local/lib/python3.7/dist-packages/sklearn/tree/_classes.py:319: FutureWarning: The parameter 'presort' is deprecated and has no effect. It will be removed in v0.24. You can suppress this warning by not passing any value to the 'presort' parameter.\n",
            "  FutureWarning)\n",
            "/usr/local/lib/python3.7/dist-packages/sklearn/tree/_classes.py:319: FutureWarning: The parameter 'presort' is deprecated and has no effect. It will be removed in v0.24. You can suppress this warning by not passing any value to the 'presort' parameter.\n",
            "  FutureWarning)\n",
            "/usr/local/lib/python3.7/dist-packages/sklearn/tree/_classes.py:319: FutureWarning: The parameter 'presort' is deprecated and has no effect. It will be removed in v0.24. You can suppress this warning by not passing any value to the 'presort' parameter.\n",
            "  FutureWarning)\n",
            "/usr/local/lib/python3.7/dist-packages/sklearn/tree/_classes.py:319: FutureWarning: The parameter 'presort' is deprecated and has no effect. It will be removed in v0.24. You can suppress this warning by not passing any value to the 'presort' parameter.\n",
            "  FutureWarning)\n",
            "/usr/local/lib/python3.7/dist-packages/sklearn/tree/_classes.py:319: FutureWarning: The parameter 'presort' is deprecated and has no effect. It will be removed in v0.24. You can suppress this warning by not passing any value to the 'presort' parameter.\n",
            "  FutureWarning)\n",
            "/usr/local/lib/python3.7/dist-packages/sklearn/tree/_classes.py:319: FutureWarning: The parameter 'presort' is deprecated and has no effect. It will be removed in v0.24. You can suppress this warning by not passing any value to the 'presort' parameter.\n",
            "  FutureWarning)\n",
            "/usr/local/lib/python3.7/dist-packages/sklearn/tree/_classes.py:319: FutureWarning: The parameter 'presort' is deprecated and has no effect. It will be removed in v0.24. You can suppress this warning by not passing any value to the 'presort' parameter.\n",
            "  FutureWarning)\n",
            "/usr/local/lib/python3.7/dist-packages/sklearn/tree/_classes.py:319: FutureWarning: The parameter 'presort' is deprecated and has no effect. It will be removed in v0.24. You can suppress this warning by not passing any value to the 'presort' parameter.\n",
            "  FutureWarning)\n",
            "/usr/local/lib/python3.7/dist-packages/sklearn/tree/_classes.py:319: FutureWarning: The parameter 'presort' is deprecated and has no effect. It will be removed in v0.24. You can suppress this warning by not passing any value to the 'presort' parameter.\n",
            "  FutureWarning)\n",
            "/usr/local/lib/python3.7/dist-packages/sklearn/tree/_classes.py:319: FutureWarning: The parameter 'presort' is deprecated and has no effect. It will be removed in v0.24. You can suppress this warning by not passing any value to the 'presort' parameter.\n",
            "  FutureWarning)\n",
            "/usr/local/lib/python3.7/dist-packages/sklearn/tree/_classes.py:319: FutureWarning: The parameter 'presort' is deprecated and has no effect. It will be removed in v0.24. You can suppress this warning by not passing any value to the 'presort' parameter.\n",
            "  FutureWarning)\n",
            "/usr/local/lib/python3.7/dist-packages/sklearn/tree/_classes.py:319: FutureWarning: The parameter 'presort' is deprecated and has no effect. It will be removed in v0.24. You can suppress this warning by not passing any value to the 'presort' parameter.\n",
            "  FutureWarning)\n",
            "/usr/local/lib/python3.7/dist-packages/sklearn/tree/_classes.py:319: FutureWarning: The parameter 'presort' is deprecated and has no effect. It will be removed in v0.24. You can suppress this warning by not passing any value to the 'presort' parameter.\n",
            "  FutureWarning)\n",
            "/usr/local/lib/python3.7/dist-packages/sklearn/tree/_classes.py:319: FutureWarning: The parameter 'presort' is deprecated and has no effect. It will be removed in v0.24. You can suppress this warning by not passing any value to the 'presort' parameter.\n",
            "  FutureWarning)\n",
            "/usr/local/lib/python3.7/dist-packages/sklearn/tree/_classes.py:319: FutureWarning: The parameter 'presort' is deprecated and has no effect. It will be removed in v0.24. You can suppress this warning by not passing any value to the 'presort' parameter.\n",
            "  FutureWarning)\n",
            "/usr/local/lib/python3.7/dist-packages/sklearn/tree/_classes.py:319: FutureWarning: The parameter 'presort' is deprecated and has no effect. It will be removed in v0.24. You can suppress this warning by not passing any value to the 'presort' parameter.\n",
            "  FutureWarning)\n",
            "/usr/local/lib/python3.7/dist-packages/sklearn/tree/_classes.py:319: FutureWarning: The parameter 'presort' is deprecated and has no effect. It will be removed in v0.24. You can suppress this warning by not passing any value to the 'presort' parameter.\n",
            "  FutureWarning)\n",
            "/usr/local/lib/python3.7/dist-packages/sklearn/tree/_classes.py:319: FutureWarning: The parameter 'presort' is deprecated and has no effect. It will be removed in v0.24. You can suppress this warning by not passing any value to the 'presort' parameter.\n",
            "  FutureWarning)\n",
            "/usr/local/lib/python3.7/dist-packages/sklearn/tree/_classes.py:319: FutureWarning: The parameter 'presort' is deprecated and has no effect. It will be removed in v0.24. You can suppress this warning by not passing any value to the 'presort' parameter.\n",
            "  FutureWarning)\n",
            "/usr/local/lib/python3.7/dist-packages/sklearn/tree/_classes.py:319: FutureWarning: The parameter 'presort' is deprecated and has no effect. It will be removed in v0.24. You can suppress this warning by not passing any value to the 'presort' parameter.\n",
            "  FutureWarning)\n",
            "/usr/local/lib/python3.7/dist-packages/sklearn/tree/_classes.py:319: FutureWarning: The parameter 'presort' is deprecated and has no effect. It will be removed in v0.24. You can suppress this warning by not passing any value to the 'presort' parameter.\n",
            "  FutureWarning)\n",
            "/usr/local/lib/python3.7/dist-packages/sklearn/tree/_classes.py:319: FutureWarning: The parameter 'presort' is deprecated and has no effect. It will be removed in v0.24. You can suppress this warning by not passing any value to the 'presort' parameter.\n",
            "  FutureWarning)\n",
            "/usr/local/lib/python3.7/dist-packages/sklearn/tree/_classes.py:319: FutureWarning: The parameter 'presort' is deprecated and has no effect. It will be removed in v0.24. You can suppress this warning by not passing any value to the 'presort' parameter.\n",
            "  FutureWarning)\n",
            "/usr/local/lib/python3.7/dist-packages/sklearn/tree/_classes.py:319: FutureWarning: The parameter 'presort' is deprecated and has no effect. It will be removed in v0.24. You can suppress this warning by not passing any value to the 'presort' parameter.\n",
            "  FutureWarning)\n",
            "/usr/local/lib/python3.7/dist-packages/sklearn/tree/_classes.py:319: FutureWarning: The parameter 'presort' is deprecated and has no effect. It will be removed in v0.24. You can suppress this warning by not passing any value to the 'presort' parameter.\n",
            "  FutureWarning)\n",
            "/usr/local/lib/python3.7/dist-packages/sklearn/tree/_classes.py:319: FutureWarning: The parameter 'presort' is deprecated and has no effect. It will be removed in v0.24. You can suppress this warning by not passing any value to the 'presort' parameter.\n",
            "  FutureWarning)\n",
            "/usr/local/lib/python3.7/dist-packages/sklearn/tree/_classes.py:319: FutureWarning: The parameter 'presort' is deprecated and has no effect. It will be removed in v0.24. You can suppress this warning by not passing any value to the 'presort' parameter.\n",
            "  FutureWarning)\n",
            "/usr/local/lib/python3.7/dist-packages/sklearn/tree/_classes.py:319: FutureWarning: The parameter 'presort' is deprecated and has no effect. It will be removed in v0.24. You can suppress this warning by not passing any value to the 'presort' parameter.\n",
            "  FutureWarning)\n",
            "/usr/local/lib/python3.7/dist-packages/sklearn/tree/_classes.py:319: FutureWarning: The parameter 'presort' is deprecated and has no effect. It will be removed in v0.24. You can suppress this warning by not passing any value to the 'presort' parameter.\n",
            "  FutureWarning)\n",
            "/usr/local/lib/python3.7/dist-packages/sklearn/tree/_classes.py:319: FutureWarning: The parameter 'presort' is deprecated and has no effect. It will be removed in v0.24. You can suppress this warning by not passing any value to the 'presort' parameter.\n",
            "  FutureWarning)\n",
            "/usr/local/lib/python3.7/dist-packages/sklearn/tree/_classes.py:319: FutureWarning: The parameter 'presort' is deprecated and has no effect. It will be removed in v0.24. You can suppress this warning by not passing any value to the 'presort' parameter.\n",
            "  FutureWarning)\n",
            "/usr/local/lib/python3.7/dist-packages/sklearn/tree/_classes.py:319: FutureWarning: The parameter 'presort' is deprecated and has no effect. It will be removed in v0.24. You can suppress this warning by not passing any value to the 'presort' parameter.\n",
            "  FutureWarning)\n",
            "/usr/local/lib/python3.7/dist-packages/sklearn/tree/_classes.py:319: FutureWarning: The parameter 'presort' is deprecated and has no effect. It will be removed in v0.24. You can suppress this warning by not passing any value to the 'presort' parameter.\n",
            "  FutureWarning)\n",
            "/usr/local/lib/python3.7/dist-packages/sklearn/tree/_classes.py:319: FutureWarning: The parameter 'presort' is deprecated and has no effect. It will be removed in v0.24. You can suppress this warning by not passing any value to the 'presort' parameter.\n",
            "  FutureWarning)\n",
            "/usr/local/lib/python3.7/dist-packages/sklearn/tree/_classes.py:319: FutureWarning: The parameter 'presort' is deprecated and has no effect. It will be removed in v0.24. You can suppress this warning by not passing any value to the 'presort' parameter.\n",
            "  FutureWarning)\n",
            "/usr/local/lib/python3.7/dist-packages/sklearn/tree/_classes.py:319: FutureWarning: The parameter 'presort' is deprecated and has no effect. It will be removed in v0.24. You can suppress this warning by not passing any value to the 'presort' parameter.\n",
            "  FutureWarning)\n",
            "/usr/local/lib/python3.7/dist-packages/sklearn/tree/_classes.py:319: FutureWarning: The parameter 'presort' is deprecated and has no effect. It will be removed in v0.24. You can suppress this warning by not passing any value to the 'presort' parameter.\n",
            "  FutureWarning)\n",
            "/usr/local/lib/python3.7/dist-packages/sklearn/tree/_classes.py:319: FutureWarning: The parameter 'presort' is deprecated and has no effect. It will be removed in v0.24. You can suppress this warning by not passing any value to the 'presort' parameter.\n",
            "  FutureWarning)\n",
            "/usr/local/lib/python3.7/dist-packages/sklearn/tree/_classes.py:319: FutureWarning: The parameter 'presort' is deprecated and has no effect. It will be removed in v0.24. You can suppress this warning by not passing any value to the 'presort' parameter.\n",
            "  FutureWarning)\n",
            "/usr/local/lib/python3.7/dist-packages/sklearn/tree/_classes.py:319: FutureWarning: The parameter 'presort' is deprecated and has no effect. It will be removed in v0.24. You can suppress this warning by not passing any value to the 'presort' parameter.\n",
            "  FutureWarning)\n",
            "/usr/local/lib/python3.7/dist-packages/sklearn/tree/_classes.py:319: FutureWarning: The parameter 'presort' is deprecated and has no effect. It will be removed in v0.24. You can suppress this warning by not passing any value to the 'presort' parameter.\n",
            "  FutureWarning)\n",
            "/usr/local/lib/python3.7/dist-packages/sklearn/tree/_classes.py:319: FutureWarning: The parameter 'presort' is deprecated and has no effect. It will be removed in v0.24. You can suppress this warning by not passing any value to the 'presort' parameter.\n",
            "  FutureWarning)\n",
            "/usr/local/lib/python3.7/dist-packages/sklearn/tree/_classes.py:319: FutureWarning: The parameter 'presort' is deprecated and has no effect. It will be removed in v0.24. You can suppress this warning by not passing any value to the 'presort' parameter.\n",
            "  FutureWarning)\n",
            "/usr/local/lib/python3.7/dist-packages/sklearn/tree/_classes.py:319: FutureWarning: The parameter 'presort' is deprecated and has no effect. It will be removed in v0.24. You can suppress this warning by not passing any value to the 'presort' parameter.\n",
            "  FutureWarning)\n",
            "/usr/local/lib/python3.7/dist-packages/sklearn/tree/_classes.py:319: FutureWarning: The parameter 'presort' is deprecated and has no effect. It will be removed in v0.24. You can suppress this warning by not passing any value to the 'presort' parameter.\n",
            "  FutureWarning)\n",
            "/usr/local/lib/python3.7/dist-packages/sklearn/tree/_classes.py:319: FutureWarning: The parameter 'presort' is deprecated and has no effect. It will be removed in v0.24. You can suppress this warning by not passing any value to the 'presort' parameter.\n",
            "  FutureWarning)\n",
            "/usr/local/lib/python3.7/dist-packages/sklearn/tree/_classes.py:319: FutureWarning: The parameter 'presort' is deprecated and has no effect. It will be removed in v0.24. You can suppress this warning by not passing any value to the 'presort' parameter.\n",
            "  FutureWarning)\n",
            "/usr/local/lib/python3.7/dist-packages/sklearn/tree/_classes.py:319: FutureWarning: The parameter 'presort' is deprecated and has no effect. It will be removed in v0.24. You can suppress this warning by not passing any value to the 'presort' parameter.\n",
            "  FutureWarning)\n",
            "/usr/local/lib/python3.7/dist-packages/sklearn/tree/_classes.py:319: FutureWarning: The parameter 'presort' is deprecated and has no effect. It will be removed in v0.24. You can suppress this warning by not passing any value to the 'presort' parameter.\n",
            "  FutureWarning)\n",
            "/usr/local/lib/python3.7/dist-packages/sklearn/tree/_classes.py:319: FutureWarning: The parameter 'presort' is deprecated and has no effect. It will be removed in v0.24. You can suppress this warning by not passing any value to the 'presort' parameter.\n",
            "  FutureWarning)\n",
            "/usr/local/lib/python3.7/dist-packages/sklearn/tree/_classes.py:319: FutureWarning: The parameter 'presort' is deprecated and has no effect. It will be removed in v0.24. You can suppress this warning by not passing any value to the 'presort' parameter.\n",
            "  FutureWarning)\n",
            "/usr/local/lib/python3.7/dist-packages/sklearn/tree/_classes.py:319: FutureWarning: The parameter 'presort' is deprecated and has no effect. It will be removed in v0.24. You can suppress this warning by not passing any value to the 'presort' parameter.\n",
            "  FutureWarning)\n",
            "/usr/local/lib/python3.7/dist-packages/sklearn/tree/_classes.py:319: FutureWarning: The parameter 'presort' is deprecated and has no effect. It will be removed in v0.24. You can suppress this warning by not passing any value to the 'presort' parameter.\n",
            "  FutureWarning)\n",
            "/usr/local/lib/python3.7/dist-packages/sklearn/tree/_classes.py:319: FutureWarning: The parameter 'presort' is deprecated and has no effect. It will be removed in v0.24. You can suppress this warning by not passing any value to the 'presort' parameter.\n",
            "  FutureWarning)\n",
            "/usr/local/lib/python3.7/dist-packages/sklearn/tree/_classes.py:319: FutureWarning: The parameter 'presort' is deprecated and has no effect. It will be removed in v0.24. You can suppress this warning by not passing any value to the 'presort' parameter.\n",
            "  FutureWarning)\n",
            "/usr/local/lib/python3.7/dist-packages/sklearn/tree/_classes.py:319: FutureWarning: The parameter 'presort' is deprecated and has no effect. It will be removed in v0.24. You can suppress this warning by not passing any value to the 'presort' parameter.\n",
            "  FutureWarning)\n",
            "/usr/local/lib/python3.7/dist-packages/sklearn/tree/_classes.py:319: FutureWarning: The parameter 'presort' is deprecated and has no effect. It will be removed in v0.24. You can suppress this warning by not passing any value to the 'presort' parameter.\n",
            "  FutureWarning)\n",
            "/usr/local/lib/python3.7/dist-packages/sklearn/tree/_classes.py:319: FutureWarning: The parameter 'presort' is deprecated and has no effect. It will be removed in v0.24. You can suppress this warning by not passing any value to the 'presort' parameter.\n",
            "  FutureWarning)\n",
            "/usr/local/lib/python3.7/dist-packages/sklearn/tree/_classes.py:319: FutureWarning: The parameter 'presort' is deprecated and has no effect. It will be removed in v0.24. You can suppress this warning by not passing any value to the 'presort' parameter.\n",
            "  FutureWarning)\n",
            "/usr/local/lib/python3.7/dist-packages/sklearn/tree/_classes.py:319: FutureWarning: The parameter 'presort' is deprecated and has no effect. It will be removed in v0.24. You can suppress this warning by not passing any value to the 'presort' parameter.\n",
            "  FutureWarning)\n",
            "/usr/local/lib/python3.7/dist-packages/sklearn/tree/_classes.py:319: FutureWarning: The parameter 'presort' is deprecated and has no effect. It will be removed in v0.24. You can suppress this warning by not passing any value to the 'presort' parameter.\n",
            "  FutureWarning)\n",
            "/usr/local/lib/python3.7/dist-packages/sklearn/tree/_classes.py:319: FutureWarning: The parameter 'presort' is deprecated and has no effect. It will be removed in v0.24. You can suppress this warning by not passing any value to the 'presort' parameter.\n",
            "  FutureWarning)\n",
            "/usr/local/lib/python3.7/dist-packages/sklearn/tree/_classes.py:319: FutureWarning: The parameter 'presort' is deprecated and has no effect. It will be removed in v0.24. You can suppress this warning by not passing any value to the 'presort' parameter.\n",
            "  FutureWarning)\n",
            "/usr/local/lib/python3.7/dist-packages/sklearn/tree/_classes.py:319: FutureWarning: The parameter 'presort' is deprecated and has no effect. It will be removed in v0.24. You can suppress this warning by not passing any value to the 'presort' parameter.\n",
            "  FutureWarning)\n",
            "/usr/local/lib/python3.7/dist-packages/sklearn/tree/_classes.py:319: FutureWarning: The parameter 'presort' is deprecated and has no effect. It will be removed in v0.24. You can suppress this warning by not passing any value to the 'presort' parameter.\n",
            "  FutureWarning)\n",
            "/usr/local/lib/python3.7/dist-packages/sklearn/tree/_classes.py:319: FutureWarning: The parameter 'presort' is deprecated and has no effect. It will be removed in v0.24. You can suppress this warning by not passing any value to the 'presort' parameter.\n",
            "  FutureWarning)\n",
            "/usr/local/lib/python3.7/dist-packages/sklearn/tree/_classes.py:319: FutureWarning: The parameter 'presort' is deprecated and has no effect. It will be removed in v0.24. You can suppress this warning by not passing any value to the 'presort' parameter.\n",
            "  FutureWarning)\n",
            "/usr/local/lib/python3.7/dist-packages/sklearn/tree/_classes.py:319: FutureWarning: The parameter 'presort' is deprecated and has no effect. It will be removed in v0.24. You can suppress this warning by not passing any value to the 'presort' parameter.\n",
            "  FutureWarning)\n",
            "/usr/local/lib/python3.7/dist-packages/sklearn/tree/_classes.py:319: FutureWarning: The parameter 'presort' is deprecated and has no effect. It will be removed in v0.24. You can suppress this warning by not passing any value to the 'presort' parameter.\n",
            "  FutureWarning)\n",
            "/usr/local/lib/python3.7/dist-packages/sklearn/tree/_classes.py:319: FutureWarning: The parameter 'presort' is deprecated and has no effect. It will be removed in v0.24. You can suppress this warning by not passing any value to the 'presort' parameter.\n",
            "  FutureWarning)\n",
            "/usr/local/lib/python3.7/dist-packages/sklearn/tree/_classes.py:319: FutureWarning: The parameter 'presort' is deprecated and has no effect. It will be removed in v0.24. You can suppress this warning by not passing any value to the 'presort' parameter.\n",
            "  FutureWarning)\n",
            "/usr/local/lib/python3.7/dist-packages/sklearn/tree/_classes.py:319: FutureWarning: The parameter 'presort' is deprecated and has no effect. It will be removed in v0.24. You can suppress this warning by not passing any value to the 'presort' parameter.\n",
            "  FutureWarning)\n",
            "/usr/local/lib/python3.7/dist-packages/sklearn/tree/_classes.py:319: FutureWarning: The parameter 'presort' is deprecated and has no effect. It will be removed in v0.24. You can suppress this warning by not passing any value to the 'presort' parameter.\n",
            "  FutureWarning)\n",
            "/usr/local/lib/python3.7/dist-packages/sklearn/tree/_classes.py:319: FutureWarning: The parameter 'presort' is deprecated and has no effect. It will be removed in v0.24. You can suppress this warning by not passing any value to the 'presort' parameter.\n",
            "  FutureWarning)\n",
            "/usr/local/lib/python3.7/dist-packages/sklearn/tree/_classes.py:319: FutureWarning: The parameter 'presort' is deprecated and has no effect. It will be removed in v0.24. You can suppress this warning by not passing any value to the 'presort' parameter.\n",
            "  FutureWarning)\n",
            "/usr/local/lib/python3.7/dist-packages/sklearn/tree/_classes.py:319: FutureWarning: The parameter 'presort' is deprecated and has no effect. It will be removed in v0.24. You can suppress this warning by not passing any value to the 'presort' parameter.\n",
            "  FutureWarning)\n",
            "/usr/local/lib/python3.7/dist-packages/sklearn/tree/_classes.py:319: FutureWarning: The parameter 'presort' is deprecated and has no effect. It will be removed in v0.24. You can suppress this warning by not passing any value to the 'presort' parameter.\n",
            "  FutureWarning)\n",
            "/usr/local/lib/python3.7/dist-packages/sklearn/tree/_classes.py:319: FutureWarning: The parameter 'presort' is deprecated and has no effect. It will be removed in v0.24. You can suppress this warning by not passing any value to the 'presort' parameter.\n",
            "  FutureWarning)\n",
            "/usr/local/lib/python3.7/dist-packages/sklearn/tree/_classes.py:319: FutureWarning: The parameter 'presort' is deprecated and has no effect. It will be removed in v0.24. You can suppress this warning by not passing any value to the 'presort' parameter.\n",
            "  FutureWarning)\n",
            "/usr/local/lib/python3.7/dist-packages/sklearn/tree/_classes.py:319: FutureWarning: The parameter 'presort' is deprecated and has no effect. It will be removed in v0.24. You can suppress this warning by not passing any value to the 'presort' parameter.\n",
            "  FutureWarning)\n",
            "/usr/local/lib/python3.7/dist-packages/sklearn/tree/_classes.py:319: FutureWarning: The parameter 'presort' is deprecated and has no effect. It will be removed in v0.24. You can suppress this warning by not passing any value to the 'presort' parameter.\n",
            "  FutureWarning)\n",
            "/usr/local/lib/python3.7/dist-packages/sklearn/tree/_classes.py:319: FutureWarning: The parameter 'presort' is deprecated and has no effect. It will be removed in v0.24. You can suppress this warning by not passing any value to the 'presort' parameter.\n",
            "  FutureWarning)\n",
            "/usr/local/lib/python3.7/dist-packages/sklearn/tree/_classes.py:319: FutureWarning: The parameter 'presort' is deprecated and has no effect. It will be removed in v0.24. You can suppress this warning by not passing any value to the 'presort' parameter.\n",
            "  FutureWarning)\n",
            "/usr/local/lib/python3.7/dist-packages/sklearn/tree/_classes.py:319: FutureWarning: The parameter 'presort' is deprecated and has no effect. It will be removed in v0.24. You can suppress this warning by not passing any value to the 'presort' parameter.\n",
            "  FutureWarning)\n",
            "/usr/local/lib/python3.7/dist-packages/sklearn/tree/_classes.py:319: FutureWarning: The parameter 'presort' is deprecated and has no effect. It will be removed in v0.24. You can suppress this warning by not passing any value to the 'presort' parameter.\n",
            "  FutureWarning)\n",
            "/usr/local/lib/python3.7/dist-packages/sklearn/tree/_classes.py:319: FutureWarning: The parameter 'presort' is deprecated and has no effect. It will be removed in v0.24. You can suppress this warning by not passing any value to the 'presort' parameter.\n",
            "  FutureWarning)\n",
            "/usr/local/lib/python3.7/dist-packages/sklearn/tree/_classes.py:319: FutureWarning: The parameter 'presort' is deprecated and has no effect. It will be removed in v0.24. You can suppress this warning by not passing any value to the 'presort' parameter.\n",
            "  FutureWarning)\n",
            "/usr/local/lib/python3.7/dist-packages/sklearn/tree/_classes.py:319: FutureWarning: The parameter 'presort' is deprecated and has no effect. It will be removed in v0.24. You can suppress this warning by not passing any value to the 'presort' parameter.\n",
            "  FutureWarning)\n",
            "/usr/local/lib/python3.7/dist-packages/sklearn/tree/_classes.py:319: FutureWarning: The parameter 'presort' is deprecated and has no effect. It will be removed in v0.24. You can suppress this warning by not passing any value to the 'presort' parameter.\n",
            "  FutureWarning)\n",
            "/usr/local/lib/python3.7/dist-packages/sklearn/tree/_classes.py:319: FutureWarning: The parameter 'presort' is deprecated and has no effect. It will be removed in v0.24. You can suppress this warning by not passing any value to the 'presort' parameter.\n",
            "  FutureWarning)\n",
            "/usr/local/lib/python3.7/dist-packages/sklearn/tree/_classes.py:319: FutureWarning: The parameter 'presort' is deprecated and has no effect. It will be removed in v0.24. You can suppress this warning by not passing any value to the 'presort' parameter.\n",
            "  FutureWarning)\n",
            "/usr/local/lib/python3.7/dist-packages/sklearn/tree/_classes.py:319: FutureWarning: The parameter 'presort' is deprecated and has no effect. It will be removed in v0.24. You can suppress this warning by not passing any value to the 'presort' parameter.\n",
            "  FutureWarning)\n",
            "/usr/local/lib/python3.7/dist-packages/sklearn/tree/_classes.py:319: FutureWarning: The parameter 'presort' is deprecated and has no effect. It will be removed in v0.24. You can suppress this warning by not passing any value to the 'presort' parameter.\n",
            "  FutureWarning)\n",
            "/usr/local/lib/python3.7/dist-packages/sklearn/tree/_classes.py:319: FutureWarning: The parameter 'presort' is deprecated and has no effect. It will be removed in v0.24. You can suppress this warning by not passing any value to the 'presort' parameter.\n",
            "  FutureWarning)\n",
            "/usr/local/lib/python3.7/dist-packages/sklearn/tree/_classes.py:319: FutureWarning: The parameter 'presort' is deprecated and has no effect. It will be removed in v0.24. You can suppress this warning by not passing any value to the 'presort' parameter.\n",
            "  FutureWarning)\n",
            "/usr/local/lib/python3.7/dist-packages/sklearn/tree/_classes.py:319: FutureWarning: The parameter 'presort' is deprecated and has no effect. It will be removed in v0.24. You can suppress this warning by not passing any value to the 'presort' parameter.\n",
            "  FutureWarning)\n",
            "/usr/local/lib/python3.7/dist-packages/sklearn/tree/_classes.py:319: FutureWarning: The parameter 'presort' is deprecated and has no effect. It will be removed in v0.24. You can suppress this warning by not passing any value to the 'presort' parameter.\n",
            "  FutureWarning)\n",
            "/usr/local/lib/python3.7/dist-packages/sklearn/tree/_classes.py:319: FutureWarning: The parameter 'presort' is deprecated and has no effect. It will be removed in v0.24. You can suppress this warning by not passing any value to the 'presort' parameter.\n",
            "  FutureWarning)\n",
            "/usr/local/lib/python3.7/dist-packages/sklearn/tree/_classes.py:319: FutureWarning: The parameter 'presort' is deprecated and has no effect. It will be removed in v0.24. You can suppress this warning by not passing any value to the 'presort' parameter.\n",
            "  FutureWarning)\n",
            "/usr/local/lib/python3.7/dist-packages/sklearn/tree/_classes.py:319: FutureWarning: The parameter 'presort' is deprecated and has no effect. It will be removed in v0.24. You can suppress this warning by not passing any value to the 'presort' parameter.\n",
            "  FutureWarning)\n",
            "/usr/local/lib/python3.7/dist-packages/sklearn/tree/_classes.py:319: FutureWarning: The parameter 'presort' is deprecated and has no effect. It will be removed in v0.24. You can suppress this warning by not passing any value to the 'presort' parameter.\n",
            "  FutureWarning)\n",
            "/usr/local/lib/python3.7/dist-packages/sklearn/tree/_classes.py:319: FutureWarning: The parameter 'presort' is deprecated and has no effect. It will be removed in v0.24. You can suppress this warning by not passing any value to the 'presort' parameter.\n",
            "  FutureWarning)\n",
            "/usr/local/lib/python3.7/dist-packages/sklearn/tree/_classes.py:319: FutureWarning: The parameter 'presort' is deprecated and has no effect. It will be removed in v0.24. You can suppress this warning by not passing any value to the 'presort' parameter.\n",
            "  FutureWarning)\n",
            "/usr/local/lib/python3.7/dist-packages/sklearn/tree/_classes.py:319: FutureWarning: The parameter 'presort' is deprecated and has no effect. It will be removed in v0.24. You can suppress this warning by not passing any value to the 'presort' parameter.\n",
            "  FutureWarning)\n",
            "/usr/local/lib/python3.7/dist-packages/sklearn/tree/_classes.py:319: FutureWarning: The parameter 'presort' is deprecated and has no effect. It will be removed in v0.24. You can suppress this warning by not passing any value to the 'presort' parameter.\n",
            "  FutureWarning)\n",
            "/usr/local/lib/python3.7/dist-packages/sklearn/tree/_classes.py:319: FutureWarning: The parameter 'presort' is deprecated and has no effect. It will be removed in v0.24. You can suppress this warning by not passing any value to the 'presort' parameter.\n",
            "  FutureWarning)\n",
            "/usr/local/lib/python3.7/dist-packages/sklearn/tree/_classes.py:319: FutureWarning: The parameter 'presort' is deprecated and has no effect. It will be removed in v0.24. You can suppress this warning by not passing any value to the 'presort' parameter.\n",
            "  FutureWarning)\n",
            "/usr/local/lib/python3.7/dist-packages/sklearn/tree/_classes.py:319: FutureWarning: The parameter 'presort' is deprecated and has no effect. It will be removed in v0.24. You can suppress this warning by not passing any value to the 'presort' parameter.\n",
            "  FutureWarning)\n",
            "/usr/local/lib/python3.7/dist-packages/sklearn/tree/_classes.py:319: FutureWarning: The parameter 'presort' is deprecated and has no effect. It will be removed in v0.24. You can suppress this warning by not passing any value to the 'presort' parameter.\n",
            "  FutureWarning)\n",
            "/usr/local/lib/python3.7/dist-packages/sklearn/tree/_classes.py:319: FutureWarning: The parameter 'presort' is deprecated and has no effect. It will be removed in v0.24. You can suppress this warning by not passing any value to the 'presort' parameter.\n",
            "  FutureWarning)\n",
            "/usr/local/lib/python3.7/dist-packages/sklearn/tree/_classes.py:319: FutureWarning: The parameter 'presort' is deprecated and has no effect. It will be removed in v0.24. You can suppress this warning by not passing any value to the 'presort' parameter.\n",
            "  FutureWarning)\n",
            "/usr/local/lib/python3.7/dist-packages/sklearn/tree/_classes.py:319: FutureWarning: The parameter 'presort' is deprecated and has no effect. It will be removed in v0.24. You can suppress this warning by not passing any value to the 'presort' parameter.\n",
            "  FutureWarning)\n",
            "/usr/local/lib/python3.7/dist-packages/sklearn/tree/_classes.py:319: FutureWarning: The parameter 'presort' is deprecated and has no effect. It will be removed in v0.24. You can suppress this warning by not passing any value to the 'presort' parameter.\n",
            "  FutureWarning)\n",
            "/usr/local/lib/python3.7/dist-packages/sklearn/tree/_classes.py:319: FutureWarning: The parameter 'presort' is deprecated and has no effect. It will be removed in v0.24. You can suppress this warning by not passing any value to the 'presort' parameter.\n",
            "  FutureWarning)\n",
            "/usr/local/lib/python3.7/dist-packages/sklearn/tree/_classes.py:319: FutureWarning: The parameter 'presort' is deprecated and has no effect. It will be removed in v0.24. You can suppress this warning by not passing any value to the 'presort' parameter.\n",
            "  FutureWarning)\n",
            "/usr/local/lib/python3.7/dist-packages/sklearn/tree/_classes.py:319: FutureWarning: The parameter 'presort' is deprecated and has no effect. It will be removed in v0.24. You can suppress this warning by not passing any value to the 'presort' parameter.\n",
            "  FutureWarning)\n",
            "/usr/local/lib/python3.7/dist-packages/sklearn/tree/_classes.py:319: FutureWarning: The parameter 'presort' is deprecated and has no effect. It will be removed in v0.24. You can suppress this warning by not passing any value to the 'presort' parameter.\n",
            "  FutureWarning)\n",
            "/usr/local/lib/python3.7/dist-packages/sklearn/tree/_classes.py:319: FutureWarning: The parameter 'presort' is deprecated and has no effect. It will be removed in v0.24. You can suppress this warning by not passing any value to the 'presort' parameter.\n",
            "  FutureWarning)\n",
            "/usr/local/lib/python3.7/dist-packages/sklearn/tree/_classes.py:319: FutureWarning: The parameter 'presort' is deprecated and has no effect. It will be removed in v0.24. You can suppress this warning by not passing any value to the 'presort' parameter.\n",
            "  FutureWarning)\n",
            "/usr/local/lib/python3.7/dist-packages/sklearn/tree/_classes.py:319: FutureWarning: The parameter 'presort' is deprecated and has no effect. It will be removed in v0.24. You can suppress this warning by not passing any value to the 'presort' parameter.\n",
            "  FutureWarning)\n",
            "/usr/local/lib/python3.7/dist-packages/sklearn/tree/_classes.py:319: FutureWarning: The parameter 'presort' is deprecated and has no effect. It will be removed in v0.24. You can suppress this warning by not passing any value to the 'presort' parameter.\n",
            "  FutureWarning)\n",
            "/usr/local/lib/python3.7/dist-packages/sklearn/tree/_classes.py:319: FutureWarning: The parameter 'presort' is deprecated and has no effect. It will be removed in v0.24. You can suppress this warning by not passing any value to the 'presort' parameter.\n",
            "  FutureWarning)\n",
            "/usr/local/lib/python3.7/dist-packages/sklearn/tree/_classes.py:319: FutureWarning: The parameter 'presort' is deprecated and has no effect. It will be removed in v0.24. You can suppress this warning by not passing any value to the 'presort' parameter.\n",
            "  FutureWarning)\n",
            "/usr/local/lib/python3.7/dist-packages/sklearn/tree/_classes.py:319: FutureWarning: The parameter 'presort' is deprecated and has no effect. It will be removed in v0.24. You can suppress this warning by not passing any value to the 'presort' parameter.\n",
            "  FutureWarning)\n",
            "/usr/local/lib/python3.7/dist-packages/sklearn/tree/_classes.py:319: FutureWarning: The parameter 'presort' is deprecated and has no effect. It will be removed in v0.24. You can suppress this warning by not passing any value to the 'presort' parameter.\n",
            "  FutureWarning)\n",
            "/usr/local/lib/python3.7/dist-packages/sklearn/tree/_classes.py:319: FutureWarning: The parameter 'presort' is deprecated and has no effect. It will be removed in v0.24. You can suppress this warning by not passing any value to the 'presort' parameter.\n",
            "  FutureWarning)\n",
            "/usr/local/lib/python3.7/dist-packages/sklearn/tree/_classes.py:319: FutureWarning: The parameter 'presort' is deprecated and has no effect. It will be removed in v0.24. You can suppress this warning by not passing any value to the 'presort' parameter.\n",
            "  FutureWarning)\n",
            "/usr/local/lib/python3.7/dist-packages/sklearn/tree/_classes.py:319: FutureWarning: The parameter 'presort' is deprecated and has no effect. It will be removed in v0.24. You can suppress this warning by not passing any value to the 'presort' parameter.\n",
            "  FutureWarning)\n",
            "/usr/local/lib/python3.7/dist-packages/sklearn/tree/_classes.py:319: FutureWarning: The parameter 'presort' is deprecated and has no effect. It will be removed in v0.24. You can suppress this warning by not passing any value to the 'presort' parameter.\n",
            "  FutureWarning)\n",
            "/usr/local/lib/python3.7/dist-packages/sklearn/tree/_classes.py:319: FutureWarning: The parameter 'presort' is deprecated and has no effect. It will be removed in v0.24. You can suppress this warning by not passing any value to the 'presort' parameter.\n",
            "  FutureWarning)\n",
            "/usr/local/lib/python3.7/dist-packages/sklearn/tree/_classes.py:319: FutureWarning: The parameter 'presort' is deprecated and has no effect. It will be removed in v0.24. You can suppress this warning by not passing any value to the 'presort' parameter.\n",
            "  FutureWarning)\n",
            "/usr/local/lib/python3.7/dist-packages/sklearn/tree/_classes.py:319: FutureWarning: The parameter 'presort' is deprecated and has no effect. It will be removed in v0.24. You can suppress this warning by not passing any value to the 'presort' parameter.\n",
            "  FutureWarning)\n",
            "/usr/local/lib/python3.7/dist-packages/sklearn/tree/_classes.py:319: FutureWarning: The parameter 'presort' is deprecated and has no effect. It will be removed in v0.24. You can suppress this warning by not passing any value to the 'presort' parameter.\n",
            "  FutureWarning)\n",
            "/usr/local/lib/python3.7/dist-packages/sklearn/tree/_classes.py:319: FutureWarning: The parameter 'presort' is deprecated and has no effect. It will be removed in v0.24. You can suppress this warning by not passing any value to the 'presort' parameter.\n",
            "  FutureWarning)\n",
            "/usr/local/lib/python3.7/dist-packages/sklearn/tree/_classes.py:319: FutureWarning: The parameter 'presort' is deprecated and has no effect. It will be removed in v0.24. You can suppress this warning by not passing any value to the 'presort' parameter.\n",
            "  FutureWarning)\n",
            "/usr/local/lib/python3.7/dist-packages/sklearn/tree/_classes.py:319: FutureWarning: The parameter 'presort' is deprecated and has no effect. It will be removed in v0.24. You can suppress this warning by not passing any value to the 'presort' parameter.\n",
            "  FutureWarning)\n",
            "/usr/local/lib/python3.7/dist-packages/sklearn/tree/_classes.py:319: FutureWarning: The parameter 'presort' is deprecated and has no effect. It will be removed in v0.24. You can suppress this warning by not passing any value to the 'presort' parameter.\n",
            "  FutureWarning)\n",
            "/usr/local/lib/python3.7/dist-packages/sklearn/tree/_classes.py:319: FutureWarning: The parameter 'presort' is deprecated and has no effect. It will be removed in v0.24. You can suppress this warning by not passing any value to the 'presort' parameter.\n",
            "  FutureWarning)\n",
            "/usr/local/lib/python3.7/dist-packages/sklearn/tree/_classes.py:319: FutureWarning: The parameter 'presort' is deprecated and has no effect. It will be removed in v0.24. You can suppress this warning by not passing any value to the 'presort' parameter.\n",
            "  FutureWarning)\n"
          ],
          "name": "stderr"
        },
        {
          "output_type": "stream",
          "text": [
            "Optimal number of features : 5\n"
          ],
          "name": "stdout"
        },
        {
          "output_type": "display_data",
          "data": {
            "image/png": "[encoded data removed]",
            "text/plain": [
              "<Figure size 432x288 with 1 Axes>"
            ]
          },
          "metadata": {
            "needs_background": "light"
          }
        }
      ]
    },
    {
      "cell_type": "markdown",
      "metadata": {
        "id": "XMDyMwek_S7n"
      },
      "source": [
        "#### Univariate feature selection"
      ]
    },
    {
      "cell_type": "code",
      "metadata": {
        "colab": {
          "base_uri": "https://localhost:8080/"
        },
        "id": "Sye2hDog_S7n",
        "scrolled": true,
        "outputId": "a41bb46d-5995-4213-8afb-2a3b8c2f8012"
      },
      "source": [
        "from sklearn.feature_selection import SelectKBest\n",
        "from sklearn.feature_selection import chi2\n",
        "\n",
        "KBest = SelectKBest(chi2, k=20)\n",
        "X_new = KBest.fit_transform(X_train, y_train)\n",
        "sorted(zip(KBest.scores_, features_name), reverse=True)"
      ],
      "execution_count": null,
      "outputs": [
        {
          "output_type": "execute_result",
          "data": {
            "text/plain": [
              "[(47.58646350766274, 'PPERSAUT'),\n",
              " (36.04418966987095, 'APLEZIER'),\n",
              " (31.949407652298117, 'PPLEZIER'),\n",
              " (21.513776001146248, 'PWAPART'),\n",
              " (16.138631949080224, 'PBYSTAND'),\n",
              " (14.00580212778908, 'AWAPART'),\n",
              " (13.061632037074508, 'ABYSTAND'),\n",
              " (12.54157326198014, 'PBRAND'),\n",
              " (11.251117273784788, 'APERSAUT'),\n",
              " (9.527705575106664, 'MKOOPKLA'),\n",
              " (9.125613485077949, 'MHHUUR'),\n",
              " (8.352663327516815, 'MOPLHOOG'),\n",
              " (7.9598151963798145, 'MHKOOP'),\n",
              " (7.601619672963379, 'PGEZONG'),\n",
              " (6.958177616719548, 'MINKM30'),\n",
              " (6.5098651470372735, 'AGEZONG'),\n",
              " (6.126831193662437, 'MOPLLAAG'),\n",
              " (5.912689033634445, 'ABROM'),\n",
              " (5.882928351122764, 'PBROM'),\n",
              " (4.94349674657201, 'MAUT0'),\n",
              " (4.776010223640633, 'MSKA'),\n",
              " (4.6750338094227395, 'MBERHOOG'),\n",
              " (4.672956053271597, 'PFIETS'),\n",
              " (4.638353171185632, 'PWAOREG'),\n",
              " (4.093653434011674, 'MSKD'),\n",
              " (4.033935243000773, 'MBERBOER'),\n",
              " (3.994726026342571, 'AZEILPL'),\n",
              " (3.6853190429876337, 'MINK7512'),\n",
              " (3.250856047523577, 'MRELOV'),\n",
              " (3.168910968090792, 'AFIETS'),\n",
              " (3.130143667394486, 'MFALLEEN'),\n",
              " (3.079844504158223, 'MZPART'),\n",
              " (2.9288710309815196, 'MINK4575'),\n",
              " (2.5818604878233145, 'AWALAND'),\n",
              " (2.4138694956896996, 'MINKGEM'),\n",
              " (2.398554717335718, 'MBERARBO'),\n",
              " (2.3763996928646085, 'PWALAND'),\n",
              " (1.882867480883716, 'MRELGE'),\n",
              " (1.8760817225996405, 'AWAOREG'),\n",
              " (1.8655150347161273, 'ALEVEN'),\n",
              " (1.7361894881565103, 'ABRAND'),\n",
              " (1.719174428580289, 'MBERMIDD'),\n",
              " (1.57629235376012, 'MBERARBG'),\n",
              " (1.3748154099907037, 'MZFONDS'),\n",
              " (1.2641379743198697, 'MAUT1'),\n",
              " (1.1983242599137598, 'PLEVEN'),\n",
              " (1.1540123594039997, 'MSKC'),\n",
              " (1.1334731301939789, 'MOPLMIDD'),\n",
              " (0.9794974863682515, 'AINBOED'),\n",
              " (0.9773908915950871, 'MRELSA'),\n",
              " (0.8812801856542224, 'MGODGE'),\n",
              " (0.8485878987222687, 'MBERZELF'),\n",
              " (0.805261234928754, 'PWERKT'),\n",
              " (0.7414163030815236, 'ATRACTOR'),\n",
              " (0.6843126133897055, 'MGEMOMV'),\n",
              " (0.6327866788901434, 'MFWEKIND'),\n",
              " (0.5896410237991029, 'MSKB1'),\n",
              " (0.5831371429131373, 'PZEILPL'),\n",
              " (0.5744267864924222, 'PTRACTOR'),\n",
              " (0.44454858570804173, 'MGODPR'),\n",
              " (0.41760693250555525, 'APERSONG'),\n",
              " (0.4009871665627445, 'PAANHANG'),\n",
              " (0.3885032273779079, 'PVRAAUT'),\n",
              " (0.38143953233467315, 'AWERKT'),\n",
              " (0.286873387535924, 'PPERSONG'),\n",
              " (0.2754841066861527, 'AVRAAUT'),\n",
              " (0.21760824434105033, 'AAANHANG'),\n",
              " (0.20809749948520967, 'PBESAUT'),\n",
              " (0.19761492721059226, 'ABESAUT'),\n",
              " (0.12100058897961401, 'PMOTSCO'),\n",
              " (0.09266323373101282, 'MAANTHUI'),\n",
              " (0.07937226710928093, 'PINBOED'),\n",
              " (0.06855706077730091, 'AMOTSCO'),\n",
              " (0.0551730046292315, 'MAUT2'),\n",
              " (0.03622250884894011, 'MGODRK'),\n",
              " (0.03347223408332957, 'MFGEKIND'),\n",
              " (0.018381755239148024, 'MGODOV'),\n",
              " (0.011211206118380362, 'MSKB2'),\n",
              " (0.010941441735101984, 'PWABEDR'),\n",
              " (0.007823631753954978, 'MGEMLEEF'),\n",
              " (0.003934738584275777, 'MINK123M'),\n",
              " (0.0008168721970849614, 'AWABEDR'),\n",
              " (0.0006256306369800651, 'MINK3045')]"
            ]
          },
          "metadata": {},
          "execution_count": 202
        }
      ]
    },
    {
      "cell_type": "markdown",
      "metadata": {
        "id": "BarpE4lf_S7o"
      },
      "source": [
        "Recreating the DataFrame"
      ]
    },
    {
      "cell_type": "code",
      "metadata": {
        "colab": {
          "base_uri": "https://localhost:8080/",
          "height": 255
        },
        "id": "6XPgBS3x_S7o",
        "outputId": "33cc8e4f-1a32-4f27-fd22-d2e3916487c5"
      },
      "source": [
        "# Transforming the Numpy array into a Pandas DataFrame\n",
        "data_prepared_df = pd.DataFrame(X_train, columns = num_attributes, index = list(data_num.index.values))\n",
        "data_prepared_df.head()"
      ],
      "execution_count": null,
      "outputs": [
        {
          "output_type": "execute_result",
          "data": {
            "text/html": [
              "<div>\n",
              "<style scoped>\n",
              "    .dataframe tbody tr th:only-of-type {\n",
              "        vertical-align: middle;\n",
              "    }\n",
              "\n",
              "    .dataframe tbody tr th {\n",
              "        vertical-align: top;\n",
              "    }\n",
              "\n",
              "    .dataframe thead th {\n",
              "        text-align: right;\n",
              "    }\n",
              "</style>\n",
              "<table border=\"1\" class=\"dataframe\">\n",
              "  <thead>\n",
              "    <tr style=\"text-align: right;\">\n",
              "      <th></th>\n",
              "      <th>MAANTHUI</th>\n",
              "      <th>MGEMOMV</th>\n",
              "      <th>MGEMLEEF</th>\n",
              "      <th>MGODRK</th>\n",
              "      <th>MGODPR</th>\n",
              "      <th>MGODOV</th>\n",
              "      <th>MGODGE</th>\n",
              "      <th>MRELGE</th>\n",
              "      <th>MRELSA</th>\n",
              "      <th>MRELOV</th>\n",
              "      <th>MFALLEEN</th>\n",
              "      <th>MFGEKIND</th>\n",
              "      <th>MFWEKIND</th>\n",
              "      <th>MOPLHOOG</th>\n",
              "      <th>MOPLMIDD</th>\n",
              "      <th>MOPLLAAG</th>\n",
              "      <th>MBERHOOG</th>\n",
              "      <th>MBERZELF</th>\n",
              "      <th>MBERBOER</th>\n",
              "      <th>MBERMIDD</th>\n",
              "      <th>MBERARBG</th>\n",
              "      <th>MBERARBO</th>\n",
              "      <th>MSKA</th>\n",
              "      <th>MSKB1</th>\n",
              "      <th>MSKB2</th>\n",
              "      <th>MSKC</th>\n",
              "      <th>MSKD</th>\n",
              "      <th>MHHUUR</th>\n",
              "      <th>MHKOOP</th>\n",
              "      <th>MAUT1</th>\n",
              "      <th>MAUT2</th>\n",
              "      <th>MAUT0</th>\n",
              "      <th>MZFONDS</th>\n",
              "      <th>MZPART</th>\n",
              "      <th>MINKM30</th>\n",
              "      <th>MINK3045</th>\n",
              "      <th>MINK4575</th>\n",
              "      <th>MINK7512</th>\n",
              "      <th>MINK123M</th>\n",
              "      <th>MINKGEM</th>\n",
              "      <th>...</th>\n",
              "      <th>PWALAND</th>\n",
              "      <th>PPERSAUT</th>\n",
              "      <th>PBESAUT</th>\n",
              "      <th>PMOTSCO</th>\n",
              "      <th>PVRAAUT</th>\n",
              "      <th>PAANHANG</th>\n",
              "      <th>PTRACTOR</th>\n",
              "      <th>PWERKT</th>\n",
              "      <th>PBROM</th>\n",
              "      <th>PLEVEN</th>\n",
              "      <th>PPERSONG</th>\n",
              "      <th>PGEZONG</th>\n",
              "      <th>PWAOREG</th>\n",
              "      <th>PBRAND</th>\n",
              "      <th>PZEILPL</th>\n",
              "      <th>PPLEZIER</th>\n",
              "      <th>PFIETS</th>\n",
              "      <th>PINBOED</th>\n",
              "      <th>PBYSTAND</th>\n",
              "      <th>AWAPART</th>\n",
              "      <th>AWABEDR</th>\n",
              "      <th>AWALAND</th>\n",
              "      <th>APERSAUT</th>\n",
              "      <th>ABESAUT</th>\n",
              "      <th>AMOTSCO</th>\n",
              "      <th>AVRAAUT</th>\n",
              "      <th>AAANHANG</th>\n",
              "      <th>ATRACTOR</th>\n",
              "      <th>AWERKT</th>\n",
              "      <th>ABROM</th>\n",
              "      <th>ALEVEN</th>\n",
              "      <th>APERSONG</th>\n",
              "      <th>AGEZONG</th>\n",
              "      <th>AWAOREG</th>\n",
              "      <th>ABRAND</th>\n",
              "      <th>AZEILPL</th>\n",
              "      <th>APLEZIER</th>\n",
              "      <th>AFIETS</th>\n",
              "      <th>AINBOED</th>\n",
              "      <th>ABYSTAND</th>\n",
              "    </tr>\n",
              "  </thead>\n",
              "  <tbody>\n",
              "    <tr>\n",
              "      <th>0</th>\n",
              "      <td>0.0</td>\n",
              "      <td>0.50</td>\n",
              "      <td>0.2</td>\n",
              "      <td>0.000000</td>\n",
              "      <td>0.555556</td>\n",
              "      <td>0.2</td>\n",
              "      <td>0.333333</td>\n",
              "      <td>0.777778</td>\n",
              "      <td>0.000000</td>\n",
              "      <td>0.222222</td>\n",
              "      <td>0.111111</td>\n",
              "      <td>0.222222</td>\n",
              "      <td>0.666667</td>\n",
              "      <td>0.111111</td>\n",
              "      <td>0.222222</td>\n",
              "      <td>0.777778</td>\n",
              "      <td>0.111111</td>\n",
              "      <td>0.0</td>\n",
              "      <td>0.111111</td>\n",
              "      <td>0.222222</td>\n",
              "      <td>0.555556</td>\n",
              "      <td>0.222222</td>\n",
              "      <td>0.111111</td>\n",
              "      <td>0.111111</td>\n",
              "      <td>0.222222</td>\n",
              "      <td>0.666667</td>\n",
              "      <td>0.111111</td>\n",
              "      <td>0.111111</td>\n",
              "      <td>0.888889</td>\n",
              "      <td>0.888889</td>\n",
              "      <td>0.000000</td>\n",
              "      <td>0.111111</td>\n",
              "      <td>0.888889</td>\n",
              "      <td>0.111111</td>\n",
              "      <td>0.000000</td>\n",
              "      <td>0.444444</td>\n",
              "      <td>0.555556</td>\n",
              "      <td>0.000000</td>\n",
              "      <td>0.0</td>\n",
              "      <td>0.444444</td>\n",
              "      <td>...</td>\n",
              "      <td>0.0</td>\n",
              "      <td>0.75</td>\n",
              "      <td>0.0</td>\n",
              "      <td>0.0</td>\n",
              "      <td>0.0</td>\n",
              "      <td>0.0</td>\n",
              "      <td>0.0</td>\n",
              "      <td>0.0</td>\n",
              "      <td>0.0</td>\n",
              "      <td>0.0</td>\n",
              "      <td>0.0</td>\n",
              "      <td>0.0</td>\n",
              "      <td>0.0</td>\n",
              "      <td>0.625</td>\n",
              "      <td>0.0</td>\n",
              "      <td>0.0</td>\n",
              "      <td>0.0</td>\n",
              "      <td>0.0</td>\n",
              "      <td>0.0</td>\n",
              "      <td>0.0</td>\n",
              "      <td>0.0</td>\n",
              "      <td>0.0</td>\n",
              "      <td>0.142857</td>\n",
              "      <td>0.0</td>\n",
              "      <td>0.0</td>\n",
              "      <td>0.0</td>\n",
              "      <td>0.0</td>\n",
              "      <td>0.0</td>\n",
              "      <td>0.0</td>\n",
              "      <td>0.0</td>\n",
              "      <td>0.0</td>\n",
              "      <td>0.0</td>\n",
              "      <td>0.0</td>\n",
              "      <td>0.0</td>\n",
              "      <td>0.142857</td>\n",
              "      <td>0.0</td>\n",
              "      <td>0.0</td>\n",
              "      <td>0.0</td>\n",
              "      <td>0.0</td>\n",
              "      <td>0.0</td>\n",
              "    </tr>\n",
              "    <tr>\n",
              "      <th>1</th>\n",
              "      <td>0.0</td>\n",
              "      <td>0.25</td>\n",
              "      <td>0.2</td>\n",
              "      <td>0.111111</td>\n",
              "      <td>0.444444</td>\n",
              "      <td>0.2</td>\n",
              "      <td>0.444444</td>\n",
              "      <td>0.666667</td>\n",
              "      <td>0.285714</td>\n",
              "      <td>0.222222</td>\n",
              "      <td>0.000000</td>\n",
              "      <td>0.444444</td>\n",
              "      <td>0.555556</td>\n",
              "      <td>0.000000</td>\n",
              "      <td>0.555556</td>\n",
              "      <td>0.444444</td>\n",
              "      <td>0.000000</td>\n",
              "      <td>0.0</td>\n",
              "      <td>0.000000</td>\n",
              "      <td>0.555556</td>\n",
              "      <td>0.000000</td>\n",
              "      <td>0.444444</td>\n",
              "      <td>0.000000</td>\n",
              "      <td>0.222222</td>\n",
              "      <td>0.333333</td>\n",
              "      <td>0.555556</td>\n",
              "      <td>0.000000</td>\n",
              "      <td>0.222222</td>\n",
              "      <td>0.777778</td>\n",
              "      <td>0.777778</td>\n",
              "      <td>0.142857</td>\n",
              "      <td>0.222222</td>\n",
              "      <td>0.666667</td>\n",
              "      <td>0.333333</td>\n",
              "      <td>0.222222</td>\n",
              "      <td>0.000000</td>\n",
              "      <td>0.555556</td>\n",
              "      <td>0.222222</td>\n",
              "      <td>0.0</td>\n",
              "      <td>0.555556</td>\n",
              "      <td>...</td>\n",
              "      <td>0.0</td>\n",
              "      <td>0.00</td>\n",
              "      <td>0.0</td>\n",
              "      <td>0.0</td>\n",
              "      <td>0.0</td>\n",
              "      <td>0.0</td>\n",
              "      <td>0.0</td>\n",
              "      <td>0.0</td>\n",
              "      <td>0.0</td>\n",
              "      <td>0.0</td>\n",
              "      <td>0.0</td>\n",
              "      <td>0.0</td>\n",
              "      <td>0.0</td>\n",
              "      <td>0.250</td>\n",
              "      <td>0.0</td>\n",
              "      <td>0.0</td>\n",
              "      <td>0.0</td>\n",
              "      <td>0.0</td>\n",
              "      <td>0.0</td>\n",
              "      <td>1.0</td>\n",
              "      <td>0.0</td>\n",
              "      <td>0.0</td>\n",
              "      <td>0.000000</td>\n",
              "      <td>0.0</td>\n",
              "      <td>0.0</td>\n",
              "      <td>0.0</td>\n",
              "      <td>0.0</td>\n",
              "      <td>0.0</td>\n",
              "      <td>0.0</td>\n",
              "      <td>0.0</td>\n",
              "      <td>0.0</td>\n",
              "      <td>0.0</td>\n",
              "      <td>0.0</td>\n",
              "      <td>0.0</td>\n",
              "      <td>0.142857</td>\n",
              "      <td>0.0</td>\n",
              "      <td>0.0</td>\n",
              "      <td>0.0</td>\n",
              "      <td>0.0</td>\n",
              "      <td>0.0</td>\n",
              "    </tr>\n",
              "    <tr>\n",
              "      <th>2</th>\n",
              "      <td>0.0</td>\n",
              "      <td>0.25</td>\n",
              "      <td>0.2</td>\n",
              "      <td>0.000000</td>\n",
              "      <td>0.444444</td>\n",
              "      <td>0.4</td>\n",
              "      <td>0.444444</td>\n",
              "      <td>0.333333</td>\n",
              "      <td>0.285714</td>\n",
              "      <td>0.444444</td>\n",
              "      <td>0.444444</td>\n",
              "      <td>0.444444</td>\n",
              "      <td>0.222222</td>\n",
              "      <td>0.000000</td>\n",
              "      <td>0.555556</td>\n",
              "      <td>0.444444</td>\n",
              "      <td>0.000000</td>\n",
              "      <td>0.0</td>\n",
              "      <td>0.000000</td>\n",
              "      <td>0.777778</td>\n",
              "      <td>0.000000</td>\n",
              "      <td>0.222222</td>\n",
              "      <td>0.000000</td>\n",
              "      <td>0.555556</td>\n",
              "      <td>0.000000</td>\n",
              "      <td>0.444444</td>\n",
              "      <td>0.000000</td>\n",
              "      <td>0.777778</td>\n",
              "      <td>0.222222</td>\n",
              "      <td>0.777778</td>\n",
              "      <td>0.000000</td>\n",
              "      <td>0.222222</td>\n",
              "      <td>1.000000</td>\n",
              "      <td>0.000000</td>\n",
              "      <td>0.444444</td>\n",
              "      <td>0.555556</td>\n",
              "      <td>0.000000</td>\n",
              "      <td>0.000000</td>\n",
              "      <td>0.0</td>\n",
              "      <td>0.333333</td>\n",
              "      <td>...</td>\n",
              "      <td>0.0</td>\n",
              "      <td>0.75</td>\n",
              "      <td>0.0</td>\n",
              "      <td>0.0</td>\n",
              "      <td>0.0</td>\n",
              "      <td>0.0</td>\n",
              "      <td>0.0</td>\n",
              "      <td>0.0</td>\n",
              "      <td>0.0</td>\n",
              "      <td>0.0</td>\n",
              "      <td>0.0</td>\n",
              "      <td>0.0</td>\n",
              "      <td>0.0</td>\n",
              "      <td>0.250</td>\n",
              "      <td>0.0</td>\n",
              "      <td>0.0</td>\n",
              "      <td>0.0</td>\n",
              "      <td>0.0</td>\n",
              "      <td>0.0</td>\n",
              "      <td>0.5</td>\n",
              "      <td>0.0</td>\n",
              "      <td>0.0</td>\n",
              "      <td>0.142857</td>\n",
              "      <td>0.0</td>\n",
              "      <td>0.0</td>\n",
              "      <td>0.0</td>\n",
              "      <td>0.0</td>\n",
              "      <td>0.0</td>\n",
              "      <td>0.0</td>\n",
              "      <td>0.0</td>\n",
              "      <td>0.0</td>\n",
              "      <td>0.0</td>\n",
              "      <td>0.0</td>\n",
              "      <td>0.0</td>\n",
              "      <td>0.142857</td>\n",
              "      <td>0.0</td>\n",
              "      <td>0.0</td>\n",
              "      <td>0.0</td>\n",
              "      <td>0.0</td>\n",
              "      <td>0.0</td>\n",
              "    </tr>\n",
              "    <tr>\n",
              "      <th>3</th>\n",
              "      <td>0.0</td>\n",
              "      <td>0.50</td>\n",
              "      <td>0.4</td>\n",
              "      <td>0.222222</td>\n",
              "      <td>0.333333</td>\n",
              "      <td>0.4</td>\n",
              "      <td>0.444444</td>\n",
              "      <td>0.555556</td>\n",
              "      <td>0.285714</td>\n",
              "      <td>0.222222</td>\n",
              "      <td>0.222222</td>\n",
              "      <td>0.333333</td>\n",
              "      <td>0.444444</td>\n",
              "      <td>0.333333</td>\n",
              "      <td>0.444444</td>\n",
              "      <td>0.222222</td>\n",
              "      <td>0.444444</td>\n",
              "      <td>0.0</td>\n",
              "      <td>0.000000</td>\n",
              "      <td>0.333333</td>\n",
              "      <td>0.111111</td>\n",
              "      <td>0.222222</td>\n",
              "      <td>0.333333</td>\n",
              "      <td>0.222222</td>\n",
              "      <td>0.111111</td>\n",
              "      <td>0.444444</td>\n",
              "      <td>0.000000</td>\n",
              "      <td>0.555556</td>\n",
              "      <td>0.444444</td>\n",
              "      <td>1.000000</td>\n",
              "      <td>0.000000</td>\n",
              "      <td>0.000000</td>\n",
              "      <td>0.777778</td>\n",
              "      <td>0.222222</td>\n",
              "      <td>0.111111</td>\n",
              "      <td>0.555556</td>\n",
              "      <td>0.333333</td>\n",
              "      <td>0.000000</td>\n",
              "      <td>0.0</td>\n",
              "      <td>0.444444</td>\n",
              "      <td>...</td>\n",
              "      <td>0.0</td>\n",
              "      <td>0.75</td>\n",
              "      <td>0.0</td>\n",
              "      <td>0.0</td>\n",
              "      <td>0.0</td>\n",
              "      <td>0.0</td>\n",
              "      <td>0.0</td>\n",
              "      <td>0.0</td>\n",
              "      <td>0.0</td>\n",
              "      <td>0.0</td>\n",
              "      <td>0.0</td>\n",
              "      <td>0.0</td>\n",
              "      <td>0.0</td>\n",
              "      <td>0.250</td>\n",
              "      <td>0.0</td>\n",
              "      <td>0.0</td>\n",
              "      <td>0.0</td>\n",
              "      <td>0.0</td>\n",
              "      <td>0.0</td>\n",
              "      <td>0.0</td>\n",
              "      <td>0.0</td>\n",
              "      <td>0.0</td>\n",
              "      <td>0.142857</td>\n",
              "      <td>0.0</td>\n",
              "      <td>0.0</td>\n",
              "      <td>0.0</td>\n",
              "      <td>0.0</td>\n",
              "      <td>0.0</td>\n",
              "      <td>0.0</td>\n",
              "      <td>0.0</td>\n",
              "      <td>0.0</td>\n",
              "      <td>0.0</td>\n",
              "      <td>0.0</td>\n",
              "      <td>0.0</td>\n",
              "      <td>0.142857</td>\n",
              "      <td>0.0</td>\n",
              "      <td>0.0</td>\n",
              "      <td>0.0</td>\n",
              "      <td>0.0</td>\n",
              "      <td>0.0</td>\n",
              "    </tr>\n",
              "    <tr>\n",
              "      <th>4</th>\n",
              "      <td>0.0</td>\n",
              "      <td>0.75</td>\n",
              "      <td>0.2</td>\n",
              "      <td>0.111111</td>\n",
              "      <td>0.444444</td>\n",
              "      <td>0.2</td>\n",
              "      <td>0.444444</td>\n",
              "      <td>0.777778</td>\n",
              "      <td>0.142857</td>\n",
              "      <td>0.222222</td>\n",
              "      <td>0.222222</td>\n",
              "      <td>0.444444</td>\n",
              "      <td>0.444444</td>\n",
              "      <td>0.555556</td>\n",
              "      <td>0.444444</td>\n",
              "      <td>0.000000</td>\n",
              "      <td>0.000000</td>\n",
              "      <td>1.0</td>\n",
              "      <td>0.444444</td>\n",
              "      <td>0.000000</td>\n",
              "      <td>0.000000</td>\n",
              "      <td>0.000000</td>\n",
              "      <td>1.000000</td>\n",
              "      <td>0.000000</td>\n",
              "      <td>0.000000</td>\n",
              "      <td>0.000000</td>\n",
              "      <td>0.000000</td>\n",
              "      <td>0.444444</td>\n",
              "      <td>0.555556</td>\n",
              "      <td>0.666667</td>\n",
              "      <td>0.285714</td>\n",
              "      <td>0.111111</td>\n",
              "      <td>0.555556</td>\n",
              "      <td>0.444444</td>\n",
              "      <td>0.000000</td>\n",
              "      <td>0.000000</td>\n",
              "      <td>1.000000</td>\n",
              "      <td>0.000000</td>\n",
              "      <td>0.0</td>\n",
              "      <td>0.666667</td>\n",
              "      <td>...</td>\n",
              "      <td>0.0</td>\n",
              "      <td>0.00</td>\n",
              "      <td>0.0</td>\n",
              "      <td>0.0</td>\n",
              "      <td>0.0</td>\n",
              "      <td>0.0</td>\n",
              "      <td>0.0</td>\n",
              "      <td>0.0</td>\n",
              "      <td>0.0</td>\n",
              "      <td>0.0</td>\n",
              "      <td>0.0</td>\n",
              "      <td>0.0</td>\n",
              "      <td>0.0</td>\n",
              "      <td>0.750</td>\n",
              "      <td>0.0</td>\n",
              "      <td>0.0</td>\n",
              "      <td>0.0</td>\n",
              "      <td>0.0</td>\n",
              "      <td>0.0</td>\n",
              "      <td>0.0</td>\n",
              "      <td>0.0</td>\n",
              "      <td>0.0</td>\n",
              "      <td>0.000000</td>\n",
              "      <td>0.0</td>\n",
              "      <td>0.0</td>\n",
              "      <td>0.0</td>\n",
              "      <td>0.0</td>\n",
              "      <td>0.0</td>\n",
              "      <td>0.0</td>\n",
              "      <td>0.0</td>\n",
              "      <td>0.0</td>\n",
              "      <td>0.0</td>\n",
              "      <td>0.0</td>\n",
              "      <td>0.0</td>\n",
              "      <td>0.142857</td>\n",
              "      <td>0.0</td>\n",
              "      <td>0.0</td>\n",
              "      <td>0.0</td>\n",
              "      <td>0.0</td>\n",
              "      <td>0.0</td>\n",
              "    </tr>\n",
              "  </tbody>\n",
              "</table>\n",
              "<p>5 rows × 83 columns</p>\n",
              "</div>"
            ],
            "text/plain": [
              "   MAANTHUI  MGEMOMV  MGEMLEEF    MGODRK  ...  APLEZIER  AFIETS  AINBOED  ABYSTAND\n",
              "0       0.0     0.50       0.2  0.000000  ...       0.0     0.0      0.0       0.0\n",
              "1       0.0     0.25       0.2  0.111111  ...       0.0     0.0      0.0       0.0\n",
              "2       0.0     0.25       0.2  0.000000  ...       0.0     0.0      0.0       0.0\n",
              "3       0.0     0.50       0.4  0.222222  ...       0.0     0.0      0.0       0.0\n",
              "4       0.0     0.75       0.2  0.111111  ...       0.0     0.0      0.0       0.0\n",
              "\n",
              "[5 rows x 83 columns]"
            ]
          },
          "metadata": {},
          "execution_count": 203
        }
      ]
    },
    {
      "cell_type": "markdown",
      "metadata": {
        "id": "GaOAut18_S7o"
      },
      "source": [
        "### Selecting and training a model"
      ]
    },
    {
      "cell_type": "markdown",
      "metadata": {
        "id": "ZOtQ-EaY_S7p"
      },
      "source": [
        "Utility functions"
      ]
    },
    {
      "cell_type": "code",
      "metadata": {
        "id": "0TQ0wQ2E_S7p"
      },
      "source": [
        "# Display scores\n",
        "def display_scores(scores):\n",
        "    print('Scores:                        ', scores)\n",
        "    print('Mean:                          '+\"{:.2f}\".format(scores.mean()))\n",
        "    print('Standard deviation:            '+\"{:.2f}\".format(scores.std()))"
      ],
      "execution_count": null,
      "outputs": []
    },
    {
      "cell_type": "code",
      "metadata": {
        "id": "kypXTVwD_S7q"
      },
      "source": [
        "# Display confusion matrix\n",
        "def display_conf_matrix(y_train, y_pred):\n",
        "    # Confusion matrix: row -> actual, column -> predicted\n",
        "    from sklearn.metrics import confusion_matrix\n",
        "    print(confusion_matrix(y_train, y_pred))"
      ],
      "execution_count": null,
      "outputs": []
    },
    {
      "cell_type": "code",
      "metadata": {
        "id": "PBL73C1O_S7q"
      },
      "source": [
        "# Precision, recall, AUC, F1-score\n",
        "def display_perf_metrics(y_train, y_pred, y_proba):\n",
        "    from sklearn.metrics import accuracy_score, precision_score, recall_score, roc_auc_score, f1_score, cohen_kappa_score\n",
        "    print('Accuracy           '+\"{:.2f}\".format(accuracy_score(y_train, y_pred)*100)+'%')\n",
        "    print('Precision          '+\"{:.2f}\".format(precision_score(y_train, y_pred)*100)+'%')\n",
        "    print('Recall             '+\"{:.2f}\".format(recall_score(y_train, y_pred)*100)+'%')\n",
        "    print('F1                 '+\"{:.2f}\".format(f1_score(y_train, y_pred)))\n",
        "    print('AUC                '+\"{:.2f}\".format(roc_auc_score(y_train, y_proba)))\n",
        "    print('Cohen Kappa        '+\"{:.2f}\".format(cohen_kappa_score(y_train, y_pred)))"
      ],
      "execution_count": null,
      "outputs": []
    },
    {
      "cell_type": "code",
      "metadata": {
        "id": "aCzyqKnN_S7r"
      },
      "source": [
        "# Plot precision / recall\n",
        "def plot_precision_vs_recall(precisions, recalls):\n",
        "    plt.plot(recalls, precisions, \"b-\", linewidth=2)\n",
        "    plt.xlabel(\"Recall\", fontsize=16)\n",
        "    plt.ylabel(\"Precision\", fontsize=16)\n",
        "    plt.axis([0, 1, 0, 1])"
      ],
      "execution_count": null,
      "outputs": []
    },
    {
      "cell_type": "code",
      "metadata": {
        "id": "N9xP3USU_S7r"
      },
      "source": [
        "# Plot ROC curve\n",
        "def plot_roc_curve(fpr, tpr, label=None):\n",
        "    from sklearn.metrics import auc\n",
        "    plt.plot(fpr, tpr, linewidth=2, label=(label + ' (area = %0.2f)' % auc(fpr, tpr)))\n",
        "    plt.plot([0, 1], [0, 1], 'k--')\n",
        "    plt.axis([0, 1, 0, 1])\n",
        "    plt.legend(loc=\"lower right\")\n",
        "    plt.xlabel('False Positive Rate', fontsize=16)\n",
        "    plt.ylabel('True Positive Rate', fontsize=16)"
      ],
      "execution_count": null,
      "outputs": []
    },
    {
      "cell_type": "code",
      "metadata": {
        "id": "B-RkifRk_S7r"
      },
      "source": [
        "# Plot precision and recall vs threashold\n",
        "def plot_precision_recall_vs_threshold(precisions, recalls, thresholds):\n",
        "    plt.plot(thresholds, precisions[:-1], \"b--\", label=\"Precision\")\n",
        "    plt.plot(thresholds, recalls[:-1], \"g-\", label=\"Recall\")\n",
        "    plt.xlabel(\"Threshold\")\n",
        "    plt.legend(loc=\"upper left\")\n",
        "    plt.ylim([0, 1])"
      ],
      "execution_count": null,
      "outputs": []
    },
    {
      "cell_type": "code",
      "metadata": {
        "id": "gynuEDfh_S7s"
      },
      "source": [
        "#Generating a plot of the test and training learning curve\n",
        "def plot_learning_curve(estimator, title, X, y, ylim=None, cv=None, n_jobs=1, train_sizes=np.linspace(.1, 1.0, 5)):\n",
        "    plt.figure()\n",
        "    plt.title(title)\n",
        "    if ylim is not None:\n",
        "        plt.ylim(*ylim)\n",
        "    plt.xlabel(\"Training examples\")\n",
        "    plt.ylabel(\"Score\")\n",
        "    train_sizes, train_scores, test_scores = learning_curve(\n",
        "        estimator, X, y, cv=cv, n_jobs=n_jobs, train_sizes=train_sizes)\n",
        "    train_scores_mean = np.mean(train_scores, axis=1)\n",
        "    train_scores_std = np.std(train_scores, axis=1)\n",
        "    test_scores_mean = np.mean(test_scores, axis=1)\n",
        "    test_scores_std = np.std(test_scores, axis=1)\n",
        "    plt.grid()\n",
        "\n",
        "    plt.fill_between(train_sizes, train_scores_mean - train_scores_std,\n",
        "                     train_scores_mean + train_scores_std, alpha=0.1,\n",
        "                     color=\"r\")\n",
        "    plt.fill_between(train_sizes, test_scores_mean - test_scores_std,\n",
        "                     test_scores_mean + test_scores_std, alpha=0.1, color=\"g\")\n",
        "    plt.plot(train_sizes, train_scores_mean, 'o-', color=\"r\",\n",
        "             label=\"Training score\")\n",
        "    plt.plot(train_sizes, test_scores_mean, 'o-', color=\"g\",\n",
        "             label=\"Cross-validation score\")\n",
        "\n",
        "    plt.legend(loc=\"best\")\n",
        "    return plt"
      ],
      "execution_count": null,
      "outputs": []
    },
    {
      "cell_type": "code",
      "metadata": {
        "id": "KZfX0x2G_S7s"
      },
      "source": [
        "# Profit calculation\n",
        "def calculate_profit(cm, FN_amount, TP_amount, TN_amount, FP_amount):\n",
        "    return (cm[0][0]*TN_amount + cm[1][0]*FN_amount + cm[0][1]*FP_amount +\n",
        "                   cm[1][1]*TP_amount)"
      ],
      "execution_count": null,
      "outputs": []
    },
    {
      "cell_type": "code",
      "metadata": {
        "id": "UuLawcqO_S7t"
      },
      "source": [
        "# Creating ranking and profit data frame\n",
        "def create_ranking_profit_df(name, y_actual, y_proba):\n",
        "    # Writing a CSV file with results\n",
        "    df_scores = pd.DataFrame({\n",
        "            'score': y_proba[:,1],\n",
        "            'actual': y_actual,\n",
        "        })\n",
        "    \n",
        "    df_scores = df_scores.sort_values(\"score\", ascending = False)\n",
        "    df_scores[\"profit\"] = (TP_amount - FP_amount) * df_scores[\"actual\"] + FP_amount\n",
        "    df_scores[\"cum_profit\"] = df_scores[\"profit\"].cumsum(axis = 0)\n",
        "    print(df_scores[\"cum_profit\"].values)\n",
        "    print(ranking_profit_dt.head())\n",
        "    \n",
        "    # Saving a copy of the dataframe\n",
        "    path = os.path.join(PROJECT_ROOT_DIR, output_path, \"df_ranking_profit_\" + name + \".csv\")\n",
        "    df_scores.to_csv(path)\n",
        "    \n",
        "    return df_scores"
      ],
      "execution_count": null,
      "outputs": []
    },
    {
      "cell_type": "code",
      "metadata": {
        "id": "Q-rLHN6N_S7t"
      },
      "source": [
        "# Plot profit curve\n",
        "def plot_profit_curve(name, df_scores):\n",
        "    plt.plot(df_scores[\"cum_profit\"].values, linewidth=1, label=name + \" Profit curve\")\n",
        "    plt.plot([0, 0], [0, 1], 'k--')\n",
        "    plt.legend(loc=\"lower left\")\n",
        "    plt.xlabel('Number of test instances', fontsize=16)\n",
        "    plt.ylabel('Profit', fontsize=16)\n",
        "    plt.grid(True)"
      ],
      "execution_count": null,
      "outputs": []
    },
    {
      "cell_type": "markdown",
      "metadata": {
        "id": "E1WyZJrD_S7t"
      },
      "source": [
        "### Decision Tree"
      ]
    },
    {
      "cell_type": "code",
      "metadata": {
        "colab": {
          "base_uri": "https://localhost:8080/"
        },
        "id": "Bsiwa2Td_S7u",
        "scrolled": true,
        "outputId": "07c6b120-511e-48d9-e5e8-1a13e4ba2d3f"
      },
      "source": [
        "# Creating the model\n",
        "from sklearn.tree import DecisionTreeClassifier\n",
        "\n",
        "clf_dt = DecisionTreeClassifier(max_depth = 3, random_state = 42)\n",
        "clf_dt.fit(X_train, y_train)"
      ],
      "execution_count": null,
      "outputs": [
        {
          "output_type": "execute_result",
          "data": {
            "text/plain": [
              "DecisionTreeClassifier(ccp_alpha=0.0, class_weight=None, criterion='gini',\n",
              "                       max_depth=3, max_features=None, max_leaf_nodes=None,\n",
              "                       min_impurity_decrease=0.0, min_impurity_split=None,\n",
              "                       min_samples_leaf=1, min_samples_split=2,\n",
              "                       min_weight_fraction_leaf=0.0, presort='deprecated',\n",
              "                       random_state=42, splitter='best')"
            ]
          },
          "metadata": {},
          "execution_count": 214
        }
      ]
    },
    {
      "cell_type": "code",
      "metadata": {
        "colab": {
          "base_uri": "https://localhost:8080/"
        },
        "id": "TBz3axXG_S7v",
        "outputId": "7e0228f5-b025-4e3b-f3e5-0f83cbf605bb"
      },
      "source": [
        "print(X_train.shape)\n",
        "print(y_train.shape)"
      ],
      "execution_count": null,
      "outputs": [
        {
          "output_type": "stream",
          "text": [
            "(5822, 83)\n",
            "(5822,)\n"
          ],
          "name": "stdout"
        }
      ]
    },
    {
      "cell_type": "code",
      "metadata": {
        "id": "kviKc47k_S7v"
      },
      "source": [
        "# Using 10-fold cross validation to have a first view on model accuracy\n",
        "from sklearn.model_selection import cross_val_score\n",
        "score_dt = cross_val_score(clf_dt, X_train, y_train, cv=10, scoring=\"roc_auc\", n_jobs=1)"
      ],
      "execution_count": null,
      "outputs": []
    },
    {
      "cell_type": "code",
      "metadata": {
        "id": "lA-8VmH4_S7w"
      },
      "source": [
        "# Prediction using decision tree classifier\n",
        "from sklearn.model_selection import cross_val_predict\n",
        "y_pred_dt = cross_val_predict(clf_dt, X_train, y_train, cv=10, n_jobs=-1)\n",
        "y_proba_dt = cross_val_predict(clf_dt, X_train, y_train, cv=10, method='predict_proba', n_jobs=-1)"
      ],
      "execution_count": null,
      "outputs": []
    },
    {
      "cell_type": "code",
      "metadata": {
        "colab": {
          "base_uri": "https://localhost:8080/"
        },
        "id": "R9KUCHkx_S7w",
        "outputId": "9fcce5fa-3f75-4b55-9c4b-d06eee7882cf"
      },
      "source": [
        "print(y_pred_dt)\n",
        "print(y_proba_dt)\n",
        "print(score_dt)"
      ],
      "execution_count": null,
      "outputs": [
        {
          "output_type": "stream",
          "text": [
            "[0 0 0 ... 0 0 0]\n",
            "[[0.87605295 0.12394705]\n",
            " [0.96470588 0.03529412]\n",
            " [0.94117647 0.05882353]\n",
            " ...\n",
            " [0.91446613 0.08553387]\n",
            " [0.91446613 0.08553387]\n",
            " [0.97551546 0.02448454]]\n",
            "[0.73534932 0.74366528 0.63933018 0.68800988 0.75301645 0.65207626\n",
            " 0.73674589 0.67662575 0.71681901 0.78662836]\n"
          ],
          "name": "stdout"
        }
      ]
    },
    {
      "cell_type": "code",
      "metadata": {
        "id": "RhgDunOI_S7w",
        "colab": {
          "base_uri": "https://localhost:8080/"
        },
        "outputId": "4607f57a-6327-401d-9ff6-2b510ef81f27"
      },
      "source": [
        "# Writing a CSV file with results\n",
        "df_y_proba_dt = pd.DataFrame({\n",
        "        'score': y_proba_dt[:,1],\n",
        "        'actual': y_train,\n",
        "        'pred': y_pred_dt\n",
        "    })\n",
        "print(df_y_proba_dt.sort_values('score', axis=0, ascending=False))\n",
        "df_y_proba_dt.to_csv('Images/y_proba_dt.csv')"
      ],
      "execution_count": null,
      "outputs": [
        {
          "output_type": "stream",
          "text": [
            "         score  actual  pred\n",
            "2452  0.800000       0     1\n",
            "130   0.800000       0     1\n",
            "3703  0.714286       1     1\n",
            "2797  0.666667       1     1\n",
            "2270  0.666667       0     1\n",
            "...        ...     ...   ...\n",
            "3396  0.000000       0     0\n",
            "559   0.000000       0     0\n",
            "3554  0.000000       0     0\n",
            "2661  0.000000       0     0\n",
            "762   0.000000       1     0\n",
            "\n",
            "[5822 rows x 3 columns]\n"
          ],
          "name": "stdout"
        }
      ]
    },
    {
      "cell_type": "code",
      "metadata": {
        "colab": {
          "base_uri": "https://localhost:8080/"
        },
        "id": "IAs1QDiY_S7w",
        "outputId": "b5f75f32-347b-4689-bfd5-d1ad041f81a1"
      },
      "source": [
        "# Precision, recalls and thresholds\n",
        "from sklearn.metrics import precision_recall_curve\n",
        "precisions_dt, recalls_dt, thresholds_dt = precision_recall_curve(y_train, y_proba_dt[:,1])\n",
        "print(precisions_dt)\n",
        "print(recalls_dt)\n",
        "print(thresholds_dt)"
      ],
      "execution_count": null,
      "outputs": [
        {
          "output_type": "stream",
          "text": [
            "[0.05977327 0.05965274 0.06049885 0.06210162 0.0638505  0.06630525\n",
            " 0.06922904 0.07221273 0.07645341 0.08194809 0.08960573 0.09937888\n",
            " 0.10340776 0.11031579 0.11150442 0.11327762 0.11540342 0.11831863\n",
            " 0.12243767 0.12357528 0.12658228 0.1295578  0.13707452 0.14950166\n",
            " 0.15320665 0.15547264 0.16361257 0.16918429 0.17825312 0.19279661\n",
            " 0.21465969 0.21798365 0.22580645 0.23030303 0.23616236 0.23478261\n",
            " 0.2371134  0.22941176 0.23529412 0.24770642 0.28       0.29577465\n",
            " 0.28846154 0.30555556 0.36842105 0.46666667 0.42857143 0.33333333\n",
            " 0.         1.        ]\n",
            "[1.         0.99712644 0.98275862 0.97988506 0.94252874 0.9137931\n",
            " 0.88505747 0.85057471 0.82758621 0.80747126 0.79022989 0.7816092\n",
            " 0.75862069 0.75287356 0.72413793 0.70114943 0.67816092 0.65517241\n",
            " 0.63505747 0.59195402 0.54597701 0.47988506 0.42816092 0.38793103\n",
            " 0.37068966 0.3591954  0.3591954  0.32183908 0.28735632 0.26149425\n",
            " 0.23563218 0.22988506 0.22126437 0.2183908  0.18390805 0.15517241\n",
            " 0.13218391 0.11206897 0.09195402 0.07758621 0.06034483 0.06034483\n",
            " 0.04310345 0.0316092  0.02011494 0.02011494 0.00862069 0.00287356\n",
            " 0.         0.        ]\n",
            "[0.         0.00955414 0.01208651 0.02141467 0.02229402 0.02234456\n",
            " 0.02262443 0.02318094 0.0232408  0.02373212 0.02448454 0.03529412\n",
            " 0.0390625  0.057393   0.05882353 0.0589942  0.0595122  0.06072478\n",
            " 0.0724234  0.07315341 0.08553387 0.08789954 0.08926554 0.09829868\n",
            " 0.10752688 0.11891892 0.12394705 0.125      0.12677725 0.12692764\n",
            " 0.12834225 0.13068182 0.13089005 0.20781528 0.24767802 0.25\n",
            " 0.25098039 0.26122449 0.26190476 0.26530612 0.27272727 0.28994083\n",
            " 0.29651163 0.29824561 0.3        0.5        0.66666667 0.71428571\n",
            " 0.8       ]\n"
          ],
          "name": "stdout"
        }
      ]
    },
    {
      "cell_type": "code",
      "metadata": {
        "colab": {
          "base_uri": "https://localhost:8080/"
        },
        "id": "R4ZyIyqb_S7x",
        "outputId": "34c4cb13-1e3e-4163-f1a8-4ef66ddd2890"
      },
      "source": [
        "# Display scores\n",
        "display_scores(score_dt)\n",
        "display_conf_matrix(y_train, y_pred_dt)\n",
        "display_perf_metrics(y_train, y_pred_dt, y_proba_dt[:,1])"
      ],
      "execution_count": null,
      "outputs": [
        {
          "output_type": "stream",
          "text": [
            "Scores:                         [0.73534932 0.74366528 0.63933018 0.68800988 0.75301645 0.65207626\n",
            " 0.73674589 0.67662575 0.71681901 0.78662836]\n",
            "Mean:                          0.71\n",
            "Standard deviation:            0.04\n",
            "[[5470    4]\n",
            " [ 345    3]]\n",
            "Accuracy           94.01%\n",
            "Precision          42.86%\n",
            "Recall             0.86%\n",
            "F1                 0.02\n",
            "AUC                0.71\n",
            "Cohen Kappa        0.01\n"
          ],
          "name": "stdout"
        }
      ]
    },
    {
      "cell_type": "code",
      "metadata": {
        "colab": {
          "base_uri": "https://localhost:8080/"
        },
        "id": "jy-5u_cY_S7x",
        "outputId": "379aa9f7-d046-49bc-d7f4-54770658ccb0"
      },
      "source": [
        "# Classification report\n",
        "from sklearn.metrics import classification_report\n",
        "print(classification_report(y_train, y_pred_dt, target_names=target_name))"
      ],
      "execution_count": null,
      "outputs": [
        {
          "output_type": "stream",
          "text": [
            "              precision    recall  f1-score   support\n",
            "\n",
            "      NO_INS       0.94      1.00      0.97      5474\n",
            "     HAS_INS       0.43      0.01      0.02       348\n",
            "\n",
            "    accuracy                           0.94      5822\n",
            "   macro avg       0.68      0.50      0.49      5822\n",
            "weighted avg       0.91      0.94      0.91      5822\n",
            "\n"
          ],
          "name": "stdout"
        }
      ]
    },
    {
      "cell_type": "code",
      "metadata": {
        "colab": {
          "base_uri": "https://localhost:8080/",
          "height": 292
        },
        "id": "Zolrks9d_S7x",
        "outputId": "fb129d78-9db2-4f4c-89bf-6aeabb3b7608"
      },
      "source": [
        "# Plot precision / recall\n",
        "plot_precision_vs_recall(precisions_dt, recalls_dt)\n",
        "plt.show()"
      ],
      "execution_count": null,
      "outputs": [
        {
          "output_type": "display_data",
          "data": {
            "image/png": "[encoded data removed]",
            "text/plain": [
              "<Figure size 432x288 with 1 Axes>"
            ]
          },
          "metadata": {
            "needs_background": "light"
          }
        }
      ]
    },
    {
      "cell_type": "code",
      "metadata": {
        "colab": {
          "base_uri": "https://localhost:8080/",
          "height": 292
        },
        "id": "D1JFKDY1_S7x",
        "outputId": "a52b1068-dacf-457c-c6cd-2319c201c3aa"
      },
      "source": [
        "# ROC curve\n",
        "from sklearn.metrics import roc_curve\n",
        "fpr, tpr, thresholds = roc_curve(y_train, y_proba_dt[:,1])\n",
        "\n",
        "#plt.figure(figsize=(8, 6))\n",
        "plot_roc_curve(fpr, tpr, \"Decision tree\")\n",
        "plt.show()"
      ],
      "execution_count": null,
      "outputs": [
        {
          "output_type": "display_data",
          "data": {
            "image/png": "[encoded data removed]",
            "text/plain": [
              "<Figure size 432x288 with 1 Axes>"
            ]
          },
          "metadata": {
            "needs_background": "light"
          }
        }
      ]
    },
    {
      "cell_type": "markdown",
      "metadata": {
        "id": "Lb0C0AcD_S7x"
      },
      "source": [
        "###SVM, Logistic Regression  and Random Forrest Classifier"
      ]
    },
    {
      "cell_type": "code",
      "metadata": {
        "id": "wndxaUYd_S7x"
      },
      "source": [
        "# Creating the classifiers\n",
        "from sklearn.ensemble import RandomForestClassifier\n",
        "from sklearn.linear_model import LogisticRegression\n",
        "from sklearn.svm import SVC\n",
        "\n",
        "clf_log = LogisticRegression(n_jobs=-1, random_state = 42)\n",
        "clf_rf = RandomForestClassifier(n_jobs=-1, random_state = 42)\n",
        "clf_svm = SVC(kernel = 'rbf', probability = True, random_state = 42)\n",
        "\n",
        "# Creating a dataframe to manage the different classifiers\n",
        "clf_list_values = [ ('Decision Tree', clf_dt),\n",
        "                    ('Logistic Regression', clf_log),\n",
        "                    ('Random Forrest', clf_rf),\n",
        "                    ('SVM', clf_svm),\n",
        "                ]\n",
        "clf_list = pd.DataFrame.from_records(clf_list_values, columns=['name', 'clf'])"
      ],
      "execution_count": null,
      "outputs": []
    },
    {
      "cell_type": "code",
      "metadata": {
        "colab": {
          "base_uri": "https://localhost:8080/",
          "height": 1000
        },
        "id": "wgoXFq6g_S7y",
        "scrolled": true,
        "outputId": "0e6a8f09-c3ff-4db9-dc61-4b3fded8ebfa"
      },
      "source": [
        "from sklearn.metrics import roc_curve, auc\n",
        "from cycler import cycler\n",
        "\n",
        "print('       Models Performance       ')\n",
        "print('--------------------------------')\n",
        "\n",
        "plt.rc('lines', linewidth=1)\n",
        "plt.rc('axes', prop_cycle=(cycler('color', ['r', 'g', 'b', 'y', 'c', 'm', 'y', 'k']) +\n",
        "                           cycler('linestyle', ['-', '--', ':', '-.','-', '--', ':', '-.'])))\n",
        "\n",
        "for index, row in clf_list.iterrows():\n",
        "    name = row['name']\n",
        "    clf = row['clf']\n",
        "    clf.fit(X_train, y_train)\n",
        "    y_pred = cross_val_predict(clf, X_train, y_train, cv=10, n_jobs=-1)\n",
        "    y_proba = cross_val_predict(clf, X_train, y_train, cv=10, method='predict_proba', n_jobs=-1)\n",
        "    print(\"--- \", clf.__class__.__name__, \" ---\")\n",
        "    display_perf_metrics(y_train, y_pred, y_proba[:,1]) \n",
        "    display_conf_matrix(y_train, y_pred)\n",
        "    fpr, tpr, thresholds = roc_curve(y_train, y_proba[:,1])\n",
        "    plt.plot(fpr, tpr, linewidth=1, label=name+\" (area = %0.2f)\" % auc(fpr, tpr))\n",
        "\n",
        "plt.plot([0, 1], [0, 1], 'k--')\n",
        "plt.axis([0, 1, 0, 1])\n",
        "plt.xlabel('False Positive Rate', fontsize=16)\n",
        "plt.ylabel('True Positive Rate', fontsize=16)\n",
        "plt.legend(loc=\"lower right\", fontsize=16)\n",
        "save_fig(\"roc_curve_comparison_plot\")\n",
        "plt.show()"
      ],
      "execution_count": null,
      "outputs": [
        {
          "output_type": "stream",
          "text": [
            "       Models Performance       \n",
            "--------------------------------\n",
            "---  DecisionTreeClassifier  ---\n",
            "Accuracy           94.01%\n",
            "Precision          42.86%\n",
            "Recall             0.86%\n",
            "F1                 0.02\n",
            "AUC                0.71\n",
            "Cohen Kappa        0.01\n",
            "[[5470    4]\n",
            " [ 345    3]]\n",
            "---  LogisticRegression  ---\n",
            "Accuracy           93.99%\n",
            "Precision          33.33%\n",
            "Recall             0.57%\n",
            "F1                 0.01\n",
            "AUC                0.74\n",
            "Cohen Kappa        0.01\n",
            "[[5470    4]\n",
            " [ 346    2]]\n",
            "---  RandomForestClassifier  ---\n",
            "Accuracy           92.46%\n",
            "Precision          13.60%\n",
            "Recall             4.89%\n",
            "F1                 0.07\n",
            "AUC                0.69\n",
            "Cohen Kappa        0.04\n",
            "[[5366  108]\n",
            " [ 331   17]]\n",
            "---  SVC  ---\n",
            "Accuracy           94.02%\n",
            "Precision          0.00%\n",
            "Recall             0.00%\n",
            "F1                 0.00\n",
            "AUC                0.63\n",
            "Cohen Kappa        0.00\n",
            "[[5474    0]\n",
            " [ 348    0]]\n",
            "Saving figure roc_curve_comparison_plot\n"
          ],
          "name": "stdout"
        },
        {
          "output_type": "stream",
          "text": [
            "/usr/local/lib/python3.7/dist-packages/sklearn/metrics/_classification.py:1272: UndefinedMetricWarning: Precision is ill-defined and being set to 0.0 due to no predicted samples. Use `zero_division` parameter to control this behavior.\n",
            "  _warn_prf(average, modifier, msg_start, len(result))\n"
          ],
          "name": "stderr"
        },
        {
          "output_type": "display_data",
          "data": {
            "image/png": "[encoded data removed]",
            "text/plain": [
              "<Figure size 432x288 with 1 Axes>"
            ]
          },
          "metadata": {
            "needs_background": "light"
          }
        }
      ]
    },
    {
      "cell_type": "code",
      "metadata": {
        "colab": {
          "base_uri": "https://localhost:8080/"
        },
        "id": "MdMB5xI0_S7y",
        "outputId": "635cf8dc-1a98-4908-a273-9097f1052a8c"
      },
      "source": [
        "from sklearn.metrics import confusion_matrix\n",
        "clf_rf\n",
        "y_pred = cross_val_predict(clf_rf, X_train, y_train, cv=10, n_jobs=-1)\n",
        "cm_rf_tmp = confusion_matrix(y_train, y_pred)\n",
        "cm_rf_tmp"
      ],
      "execution_count": null,
      "outputs": [
        {
          "output_type": "execute_result",
          "data": {
            "text/plain": [
              "array([[5366,  108],\n",
              "       [ 331,   17]])"
            ]
          },
          "metadata": {},
          "execution_count": 227
        }
      ]
    },
    {
      "cell_type": "markdown",
      "metadata": {
        "id": "Q_ZlsloB_S7y"
      },
      "source": [
        "## Models fine-tuning (using grid and random search)"
      ]
    },
    {
      "cell_type": "markdown",
      "metadata": {
        "id": "wkZNju8b_S7y"
      },
      "source": [
        "### Decision Tree"
      ]
    },
    {
      "cell_type": "markdown",
      "metadata": {
        "id": "zNajTRW4_S7y"
      },
      "source": [
        "#####Grid search"
      ]
    },
    {
      "cell_type": "code",
      "metadata": {
        "colab": {
          "base_uri": "https://localhost:8080/"
        },
        "id": "xJjq_lrf_S7z",
        "outputId": "c2d1e1d6-8335-462c-d58e-8885f7bc1103"
      },
      "source": [
        "from sklearn.model_selection import GridSearchCV\n",
        "from scipy.stats import randint\n",
        "\n",
        "param_grid = [\n",
        "        {'max_depth': [5, 8, 10, 15, 20], 'max_features': [10, 20, 50, 80], 'min_samples_leaf': [0.0001, 0.001, 0.01, 0.1, 0.2]},\n",
        "    ]\n",
        "\n",
        "grid_search_dt = GridSearchCV(clf_dt, param_grid, cv=5, scoring='roc_auc', n_jobs=-1)\n",
        "grid_search_dt.fit(X_train, y_train)\n",
        "\n",
        "print(\"AUC= \", grid_search_dt.best_score_, grid_search_dt.best_params_)\n",
        "grid_search_dt.best_estimator_"
      ],
      "execution_count": null,
      "outputs": [
        {
          "output_type": "stream",
          "text": [
            "AUC=  0.7455133790225683 {'max_depth': 5, 'max_features': 80, 'min_samples_leaf': 0.001}\n"
          ],
          "name": "stdout"
        },
        {
          "output_type": "execute_result",
          "data": {
            "text/plain": [
              "DecisionTreeClassifier(ccp_alpha=0.0, class_weight=None, criterion='gini',\n",
              "                       max_depth=5, max_features=80, max_leaf_nodes=None,\n",
              "                       min_impurity_decrease=0.0, min_impurity_split=None,\n",
              "                       min_samples_leaf=0.001, min_samples_split=2,\n",
              "                       min_weight_fraction_leaf=0.0, presort='deprecated',\n",
              "                       random_state=42, splitter='best')"
            ]
          },
          "metadata": {},
          "execution_count": 228
        }
      ]
    },
    {
      "cell_type": "code",
      "metadata": {
        "colab": {
          "base_uri": "https://localhost:8080/"
        },
        "id": "h2gc-F2s_S7z",
        "scrolled": true,
        "outputId": "6874a0d9-6e5e-4e76-fb72-2aa23c6cc966"
      },
      "source": [
        "cvres_grid = grid_search_dt.cv_results_\n",
        "for mean_score, params in zip(cvres_grid[\"mean_test_score\"], cvres_grid[\"params\"]):\n",
        "    print(\"AUC= \", mean_score, params)"
      ],
      "execution_count": null,
      "outputs": [
        {
          "output_type": "stream",
          "text": [
            "AUC=  0.7028594459327779 {'max_depth': 5, 'max_features': 10, 'min_samples_leaf': 0.0001}\n",
            "AUC=  0.6949674505464646 {'max_depth': 5, 'max_features': 10, 'min_samples_leaf': 0.001}\n",
            "AUC=  0.7218184258114398 {'max_depth': 5, 'max_features': 10, 'min_samples_leaf': 0.01}\n",
            "AUC=  0.7193807070129029 {'max_depth': 5, 'max_features': 10, 'min_samples_leaf': 0.1}\n",
            "AUC=  0.6941243057663014 {'max_depth': 5, 'max_features': 10, 'min_samples_leaf': 0.2}\n",
            "AUC=  0.7143883486453746 {'max_depth': 5, 'max_features': 20, 'min_samples_leaf': 0.0001}\n",
            "AUC=  0.7225094355050248 {'max_depth': 5, 'max_features': 20, 'min_samples_leaf': 0.001}\n",
            "AUC=  0.713823755761297 {'max_depth': 5, 'max_features': 20, 'min_samples_leaf': 0.01}\n",
            "AUC=  0.7113422307725132 {'max_depth': 5, 'max_features': 20, 'min_samples_leaf': 0.1}\n",
            "AUC=  0.7180016837360528 {'max_depth': 5, 'max_features': 20, 'min_samples_leaf': 0.2}\n",
            "AUC=  0.7388012021392527 {'max_depth': 5, 'max_features': 50, 'min_samples_leaf': 0.0001}\n",
            "AUC=  0.7385795748356044 {'max_depth': 5, 'max_features': 50, 'min_samples_leaf': 0.001}\n",
            "AUC=  0.717675533203679 {'max_depth': 5, 'max_features': 50, 'min_samples_leaf': 0.01}\n",
            "AUC=  0.7315715270677667 {'max_depth': 5, 'max_features': 50, 'min_samples_leaf': 0.1}\n",
            "AUC=  0.7343556595444602 {'max_depth': 5, 'max_features': 50, 'min_samples_leaf': 0.2}\n",
            "AUC=  0.7177346074151826 {'max_depth': 5, 'max_features': 80, 'min_samples_leaf': 0.0001}\n",
            "AUC=  0.7455133790225683 {'max_depth': 5, 'max_features': 80, 'min_samples_leaf': 0.001}\n",
            "AUC=  0.7123872518776739 {'max_depth': 5, 'max_features': 80, 'min_samples_leaf': 0.01}\n",
            "AUC=  0.7386777261860216 {'max_depth': 5, 'max_features': 80, 'min_samples_leaf': 0.1}\n",
            "AUC=  0.7344893369979709 {'max_depth': 5, 'max_features': 80, 'min_samples_leaf': 0.2}\n",
            "AUC=  0.6697475510680354 {'max_depth': 8, 'max_features': 10, 'min_samples_leaf': 0.0001}\n",
            "AUC=  0.6793582561906867 {'max_depth': 8, 'max_features': 10, 'min_samples_leaf': 0.001}\n",
            "AUC=  0.6679467166438366 {'max_depth': 8, 'max_features': 10, 'min_samples_leaf': 0.01}\n",
            "AUC=  0.7193807070129029 {'max_depth': 8, 'max_features': 10, 'min_samples_leaf': 0.1}\n",
            "AUC=  0.6941243057663014 {'max_depth': 8, 'max_features': 10, 'min_samples_leaf': 0.2}\n",
            "AUC=  0.6661386679634516 {'max_depth': 8, 'max_features': 20, 'min_samples_leaf': 0.0001}\n",
            "AUC=  0.680353573941965 {'max_depth': 8, 'max_features': 20, 'min_samples_leaf': 0.001}\n",
            "AUC=  0.6730159718233069 {'max_depth': 8, 'max_features': 20, 'min_samples_leaf': 0.01}\n",
            "AUC=  0.7113422307725132 {'max_depth': 8, 'max_features': 20, 'min_samples_leaf': 0.1}\n",
            "AUC=  0.7180016837360528 {'max_depth': 8, 'max_features': 20, 'min_samples_leaf': 0.2}\n",
            "AUC=  0.6722434576283149 {'max_depth': 8, 'max_features': 50, 'min_samples_leaf': 0.0001}\n",
            "AUC=  0.6692258484913391 {'max_depth': 8, 'max_features': 50, 'min_samples_leaf': 0.001}\n",
            "AUC=  0.6912965463250194 {'max_depth': 8, 'max_features': 50, 'min_samples_leaf': 0.01}\n",
            "AUC=  0.7315715270677667 {'max_depth': 8, 'max_features': 50, 'min_samples_leaf': 0.1}\n",
            "AUC=  0.7343556595444602 {'max_depth': 8, 'max_features': 50, 'min_samples_leaf': 0.2}\n",
            "AUC=  0.6718526736743726 {'max_depth': 8, 'max_features': 80, 'min_samples_leaf': 0.0001}\n",
            "AUC=  0.6717520272504578 {'max_depth': 8, 'max_features': 80, 'min_samples_leaf': 0.001}\n",
            "AUC=  0.6906919203569567 {'max_depth': 8, 'max_features': 80, 'min_samples_leaf': 0.01}\n",
            "AUC=  0.7386777261860216 {'max_depth': 8, 'max_features': 80, 'min_samples_leaf': 0.1}\n",
            "AUC=  0.7344893369979709 {'max_depth': 8, 'max_features': 80, 'min_samples_leaf': 0.2}\n",
            "AUC=  0.630877382428789 {'max_depth': 10, 'max_features': 10, 'min_samples_leaf': 0.0001}\n",
            "AUC=  0.6583345705952844 {'max_depth': 10, 'max_features': 10, 'min_samples_leaf': 0.001}\n",
            "AUC=  0.6854675101299224 {'max_depth': 10, 'max_features': 10, 'min_samples_leaf': 0.01}\n",
            "AUC=  0.7193807070129029 {'max_depth': 10, 'max_features': 10, 'min_samples_leaf': 0.1}\n",
            "AUC=  0.6941243057663014 {'max_depth': 10, 'max_features': 10, 'min_samples_leaf': 0.2}\n",
            "AUC=  0.6410076983037285 {'max_depth': 10, 'max_features': 20, 'min_samples_leaf': 0.0001}\n",
            "AUC=  0.6412143333724104 {'max_depth': 10, 'max_features': 20, 'min_samples_leaf': 0.001}\n",
            "AUC=  0.6803356312931733 {'max_depth': 10, 'max_features': 20, 'min_samples_leaf': 0.01}\n",
            "AUC=  0.7113422307725132 {'max_depth': 10, 'max_features': 20, 'min_samples_leaf': 0.1}\n",
            "AUC=  0.7180016837360528 {'max_depth': 10, 'max_features': 20, 'min_samples_leaf': 0.2}\n",
            "AUC=  0.6616236488964858 {'max_depth': 10, 'max_features': 50, 'min_samples_leaf': 0.0001}\n",
            "AUC=  0.6319690182265582 {'max_depth': 10, 'max_features': 50, 'min_samples_leaf': 0.001}\n",
            "AUC=  0.6774478295971524 {'max_depth': 10, 'max_features': 50, 'min_samples_leaf': 0.01}\n",
            "AUC=  0.7315715270677667 {'max_depth': 10, 'max_features': 50, 'min_samples_leaf': 0.1}\n",
            "AUC=  0.7343556595444602 {'max_depth': 10, 'max_features': 50, 'min_samples_leaf': 0.2}\n",
            "AUC=  0.644303146495683 {'max_depth': 10, 'max_features': 80, 'min_samples_leaf': 0.0001}\n",
            "AUC=  0.5966739777772972 {'max_depth': 10, 'max_features': 80, 'min_samples_leaf': 0.001}\n",
            "AUC=  0.692677041429938 {'max_depth': 10, 'max_features': 80, 'min_samples_leaf': 0.01}\n",
            "AUC=  0.7386777261860216 {'max_depth': 10, 'max_features': 80, 'min_samples_leaf': 0.1}\n",
            "AUC=  0.7344893369979709 {'max_depth': 10, 'max_features': 80, 'min_samples_leaf': 0.2}\n",
            "AUC=  0.6077240196550922 {'max_depth': 15, 'max_features': 10, 'min_samples_leaf': 0.0001}\n",
            "AUC=  0.5931645615083534 {'max_depth': 15, 'max_features': 10, 'min_samples_leaf': 0.001}\n",
            "AUC=  0.6825423109522311 {'max_depth': 15, 'max_features': 10, 'min_samples_leaf': 0.01}\n",
            "AUC=  0.7193807070129029 {'max_depth': 15, 'max_features': 10, 'min_samples_leaf': 0.1}\n",
            "AUC=  0.6941243057663014 {'max_depth': 15, 'max_features': 10, 'min_samples_leaf': 0.2}\n",
            "AUC=  0.5954158577099672 {'max_depth': 15, 'max_features': 20, 'min_samples_leaf': 0.0001}\n",
            "AUC=  0.598759281983644 {'max_depth': 15, 'max_features': 20, 'min_samples_leaf': 0.001}\n",
            "AUC=  0.6803356312931733 {'max_depth': 15, 'max_features': 20, 'min_samples_leaf': 0.01}\n",
            "AUC=  0.7113422307725132 {'max_depth': 15, 'max_features': 20, 'min_samples_leaf': 0.1}\n",
            "AUC=  0.7180016837360528 {'max_depth': 15, 'max_features': 20, 'min_samples_leaf': 0.2}\n",
            "AUC=  0.5950823041727655 {'max_depth': 15, 'max_features': 50, 'min_samples_leaf': 0.0001}\n",
            "AUC=  0.5992835569065402 {'max_depth': 15, 'max_features': 50, 'min_samples_leaf': 0.001}\n",
            "AUC=  0.6778470468182874 {'max_depth': 15, 'max_features': 50, 'min_samples_leaf': 0.01}\n",
            "AUC=  0.7315715270677667 {'max_depth': 15, 'max_features': 50, 'min_samples_leaf': 0.1}\n",
            "AUC=  0.7343556595444602 {'max_depth': 15, 'max_features': 50, 'min_samples_leaf': 0.2}\n",
            "AUC=  0.5656696394966618 {'max_depth': 15, 'max_features': 80, 'min_samples_leaf': 0.0001}\n",
            "AUC=  0.598926397621819 {'max_depth': 15, 'max_features': 80, 'min_samples_leaf': 0.001}\n",
            "AUC=  0.6910055867420299 {'max_depth': 15, 'max_features': 80, 'min_samples_leaf': 0.01}\n",
            "AUC=  0.7386777261860216 {'max_depth': 15, 'max_features': 80, 'min_samples_leaf': 0.1}\n",
            "AUC=  0.7344893369979709 {'max_depth': 15, 'max_features': 80, 'min_samples_leaf': 0.2}\n",
            "AUC=  0.5708613084451286 {'max_depth': 20, 'max_features': 10, 'min_samples_leaf': 0.0001}\n",
            "AUC=  0.5838489511038703 {'max_depth': 20, 'max_features': 10, 'min_samples_leaf': 0.001}\n",
            "AUC=  0.6825423109522311 {'max_depth': 20, 'max_features': 10, 'min_samples_leaf': 0.01}\n",
            "AUC=  0.7193807070129029 {'max_depth': 20, 'max_features': 10, 'min_samples_leaf': 0.1}\n",
            "AUC=  0.6941243057663014 {'max_depth': 20, 'max_features': 10, 'min_samples_leaf': 0.2}\n",
            "AUC=  0.5708276879584157 {'max_depth': 20, 'max_features': 20, 'min_samples_leaf': 0.0001}\n",
            "AUC=  0.5687030240864595 {'max_depth': 20, 'max_features': 20, 'min_samples_leaf': 0.001}\n",
            "AUC=  0.6803356312931733 {'max_depth': 20, 'max_features': 20, 'min_samples_leaf': 0.01}\n",
            "AUC=  0.7113422307725132 {'max_depth': 20, 'max_features': 20, 'min_samples_leaf': 0.1}\n",
            "AUC=  0.7180016837360528 {'max_depth': 20, 'max_features': 20, 'min_samples_leaf': 0.2}\n",
            "AUC=  0.544603571336539 {'max_depth': 20, 'max_features': 50, 'min_samples_leaf': 0.0001}\n",
            "AUC=  0.5924473975889983 {'max_depth': 20, 'max_features': 50, 'min_samples_leaf': 0.001}\n",
            "AUC=  0.6778470468182874 {'max_depth': 20, 'max_features': 50, 'min_samples_leaf': 0.01}\n",
            "AUC=  0.7315715270677667 {'max_depth': 20, 'max_features': 50, 'min_samples_leaf': 0.1}\n",
            "AUC=  0.7343556595444602 {'max_depth': 20, 'max_features': 50, 'min_samples_leaf': 0.2}\n",
            "AUC=  0.5449417992932217 {'max_depth': 20, 'max_features': 80, 'min_samples_leaf': 0.0001}\n",
            "AUC=  0.5936848388003468 {'max_depth': 20, 'max_features': 80, 'min_samples_leaf': 0.001}\n",
            "AUC=  0.6910055867420299 {'max_depth': 20, 'max_features': 80, 'min_samples_leaf': 0.01}\n",
            "AUC=  0.7386777261860216 {'max_depth': 20, 'max_features': 80, 'min_samples_leaf': 0.1}\n",
            "AUC=  0.7344893369979709 {'max_depth': 20, 'max_features': 80, 'min_samples_leaf': 0.2}\n"
          ],
          "name": "stdout"
        }
      ]
    },
    {
      "cell_type": "code",
      "metadata": {
        "colab": {
          "base_uri": "https://localhost:8080/"
        },
        "id": "qGYnHZk2_S7z",
        "scrolled": true,
        "outputId": "4cc90efe-c5a6-4b34-846e-0bad5545e3b8"
      },
      "source": [
        "feature_importances_grid = grid_search_dt.best_estimator_.feature_importances_\n",
        "sorted(zip(feature_importances_grid, features_name), reverse=True)"
      ],
      "execution_count": null,
      "outputs": [
        {
          "output_type": "execute_result",
          "data": {
            "text/plain": [
              "[(0.2933221783635598, 'PPERSAUT'),\n",
              " (0.1890667227289772, 'PBRAND'),\n",
              " (0.14035952678900981, 'MOPLLAAG'),\n",
              " (0.10670080788783444, 'APLEZIER'),\n",
              " (0.06893953493881312, 'MGODGE'),\n",
              " (0.035765693155123686, 'PPLEZIER'),\n",
              " (0.030785350003397195, 'MBERHOOG'),\n",
              " (0.024035340759528328, 'PFIETS'),\n",
              " (0.02311621312705609, 'ALEVEN'),\n",
              " (0.021180323023363076, 'MHHUUR'),\n",
              " (0.017412032923002044, 'MFGEKIND'),\n",
              " (0.017402889194813802, 'PWAOREG'),\n",
              " (0.015116845549885887, 'MBERARBG'),\n",
              " (0.014191200175241527, 'MINKM30'),\n",
              " (0.0026053413803940983, 'MSKC'),\n",
              " (0.0, 'PZEILPL'),\n",
              " (0.0, 'PWERKT'),\n",
              " (0.0, 'PWAPART'),\n",
              " (0.0, 'PWALAND'),\n",
              " (0.0, 'PWABEDR'),\n",
              " (0.0, 'PVRAAUT'),\n",
              " (0.0, 'PTRACTOR'),\n",
              " (0.0, 'PPERSONG'),\n",
              " (0.0, 'PMOTSCO'),\n",
              " (0.0, 'PLEVEN'),\n",
              " (0.0, 'PINBOED'),\n",
              " (0.0, 'PGEZONG'),\n",
              " (0.0, 'PBYSTAND'),\n",
              " (0.0, 'PBROM'),\n",
              " (0.0, 'PBESAUT'),\n",
              " (0.0, 'PAANHANG'),\n",
              " (0.0, 'MZPART'),\n",
              " (0.0, 'MZFONDS'),\n",
              " (0.0, 'MSKD'),\n",
              " (0.0, 'MSKB2'),\n",
              " (0.0, 'MSKB1'),\n",
              " (0.0, 'MSKA'),\n",
              " (0.0, 'MRELSA'),\n",
              " (0.0, 'MRELOV'),\n",
              " (0.0, 'MRELGE'),\n",
              " (0.0, 'MOPLMIDD'),\n",
              " (0.0, 'MOPLHOOG'),\n",
              " (0.0, 'MKOOPKLA'),\n",
              " (0.0, 'MINKGEM'),\n",
              " (0.0, 'MINK7512'),\n",
              " (0.0, 'MINK4575'),\n",
              " (0.0, 'MINK3045'),\n",
              " (0.0, 'MINK123M'),\n",
              " (0.0, 'MHKOOP'),\n",
              " (0.0, 'MGODRK'),\n",
              " (0.0, 'MGODPR'),\n",
              " (0.0, 'MGODOV'),\n",
              " (0.0, 'MGEMOMV'),\n",
              " (0.0, 'MGEMLEEF'),\n",
              " (0.0, 'MFWEKIND'),\n",
              " (0.0, 'MFALLEEN'),\n",
              " (0.0, 'MBERZELF'),\n",
              " (0.0, 'MBERMIDD'),\n",
              " (0.0, 'MBERBOER'),\n",
              " (0.0, 'MBERARBO'),\n",
              " (0.0, 'MAUT2'),\n",
              " (0.0, 'MAUT1'),\n",
              " (0.0, 'MAUT0'),\n",
              " (0.0, 'MAANTHUI'),\n",
              " (0.0, 'AZEILPL'),\n",
              " (0.0, 'AWERKT'),\n",
              " (0.0, 'AWAPART'),\n",
              " (0.0, 'AWAOREG'),\n",
              " (0.0, 'AWALAND'),\n",
              " (0.0, 'AWABEDR'),\n",
              " (0.0, 'AVRAAUT'),\n",
              " (0.0, 'ATRACTOR'),\n",
              " (0.0, 'APERSONG'),\n",
              " (0.0, 'APERSAUT'),\n",
              " (0.0, 'AMOTSCO'),\n",
              " (0.0, 'AINBOED'),\n",
              " (0.0, 'AGEZONG'),\n",
              " (0.0, 'AFIETS'),\n",
              " (0.0, 'ABYSTAND'),\n",
              " (0.0, 'ABROM'),\n",
              " (0.0, 'ABRAND'),\n",
              " (0.0, 'ABESAUT'),\n",
              " (0.0, 'AAANHANG')]"
            ]
          },
          "metadata": {},
          "execution_count": 230
        }
      ]
    },
    {
      "cell_type": "markdown",
      "metadata": {
        "id": "g3zGQ71u_S7z"
      },
      "source": [
        "##### Randomized search"
      ]
    },
    {
      "cell_type": "code",
      "metadata": {
        "colab": {
          "base_uri": "https://localhost:8080/"
        },
        "id": "boyWQl9R_S7z",
        "outputId": "9acec001-212b-4e6d-e4e2-0a41a5bc20c0"
      },
      "source": [
        "from sklearn.model_selection import RandomizedSearchCV\n",
        "from scipy.stats import randint\n",
        "\n",
        "param_distribs = {\n",
        "        'max_depth': randint(low=4, high=20),\n",
        "        'max_features': randint(low=10, high=80),\n",
        "        'min_samples_leaf': randint(low=1, high=100)\n",
        "    }\n",
        "\n",
        "rnd_search = RandomizedSearchCV(clf_dt, param_distributions=param_distribs,\n",
        "                                n_iter=200, cv=5, scoring='roc_auc', random_state=42, n_jobs=-1)\n",
        "rnd_search.fit(X_train, y_train)"
      ],
      "execution_count": null,
      "outputs": [
        {
          "output_type": "execute_result",
          "data": {
            "text/plain": [
              "RandomizedSearchCV(cv=5, error_score=nan,\n",
              "                   estimator=DecisionTreeClassifier(ccp_alpha=0.0,\n",
              "                                                    class_weight=None,\n",
              "                                                    criterion='gini',\n",
              "                                                    max_depth=3,\n",
              "                                                    max_features=None,\n",
              "                                                    max_leaf_nodes=None,\n",
              "                                                    min_impurity_decrease=0.0,\n",
              "                                                    min_impurity_split=None,\n",
              "                                                    min_samples_leaf=1,\n",
              "                                                    min_samples_split=2,\n",
              "                                                    min_weight_fraction_leaf=0.0,\n",
              "                                                    presort='deprecated',\n",
              "                                                    random_state=42,\n",
              "                                                    splitter='best'),\n",
              "                   iid='d...\n",
              "                   param_distributions={'max_depth': <scipy.stats._distn_infrastructure.rv_frozen object at 0x7fe54a37fa50>,\n",
              "                                        'max_features': <scipy.stats._distn_infrastructure.rv_frozen object at 0x7fe54a37f8d0>,\n",
              "                                        'min_samples_leaf': <scipy.stats._distn_infrastructure.rv_frozen object at 0x7fe54728ae10>},\n",
              "                   pre_dispatch='2*n_jobs', random_state=42, refit=True,\n",
              "                   return_train_score=False, scoring='roc_auc', verbose=0)"
            ]
          },
          "metadata": {},
          "execution_count": 231
        }
      ]
    },
    {
      "cell_type": "code",
      "metadata": {
        "colab": {
          "base_uri": "https://localhost:8080/"
        },
        "id": "6NZY9Oaj_S70",
        "scrolled": true,
        "outputId": "599fb16c-f0e2-4903-94c3-81d843f34fa8"
      },
      "source": [
        "print(\"AUC= \", rnd_search.best_score_, rnd_search.best_params_)\n",
        "rnd_search.best_estimator_"
      ],
      "execution_count": null,
      "outputs": [
        {
          "output_type": "stream",
          "text": [
            "AUC=  0.7414137926743509 {'max_depth': 4, 'max_features': 71, 'min_samples_leaf': 84}\n"
          ],
          "name": "stdout"
        },
        {
          "output_type": "execute_result",
          "data": {
            "text/plain": [
              "DecisionTreeClassifier(ccp_alpha=0.0, class_weight=None, criterion='gini',\n",
              "                       max_depth=4, max_features=71, max_leaf_nodes=None,\n",
              "                       min_impurity_decrease=0.0, min_impurity_split=None,\n",
              "                       min_samples_leaf=84, min_samples_split=2,\n",
              "                       min_weight_fraction_leaf=0.0, presort='deprecated',\n",
              "                       random_state=42, splitter='best')"
            ]
          },
          "metadata": {},
          "execution_count": 232
        }
      ]
    },
    {
      "cell_type": "code",
      "metadata": {
        "colab": {
          "base_uri": "https://localhost:8080/"
        },
        "id": "m85ylz5M_S70",
        "scrolled": true,
        "outputId": "fccbc67d-bc1e-4e7c-960b-d0ef87df8782"
      },
      "source": [
        "cvres_rnd = rnd_search.cv_results_\n",
        "for mean_score, params in zip(cvres_rnd[\"mean_test_score\"], cvres_rnd[\"params\"]):\n",
        "    print(\"AUC= \", mean_score, params)"
      ],
      "execution_count": null,
      "outputs": [
        {
          "output_type": "stream",
          "text": [
            "AUC=  0.7173274433594639 {'max_depth': 10, 'max_features': 61, 'min_samples_leaf': 93}\n",
            "AUC=  0.6657607544857529 {'max_depth': 18, 'max_features': 70, 'min_samples_leaf': 21}\n",
            "AUC=  0.6128896438488898 {'max_depth': 10, 'max_features': 33, 'min_samples_leaf': 3}\n",
            "AUC=  0.6403455069207633 {'max_depth': 9, 'max_features': 62, 'min_samples_leaf': 2}\n",
            "AUC=  0.7053002267247785 {'max_depth': 11, 'max_features': 39, 'min_samples_leaf': 38}\n",
            "AUC=  0.7105063221980622 {'max_depth': 5, 'max_features': 73, 'min_samples_leaf': 60}\n",
            "AUC=  0.7179762760015687 {'max_depth': 8, 'max_features': 42, 'min_samples_leaf': 76}\n",
            "AUC=  0.7271374044484846 {'max_depth': 13, 'max_features': 31, 'min_samples_leaf': 89}\n",
            "AUC=  0.7262807613492143 {'max_depth': 4, 'max_features': 68, 'min_samples_leaf': 42}\n",
            "AUC=  0.7124244320590355 {'max_depth': 19, 'max_features': 69, 'min_samples_leaf': 80}\n",
            "AUC=  0.7057980535229345 {'max_depth': 18, 'max_features': 71, 'min_samples_leaf': 62}\n",
            "AUC=  0.7025300502753032 {'max_depth': 18, 'max_features': 71, 'min_samples_leaf': 51}\n",
            "AUC=  0.7097453587770166 {'max_depth': 15, 'max_features': 64, 'min_samples_leaf': 64}\n",
            "AUC=  0.7028651424224386 {'max_depth': 12, 'max_features': 12, 'min_samples_leaf': 51}\n",
            "AUC=  0.6974720932601146 {'max_depth': 10, 'max_features': 30, 'min_samples_leaf': 73}\n",
            "AUC=  0.6262909001291548 {'max_depth': 10, 'max_features': 27, 'min_samples_leaf': 4}\n",
            "AUC=  0.6526420577221034 {'max_depth': 12, 'max_features': 69, 'min_samples_leaf': 14}\n",
            "AUC=  0.7055842938627448 {'max_depth': 5, 'max_features': 18, 'min_samples_leaf': 90}\n",
            "AUC=  0.7036815858460054 {'max_depth': 8, 'max_features': 11, 'min_samples_leaf': 84}\n",
            "AUC=  0.7104108072449821 {'max_depth': 15, 'max_features': 69, 'min_samples_leaf': 71}\n",
            "AUC=  0.6802462744438434 {'max_depth': 15, 'max_features': 17, 'min_samples_leaf': 47}\n",
            "AUC=  0.6950235586683786 {'max_depth': 6, 'max_features': 45, 'min_samples_leaf': 50}\n",
            "AUC=  0.6310433862629738 {'max_depth': 11, 'max_features': 13, 'min_samples_leaf': 2}\n",
            "AUC=  0.6951342462918998 {'max_depth': 17, 'max_features': 15, 'min_samples_leaf': 54}\n",
            "AUC=  0.6881327905889558 {'max_depth': 13, 'max_features': 13, 'min_samples_leaf': 54}\n",
            "AUC=  0.6499955604750147 {'max_depth': 16, 'max_features': 72, 'min_samples_leaf': 18}\n",
            "AUC=  0.6819876437994256 {'max_depth': 13, 'max_features': 53, 'min_samples_leaf': 34}\n",
            "AUC=  0.6437336441593633 {'max_depth': 13, 'max_features': 71, 'min_samples_leaf': 14}\n",
            "AUC=  0.6336218644691424 {'max_depth': 18, 'max_features': 57, 'min_samples_leaf': 15}\n",
            "AUC=  0.6760317273487242 {'max_depth': 11, 'max_features': 71, 'min_samples_leaf': 40}\n",
            "AUC=  0.6910078033849246 {'max_depth': 8, 'max_features': 62, 'min_samples_leaf': 24}\n",
            "AUC=  0.6779454516425238 {'max_depth': 13, 'max_features': 69, 'min_samples_leaf': 41}\n",
            "AUC=  0.7038419498099369 {'max_depth': 16, 'max_features': 24, 'min_samples_leaf': 45}\n",
            "AUC=  0.7156646601343148 {'max_depth': 4, 'max_features': 18, 'min_samples_leaf': 88}\n",
            "AUC=  0.7325472542447662 {'max_depth': 4, 'max_features': 17, 'min_samples_leaf': 88}\n",
            "AUC=  0.703574136693595 {'max_depth': 18, 'max_features': 20, 'min_samples_leaf': 81}\n",
            "AUC=  0.6862107958001189 {'max_depth': 11, 'max_features': 44, 'min_samples_leaf': 35}\n",
            "AUC=  0.7205390224120043 {'max_depth': 4, 'max_features': 14, 'min_samples_leaf': 41}\n",
            "AUC=  0.7072073166101103 {'max_depth': 15, 'max_features': 16, 'min_samples_leaf': 73}\n",
            "AUC=  0.6779728738077324 {'max_depth': 11, 'max_features': 21, 'min_samples_leaf': 34}\n",
            "AUC=  0.7302985682393226 {'max_depth': 4, 'max_features': 57, 'min_samples_leaf': 23}\n",
            "AUC=  0.7288590460193247 {'max_depth': 17, 'max_features': 46, 'min_samples_leaf': 99}\n",
            "AUC=  0.7010374057429881 {'max_depth': 15, 'max_features': 44, 'min_samples_leaf': 65}\n",
            "AUC=  0.6987137455312623 {'max_depth': 6, 'max_features': 56, 'min_samples_leaf': 78}\n",
            "AUC=  0.680381517918271 {'max_depth': 6, 'max_features': 10, 'min_samples_leaf': 5}\n",
            "AUC=  0.6761234148229367 {'max_depth': 13, 'max_features': 23, 'min_samples_leaf': 27}\n",
            "AUC=  0.7052345183122044 {'max_depth': 12, 'max_features': 24, 'min_samples_leaf': 90}\n",
            "AUC=  0.7048556562693143 {'max_depth': 13, 'max_features': 60, 'min_samples_leaf': 63}\n",
            "AUC=  0.7060744396402635 {'max_depth': 19, 'max_features': 61, 'min_samples_leaf': 96}\n",
            "AUC=  0.6785049878397033 {'max_depth': 7, 'max_features': 32, 'min_samples_leaf': 15}\n",
            "AUC=  0.6922300836264849 {'max_depth': 14, 'max_features': 38, 'min_samples_leaf': 36}\n",
            "AUC=  0.704324605320299 {'max_depth': 16, 'max_features': 41, 'min_samples_leaf': 71}\n",
            "AUC=  0.6930420949567957 {'max_depth': 14, 'max_features': 37, 'min_samples_leaf': 66}\n",
            "AUC=  0.6986659732344712 {'max_depth': 13, 'max_features': 54, 'min_samples_leaf': 62}\n",
            "AUC=  0.6719246240136907 {'max_depth': 12, 'max_features': 15, 'min_samples_leaf': 28}\n",
            "AUC=  0.7037412121312991 {'max_depth': 15, 'max_features': 53, 'min_samples_leaf': 84}\n",
            "AUC=  0.7064227603692974 {'max_depth': 17, 'max_features': 71, 'min_samples_leaf': 75}\n",
            "AUC=  0.713284415012031 {'max_depth': 19, 'max_features': 71, 'min_samples_leaf': 97}\n",
            "AUC=  0.7313099358816318 {'max_depth': 4, 'max_features': 36, 'min_samples_leaf': 62}\n",
            "AUC=  0.7142694283422202 {'max_depth': 12, 'max_features': 12, 'min_samples_leaf': 70}\n",
            "AUC=  0.6308359238527037 {'max_depth': 11, 'max_features': 36, 'min_samples_leaf': 9}\n",
            "AUC=  0.726977086803238 {'max_depth': 17, 'max_features': 46, 'min_samples_leaf': 97}\n",
            "AUC=  0.7000057955390577 {'max_depth': 6, 'max_features': 53, 'min_samples_leaf': 24}\n",
            "AUC=  0.6584358050591032 {'max_depth': 18, 'max_features': 68, 'min_samples_leaf': 32}\n",
            "AUC=  0.7138130077005332 {'max_depth': 19, 'max_features': 61, 'min_samples_leaf': 62}\n",
            "AUC=  0.72975380009813 {'max_depth': 4, 'max_features': 67, 'min_samples_leaf': 52}\n",
            "AUC=  0.5985675616179801 {'max_depth': 15, 'max_features': 48, 'min_samples_leaf': 2}\n",
            "AUC=  0.7159125490435805 {'max_depth': 6, 'max_features': 65, 'min_samples_leaf': 81}\n",
            "AUC=  0.6012876364938629 {'max_depth': 14, 'max_features': 11, 'min_samples_leaf': 2}\n",
            "AUC=  0.7054825988909543 {'max_depth': 15, 'max_features': 63, 'min_samples_leaf': 87}\n",
            "AUC=  0.6773687079155641 {'max_depth': 8, 'max_features': 10, 'min_samples_leaf': 19}\n",
            "AUC=  0.7069423562235609 {'max_depth': 17, 'max_features': 11, 'min_samples_leaf': 53}\n",
            "AUC=  0.7111391709705452 {'max_depth': 15, 'max_features': 41, 'min_samples_leaf': 70}\n",
            "AUC=  0.696823938167044 {'max_depth': 19, 'max_features': 77, 'min_samples_leaf': 55}\n",
            "AUC=  0.6676040863899474 {'max_depth': 14, 'max_features': 65, 'min_samples_leaf': 17}\n",
            "AUC=  0.6327811017137759 {'max_depth': 18, 'max_features': 47, 'min_samples_leaf': 24}\n",
            "AUC=  0.7236197127242561 {'max_depth': 8, 'max_features': 79, 'min_samples_leaf': 86}\n",
            "AUC=  0.7197810842405703 {'max_depth': 14, 'max_features': 25, 'min_samples_leaf': 97}\n",
            "AUC=  0.6999021654486495 {'max_depth': 12, 'max_features': 68, 'min_samples_leaf': 70}\n",
            "AUC=  0.6595665892021225 {'max_depth': 19, 'max_features': 12, 'min_samples_leaf': 20}\n",
            "AUC=  0.6884160259435794 {'max_depth': 15, 'max_features': 68, 'min_samples_leaf': 36}\n",
            "AUC=  0.7110626949154648 {'max_depth': 6, 'max_features': 76, 'min_samples_leaf': 19}\n",
            "AUC=  0.6979156261770325 {'max_depth': 7, 'max_features': 61, 'min_samples_leaf': 33}\n",
            "AUC=  0.7208259251867857 {'max_depth': 11, 'max_features': 48, 'min_samples_leaf': 82}\n",
            "AUC=  0.6420014722255794 {'max_depth': 11, 'max_features': 10, 'min_samples_leaf': 11}\n",
            "AUC=  0.7196112774349418 {'max_depth': 15, 'max_features': 66, 'min_samples_leaf': 89}\n",
            "AUC=  0.7277040914383385 {'max_depth': 5, 'max_features': 32, 'min_samples_leaf': 31}\n",
            "AUC=  0.7238854833248498 {'max_depth': 17, 'max_features': 51, 'min_samples_leaf': 99}\n",
            "AUC=  0.7153464064883905 {'max_depth': 10, 'max_features': 25, 'min_samples_leaf': 90}\n",
            "AUC=  0.5800482692893688 {'max_depth': 19, 'max_features': 69, 'min_samples_leaf': 2}\n",
            "AUC=  0.7252269171048837 {'max_depth': 4, 'max_features': 57, 'min_samples_leaf': 12}\n",
            "AUC=  0.6766239587823157 {'max_depth': 8, 'max_features': 46, 'min_samples_leaf': 32}\n",
            "AUC=  0.6934503740830089 {'max_depth': 14, 'max_features': 18, 'min_samples_leaf': 99}\n",
            "AUC=  0.718066387949164 {'max_depth': 6, 'max_features': 57, 'min_samples_leaf': 80}\n",
            "AUC=  0.6935633239940692 {'max_depth': 6, 'max_features': 29, 'min_samples_leaf': 24}\n",
            "AUC=  0.6821014960952572 {'max_depth': 9, 'max_features': 42, 'min_samples_leaf': 24}\n",
            "AUC=  0.6951974979821558 {'max_depth': 7, 'max_features': 45, 'min_samples_leaf': 38}\n",
            "AUC=  0.7240832607400284 {'max_depth': 11, 'max_features': 34, 'min_samples_leaf': 93}\n",
            "AUC=  0.7210965958721859 {'max_depth': 5, 'max_features': 75, 'min_samples_leaf': 54}\n",
            "AUC=  0.7074842525371449 {'max_depth': 6, 'max_features': 70, 'min_samples_leaf': 41}\n",
            "AUC=  0.7149230671355292 {'max_depth': 7, 'max_features': 42, 'min_samples_leaf': 68}\n",
            "AUC=  0.705777211065209 {'max_depth': 4, 'max_features': 23, 'min_samples_leaf': 21}\n",
            "AUC=  0.6367403282740021 {'max_depth': 19, 'max_features': 29, 'min_samples_leaf': 8}\n",
            "AUC=  0.658327631831576 {'max_depth': 10, 'max_features': 76, 'min_samples_leaf': 17}\n",
            "AUC=  0.7100203232218089 {'max_depth': 19, 'max_features': 42, 'min_samples_leaf': 48}\n",
            "AUC=  0.7152997203993314 {'max_depth': 15, 'max_features': 68, 'min_samples_leaf': 86}\n",
            "AUC=  0.6832735222572256 {'max_depth': 10, 'max_features': 31, 'min_samples_leaf': 30}\n",
            "AUC=  0.7009599310017509 {'max_depth': 9, 'max_features': 60, 'min_samples_leaf': 54}\n",
            "AUC=  0.6763451788185553 {'max_depth': 11, 'max_features': 36, 'min_samples_leaf': 27}\n",
            "AUC=  0.7108720516666267 {'max_depth': 5, 'max_features': 30, 'min_samples_leaf': 30}\n",
            "AUC=  0.7384436694706237 {'max_depth': 4, 'max_features': 37, 'min_samples_leaf': 64}\n",
            "AUC=  0.731260602092094 {'max_depth': 4, 'max_features': 78, 'min_samples_leaf': 61}\n",
            "AUC=  0.5946289168173278 {'max_depth': 19, 'max_features': 28, 'min_samples_leaf': 4}\n",
            "AUC=  0.6976642965153537 {'max_depth': 6, 'max_features': 73, 'min_samples_leaf': 49}\n",
            "AUC=  0.6998365269461803 {'max_depth': 19, 'max_features': 26, 'min_samples_leaf': 44}\n",
            "AUC=  0.728722706261123 {'max_depth': 15, 'max_features': 39, 'min_samples_leaf': 93}\n",
            "AUC=  0.7102688624246735 {'max_depth': 17, 'max_features': 15, 'min_samples_leaf': 99}\n",
            "AUC=  0.6673913340920266 {'max_depth': 15, 'max_features': 46, 'min_samples_leaf': 24}\n",
            "AUC=  0.6985493195914781 {'max_depth': 16, 'max_features': 55, 'min_samples_leaf': 53}\n",
            "AUC=  0.7242416333980118 {'max_depth': 18, 'max_features': 69, 'min_samples_leaf': 97}\n",
            "AUC=  0.7141593130655558 {'max_depth': 7, 'max_features': 72, 'min_samples_leaf': 85}\n",
            "AUC=  0.7051087907351015 {'max_depth': 19, 'max_features': 42, 'min_samples_leaf': 67}\n",
            "AUC=  0.6736032027918968 {'max_depth': 19, 'max_features': 27, 'min_samples_leaf': 25}\n",
            "AUC=  0.6902956248769984 {'max_depth': 13, 'max_features': 63, 'min_samples_leaf': 58}\n",
            "AUC=  0.6933339561122509 {'max_depth': 6, 'max_features': 55, 'min_samples_leaf': 24}\n",
            "AUC=  0.7171505661621023 {'max_depth': 5, 'max_features': 41, 'min_samples_leaf': 47}\n",
            "AUC=  0.6994219663495098 {'max_depth': 9, 'max_features': 32, 'min_samples_leaf': 66}\n",
            "AUC=  0.5734955845417196 {'max_depth': 18, 'max_features': 36, 'min_samples_leaf': 2}\n",
            "AUC=  0.6846831741448269 {'max_depth': 13, 'max_features': 26, 'min_samples_leaf': 33}\n",
            "AUC=  0.7032939846079207 {'max_depth': 12, 'max_features': 52, 'min_samples_leaf': 48}\n",
            "AUC=  0.675745873795859 {'max_depth': 10, 'max_features': 51, 'min_samples_leaf': 26}\n",
            "AUC=  0.6905368990459543 {'max_depth': 6, 'max_features': 59, 'min_samples_leaf': 25}\n",
            "AUC=  0.7164725459734121 {'max_depth': 11, 'max_features': 22, 'min_samples_leaf': 60}\n",
            "AUC=  0.6955476733943002 {'max_depth': 13, 'max_features': 16, 'min_samples_leaf': 57}\n",
            "AUC=  0.68782778363761 {'max_depth': 7, 'max_features': 54, 'min_samples_leaf': 20}\n",
            "AUC=  0.7264520812549335 {'max_depth': 4, 'max_features': 17, 'min_samples_leaf': 16}\n",
            "AUC=  0.7017234629667163 {'max_depth': 17, 'max_features': 24, 'min_samples_leaf': 92}\n",
            "AUC=  0.7083722197360496 {'max_depth': 5, 'max_features': 75, 'min_samples_leaf': 32}\n",
            "AUC=  0.7183326399702704 {'max_depth': 10, 'max_features': 72, 'min_samples_leaf': 86}\n",
            "AUC=  0.7023571068478217 {'max_depth': 6, 'max_features': 34, 'min_samples_leaf': 58}\n",
            "AUC=  0.6637977552340588 {'max_depth': 18, 'max_features': 71, 'min_samples_leaf': 22}\n",
            "AUC=  0.7072140435004005 {'max_depth': 13, 'max_features': 67, 'min_samples_leaf': 86}\n",
            "AUC=  0.7325397016029325 {'max_depth': 4, 'max_features': 61, 'min_samples_leaf': 42}\n",
            "AUC=  0.6811325037587699 {'max_depth': 9, 'max_features': 24, 'min_samples_leaf': 54}\n",
            "AUC=  0.7242416333980118 {'max_depth': 14, 'max_features': 69, 'min_samples_leaf': 97}\n",
            "AUC=  0.7141142649642063 {'max_depth': 11, 'max_features': 62, 'min_samples_leaf': 60}\n",
            "AUC=  0.7040839788006291 {'max_depth': 15, 'max_features': 14, 'min_samples_leaf': 68}\n",
            "AUC=  0.7214622854686583 {'max_depth': 9, 'max_features': 56, 'min_samples_leaf': 99}\n",
            "AUC=  0.6856746756685304 {'max_depth': 10, 'max_features': 49, 'min_samples_leaf': 52}\n",
            "AUC=  0.6626974911294101 {'max_depth': 19, 'max_features': 22, 'min_samples_leaf': 30}\n",
            "AUC=  0.7168905360712031 {'max_depth': 6, 'max_features': 26, 'min_samples_leaf': 63}\n",
            "AUC=  0.7175275463528624 {'max_depth': 6, 'max_features': 67, 'min_samples_leaf': 55}\n",
            "AUC=  0.6601414621726965 {'max_depth': 13, 'max_features': 71, 'min_samples_leaf': 23}\n",
            "AUC=  0.623167375109227 {'max_depth': 18, 'max_features': 18, 'min_samples_leaf': 12}\n",
            "AUC=  0.6908180076643251 {'max_depth': 8, 'max_features': 10, 'min_samples_leaf': 58}\n",
            "AUC=  0.6637230645396089 {'max_depth': 13, 'max_features': 10, 'min_samples_leaf': 34}\n",
            "AUC=  0.7280795729949553 {'max_depth': 19, 'max_features': 57, 'min_samples_leaf': 89}\n",
            "AUC=  0.649893308538319 {'max_depth': 11, 'max_features': 10, 'min_samples_leaf': 16}\n",
            "AUC=  0.7010143641501397 {'max_depth': 16, 'max_features': 73, 'min_samples_leaf': 63}\n",
            "AUC=  0.72599872193267 {'max_depth': 8, 'max_features': 31, 'min_samples_leaf': 93}\n",
            "AUC=  0.7115882360149242 {'max_depth': 10, 'max_features': 76, 'min_samples_leaf': 76}\n",
            "AUC=  0.7128703995413481 {'max_depth': 13, 'max_features': 25, 'min_samples_leaf': 51}\n",
            "AUC=  0.6885685678741309 {'max_depth': 8, 'max_features': 66, 'min_samples_leaf': 29}\n",
            "AUC=  0.6967414816265443 {'max_depth': 17, 'max_features': 78, 'min_samples_leaf': 47}\n",
            "AUC=  0.7369038722403461 {'max_depth': 4, 'max_features': 71, 'min_samples_leaf': 69}\n",
            "AUC=  0.7153464064883905 {'max_depth': 15, 'max_features': 25, 'min_samples_leaf': 90}\n",
            "AUC=  0.7018755802517106 {'max_depth': 13, 'max_features': 57, 'min_samples_leaf': 85}\n",
            "AUC=  0.7136636813409963 {'max_depth': 10, 'max_features': 42, 'min_samples_leaf': 94}\n",
            "AUC=  0.6664140544786201 {'max_depth': 8, 'max_features': 32, 'min_samples_leaf': 10}\n",
            "AUC=  0.6868393529563134 {'max_depth': 9, 'max_features': 78, 'min_samples_leaf': 34}\n",
            "AUC=  0.6872469706758997 {'max_depth': 7, 'max_features': 19, 'min_samples_leaf': 19}\n",
            "AUC=  0.7003117368488938 {'max_depth': 13, 'max_features': 10, 'min_samples_leaf': 69}\n",
            "AUC=  0.6306778856571064 {'max_depth': 16, 'max_features': 13, 'min_samples_leaf': 16}\n",
            "AUC=  0.7309797505251424 {'max_depth': 11, 'max_features': 11, 'min_samples_leaf': 92}\n",
            "AUC=  0.723356731960285 {'max_depth': 19, 'max_features': 41, 'min_samples_leaf': 91}\n",
            "AUC=  0.6757595680706568 {'max_depth': 7, 'max_features': 33, 'min_samples_leaf': 12}\n",
            "AUC=  0.7111027033883276 {'max_depth': 5, 'max_features': 44, 'min_samples_leaf': 33}\n",
            "AUC=  0.7375926088963088 {'max_depth': 4, 'max_features': 70, 'min_samples_leaf': 51}\n",
            "AUC=  0.6852832435640921 {'max_depth': 14, 'max_features': 21, 'min_samples_leaf': 67}\n",
            "AUC=  0.7402536107877876 {'max_depth': 4, 'max_features': 42, 'min_samples_leaf': 40}\n",
            "AUC=  0.6838657928024532 {'max_depth': 13, 'max_features': 52, 'min_samples_leaf': 44}\n",
            "AUC=  0.6236415955031055 {'max_depth': 16, 'max_features': 22, 'min_samples_leaf': 12}\n",
            "AUC=  0.5902171387292493 {'max_depth': 18, 'max_features': 55, 'min_samples_leaf': 2}\n",
            "AUC=  0.7181738042809837 {'max_depth': 16, 'max_features': 44, 'min_samples_leaf': 87}\n",
            "AUC=  0.7325472542447662 {'max_depth': 4, 'max_features': 17, 'min_samples_leaf': 93}\n",
            "AUC=  0.6078060992513674 {'max_depth': 13, 'max_features': 43, 'min_samples_leaf': 7}\n",
            "AUC=  0.702063732436728 {'max_depth': 7, 'max_features': 67, 'min_samples_leaf': 75}\n",
            "AUC=  0.7199256585449791 {'max_depth': 16, 'max_features': 45, 'min_samples_leaf': 89}\n",
            "AUC=  0.6473300455708457 {'max_depth': 8, 'max_features': 45, 'min_samples_leaf': 10}\n",
            "AUC=  0.6952768469882459 {'max_depth': 8, 'max_features': 33, 'min_samples_leaf': 64}\n",
            "AUC=  0.714870557647069 {'max_depth': 6, 'max_features': 58, 'min_samples_leaf': 99}\n",
            "AUC=  0.7026207342068104 {'max_depth': 19, 'max_features': 45, 'min_samples_leaf': 82}\n",
            "AUC=  0.7204548940607849 {'max_depth': 4, 'max_features': 33, 'min_samples_leaf': 23}\n",
            "AUC=  0.619556420989077 {'max_depth': 17, 'max_features': 46, 'min_samples_leaf': 12}\n",
            "AUC=  0.7297985857038866 {'max_depth': 4, 'max_features': 64, 'min_samples_leaf': 13}\n",
            "AUC=  0.6459297833967181 {'max_depth': 10, 'max_features': 39, 'min_samples_leaf': 17}\n",
            "AUC=  0.7414137926743509 {'max_depth': 4, 'max_features': 71, 'min_samples_leaf': 84}\n",
            "AUC=  0.7145682378534995 {'max_depth': 19, 'max_features': 22, 'min_samples_leaf': 59}\n",
            "AUC=  0.6926446321077081 {'max_depth': 6, 'max_features': 58, 'min_samples_leaf': 12}\n",
            "AUC=  0.7123691642755942 {'max_depth': 16, 'max_features': 28, 'min_samples_leaf': 76}\n"
          ],
          "name": "stdout"
        }
      ]
    },
    {
      "cell_type": "code",
      "metadata": {
        "colab": {
          "base_uri": "https://localhost:8080/"
        },
        "id": "mE9xMf_Q_S70",
        "scrolled": true,
        "outputId": "d3443527-86ef-49e1-9fc5-2d4de05acb25"
      },
      "source": [
        "feature_importances_rnd = rnd_search.best_estimator_.feature_importances_\n",
        "sorted(zip(feature_importances_rnd, features_name), reverse=True)"
      ],
      "execution_count": null,
      "outputs": [
        {
          "output_type": "execute_result",
          "data": {
            "text/plain": [
              "[(0.4302585847235291, 'PPERSAUT'),\n",
              " (0.20588586817956814, 'MOPLLAAG'),\n",
              " (0.19427417015303497, 'PBRAND'),\n",
              " (0.04040894284898786, 'MINKGEM'),\n",
              " (0.032820963576132546, 'MGEMLEEF'),\n",
              " (0.023686421671867148, 'MINKM30'),\n",
              " (0.023077701904005442, 'MKOOPKLA'),\n",
              " (0.019490483324525954, 'MBERARBG'),\n",
              " (0.012601117257260234, 'MGODGE'),\n",
              " (0.006486270288703682, 'MRELGE'),\n",
              " (0.005831837477573022, 'MBERMIDD'),\n",
              " (0.005177638594811744, 'MFWEKIND'),\n",
              " (0.0, 'PZEILPL'),\n",
              " (0.0, 'PWERKT'),\n",
              " (0.0, 'PWAPART'),\n",
              " (0.0, 'PWAOREG'),\n",
              " (0.0, 'PWALAND'),\n",
              " (0.0, 'PWABEDR'),\n",
              " (0.0, 'PVRAAUT'),\n",
              " (0.0, 'PTRACTOR'),\n",
              " (0.0, 'PPLEZIER'),\n",
              " (0.0, 'PPERSONG'),\n",
              " (0.0, 'PMOTSCO'),\n",
              " (0.0, 'PLEVEN'),\n",
              " (0.0, 'PINBOED'),\n",
              " (0.0, 'PGEZONG'),\n",
              " (0.0, 'PFIETS'),\n",
              " (0.0, 'PBYSTAND'),\n",
              " (0.0, 'PBROM'),\n",
              " (0.0, 'PBESAUT'),\n",
              " (0.0, 'PAANHANG'),\n",
              " (0.0, 'MZPART'),\n",
              " (0.0, 'MZFONDS'),\n",
              " (0.0, 'MSKD'),\n",
              " (0.0, 'MSKC'),\n",
              " (0.0, 'MSKB2'),\n",
              " (0.0, 'MSKB1'),\n",
              " (0.0, 'MSKA'),\n",
              " (0.0, 'MRELSA'),\n",
              " (0.0, 'MRELOV'),\n",
              " (0.0, 'MOPLMIDD'),\n",
              " (0.0, 'MOPLHOOG'),\n",
              " (0.0, 'MINK7512'),\n",
              " (0.0, 'MINK4575'),\n",
              " (0.0, 'MINK3045'),\n",
              " (0.0, 'MINK123M'),\n",
              " (0.0, 'MHKOOP'),\n",
              " (0.0, 'MHHUUR'),\n",
              " (0.0, 'MGODRK'),\n",
              " (0.0, 'MGODPR'),\n",
              " (0.0, 'MGODOV'),\n",
              " (0.0, 'MGEMOMV'),\n",
              " (0.0, 'MFGEKIND'),\n",
              " (0.0, 'MFALLEEN'),\n",
              " (0.0, 'MBERZELF'),\n",
              " (0.0, 'MBERHOOG'),\n",
              " (0.0, 'MBERBOER'),\n",
              " (0.0, 'MBERARBO'),\n",
              " (0.0, 'MAUT2'),\n",
              " (0.0, 'MAUT1'),\n",
              " (0.0, 'MAUT0'),\n",
              " (0.0, 'MAANTHUI'),\n",
              " (0.0, 'AZEILPL'),\n",
              " (0.0, 'AWERKT'),\n",
              " (0.0, 'AWAPART'),\n",
              " (0.0, 'AWAOREG'),\n",
              " (0.0, 'AWALAND'),\n",
              " (0.0, 'AWABEDR'),\n",
              " (0.0, 'AVRAAUT'),\n",
              " (0.0, 'ATRACTOR'),\n",
              " (0.0, 'APLEZIER'),\n",
              " (0.0, 'APERSONG'),\n",
              " (0.0, 'APERSAUT'),\n",
              " (0.0, 'AMOTSCO'),\n",
              " (0.0, 'ALEVEN'),\n",
              " (0.0, 'AINBOED'),\n",
              " (0.0, 'AGEZONG'),\n",
              " (0.0, 'AFIETS'),\n",
              " (0.0, 'ABYSTAND'),\n",
              " (0.0, 'ABROM'),\n",
              " (0.0, 'ABRAND'),\n",
              " (0.0, 'ABESAUT'),\n",
              " (0.0, 'AAANHANG')]"
            ]
          },
          "metadata": {},
          "execution_count": 234
        }
      ]
    },
    {
      "cell_type": "markdown",
      "metadata": {
        "id": "o13cmUDi_S71"
      },
      "source": [
        "#### Best decision tree model"
      ]
    },
    {
      "cell_type": "code",
      "metadata": {
        "colab": {
          "base_uri": "https://localhost:8080/"
        },
        "id": "imvMDhZS_S71",
        "outputId": "3ba68e07-e576-4d69-ee17-aa5f0379a013"
      },
      "source": [
        "clf_best_dt = grid_search_dt.best_estimator_\n",
        "clf_best_dt"
      ],
      "execution_count": null,
      "outputs": [
        {
          "output_type": "execute_result",
          "data": {
            "text/plain": [
              "DecisionTreeClassifier(ccp_alpha=0.0, class_weight=None, criterion='gini',\n",
              "                       max_depth=5, max_features=80, max_leaf_nodes=None,\n",
              "                       min_impurity_decrease=0.0, min_impurity_split=None,\n",
              "                       min_samples_leaf=0.001, min_samples_split=2,\n",
              "                       min_weight_fraction_leaf=0.0, presort='deprecated',\n",
              "                       random_state=42, splitter='best')"
            ]
          },
          "metadata": {},
          "execution_count": 235
        }
      ]
    },
    {
      "cell_type": "code",
      "metadata": {
        "colab": {
          "base_uri": "https://localhost:8080/"
        },
        "id": "1z6mnxdV_S71",
        "outputId": "5ab43783-1fb7-4c7b-f374-45cfd18b5cc9"
      },
      "source": [
        "y_pred_dt = cross_val_predict(clf_best_dt, X_train, y_train, cv=10, n_jobs=-1)\n",
        "y_proba_dt = cross_val_predict(clf_best_dt, X_train, y_train, cv=10, method='predict_proba', n_jobs=-1)\n",
        "ranking_profit_dt = create_ranking_profit_df(\"Decision Tree\", y_train, y_proba_dt)"
      ],
      "execution_count": null,
      "outputs": [
        {
          "output_type": "stream",
          "text": [
            "[   -10    -20    -30 ... -23400 -23410 -23420]\n",
            "         score  actual  profit  cum_profit\n",
            "5630  1.000000       0     -10         -10\n",
            "2955  0.818182       0     -10         -20\n",
            "1595  0.818182       0     -10         -30\n",
            "5092  0.714286       0     -10         -40\n",
            "811   0.714286       1      90          50\n"
          ],
          "name": "stdout"
        }
      ]
    },
    {
      "cell_type": "code",
      "metadata": {
        "colab": {
          "base_uri": "https://localhost:8080/",
          "height": 206
        },
        "id": "MzAwjiWA_S71",
        "scrolled": true,
        "outputId": "459ce760-b0d2-4944-9467-c8ca8dca69ba"
      },
      "source": [
        "ranking_profit_dt.head()"
      ],
      "execution_count": null,
      "outputs": [
        {
          "output_type": "execute_result",
          "data": {
            "text/html": [
              "<div>\n",
              "<style scoped>\n",
              "    .dataframe tbody tr th:only-of-type {\n",
              "        vertical-align: middle;\n",
              "    }\n",
              "\n",
              "    .dataframe tbody tr th {\n",
              "        vertical-align: top;\n",
              "    }\n",
              "\n",
              "    .dataframe thead th {\n",
              "        text-align: right;\n",
              "    }\n",
              "</style>\n",
              "<table border=\"1\" class=\"dataframe\">\n",
              "  <thead>\n",
              "    <tr style=\"text-align: right;\">\n",
              "      <th></th>\n",
              "      <th>score</th>\n",
              "      <th>actual</th>\n",
              "      <th>profit</th>\n",
              "      <th>cum_profit</th>\n",
              "    </tr>\n",
              "  </thead>\n",
              "  <tbody>\n",
              "    <tr>\n",
              "      <th>5630</th>\n",
              "      <td>1.000000</td>\n",
              "      <td>0</td>\n",
              "      <td>-10</td>\n",
              "      <td>-10</td>\n",
              "    </tr>\n",
              "    <tr>\n",
              "      <th>2955</th>\n",
              "      <td>0.818182</td>\n",
              "      <td>0</td>\n",
              "      <td>-10</td>\n",
              "      <td>-20</td>\n",
              "    </tr>\n",
              "    <tr>\n",
              "      <th>1595</th>\n",
              "      <td>0.818182</td>\n",
              "      <td>0</td>\n",
              "      <td>-10</td>\n",
              "      <td>-30</td>\n",
              "    </tr>\n",
              "    <tr>\n",
              "      <th>5092</th>\n",
              "      <td>0.714286</td>\n",
              "      <td>0</td>\n",
              "      <td>-10</td>\n",
              "      <td>-40</td>\n",
              "    </tr>\n",
              "    <tr>\n",
              "      <th>811</th>\n",
              "      <td>0.714286</td>\n",
              "      <td>1</td>\n",
              "      <td>90</td>\n",
              "      <td>50</td>\n",
              "    </tr>\n",
              "  </tbody>\n",
              "</table>\n",
              "</div>"
            ],
            "text/plain": [
              "         score  actual  profit  cum_profit\n",
              "5630  1.000000       0     -10         -10\n",
              "2955  0.818182       0     -10         -20\n",
              "1595  0.818182       0     -10         -30\n",
              "5092  0.714286       0     -10         -40\n",
              "811   0.714286       1      90          50"
            ]
          },
          "metadata": {},
          "execution_count": 240
        }
      ]
    },
    {
      "cell_type": "markdown",
      "metadata": {
        "id": "lZzV_NGL_S72"
      },
      "source": [
        "##### Performance metrics"
      ]
    },
    {
      "cell_type": "code",
      "metadata": {
        "colab": {
          "base_uri": "https://localhost:8080/"
        },
        "id": "7AT_XFYL_S72",
        "outputId": "22e482cf-e052-47ba-f33b-68d0354338dc"
      },
      "source": [
        "# Performance metrics\n",
        "from sklearn.metrics import confusion_matrix\n",
        "cm_dt = confusion_matrix(y_train, y_pred_dt)\n",
        "display_conf_matrix(y_train, y_pred_dt)\n",
        "display_perf_metrics(y_train, y_pred_dt, y_proba_dt[:,1])"
      ],
      "execution_count": null,
      "outputs": [
        {
          "output_type": "stream",
          "text": [
            "[[5460   14]\n",
            " [ 344    4]]\n",
            "Accuracy           93.85%\n",
            "Precision          22.22%\n",
            "Recall             1.15%\n",
            "F1                 0.02\n",
            "AUC                0.73\n",
            "Cohen Kappa        0.02\n"
          ],
          "name": "stdout"
        }
      ]
    },
    {
      "cell_type": "markdown",
      "metadata": {
        "id": "tPfFdIug_S72"
      },
      "source": [
        "##### Precision / recall curve"
      ]
    },
    {
      "cell_type": "code",
      "metadata": {
        "colab": {
          "base_uri": "https://localhost:8080/"
        },
        "id": "gPMHl1Bz_S72",
        "scrolled": true,
        "outputId": "1d2c3cbe-578f-4e13-a256-751c06d621b9"
      },
      "source": [
        "# Precision, recalls and thresholds\n",
        "from sklearn.metrics import precision_recall_curve\n",
        "precisions, recalls, thresholds = precision_recall_curve(y_train, y_proba_dt[:,1])\n",
        "print(precisions)\n",
        "print(recalls)\n",
        "print(thresholds)"
      ],
      "execution_count": null,
      "outputs": [
        {
          "output_type": "stream",
          "text": [
            "[0.05977327 0.06081318 0.06141593 0.06209735 0.06314056 0.06441374\n",
            " 0.06540977 0.0669049  0.06656038 0.06860922 0.07116827 0.07323628\n",
            " 0.07427785 0.07599717 0.07787482 0.07838304 0.07836836 0.07848477\n",
            " 0.079155   0.07981462 0.08057366 0.08063674 0.08069992 0.08188248\n",
            " 0.08347627 0.08592814 0.08984868 0.09388573 0.09781844 0.10082151\n",
            " 0.10143288 0.10109807 0.10225505 0.10367084 0.10230489 0.10408765\n",
            " 0.10715854 0.11018519 0.11170732 0.11538462 0.11546392 0.11512648\n",
            " 0.11895709 0.12227325 0.12772397 0.13402733 0.13781399 0.13764625\n",
            " 0.13802622 0.13953488 0.14070352 0.14131218 0.14202899 0.14735226\n",
            " 0.14883721 0.14840715 0.15205149 0.15121136 0.15496575 0.15599639\n",
            " 0.15719697 0.16164659 0.16578108 0.17366629 0.17312073 0.17276888\n",
            " 0.17345751 0.17386231 0.17948718 0.17981889 0.1796875  0.18169761\n",
            " 0.18218085 0.18463612 0.18269231 0.18857143 0.18944099 0.19085174\n",
            " 0.19047619 0.19323671 0.19312602 0.19376026 0.19072165 0.19279279\n",
            " 0.19813084 0.19736842 0.19465649 0.19729207 0.2        0.20286885\n",
            " 0.20496894 0.2        0.19518072 0.19098143 0.19346049 0.19113573\n",
            " 0.19435737 0.19256757 0.19230769 0.19285714 0.19133574 0.19776119\n",
            " 0.19298246 0.1938326  0.18461538 0.18556701 0.18518519 0.18716578\n",
            " 0.18817204 0.19230769 0.19886364 0.19512195 0.19496855 0.19620253\n",
            " 0.17985612 0.17557252 0.17886179 0.17948718 0.1754386  0.18269231\n",
            " 0.19101124 0.1875     0.19178082 0.1971831  0.17857143 0.17073171\n",
            " 0.17241379 0.14814815 0.17391304 0.18181818 0.22222222 0.25\n",
            " 0.30769231 0.36363636 0.22222222 0.         0.         1.        ]\n",
            "[1.         0.99712644 0.99712644 0.99712644 0.99137931 0.99137931\n",
            " 0.97701149 0.9683908  0.95977011 0.95402299 0.95402299 0.93965517\n",
            " 0.93103448 0.92528736 0.92241379 0.9137931  0.91091954 0.91091954\n",
            " 0.89367816 0.8908046  0.88793103 0.88793103 0.88793103 0.86494253\n",
            " 0.83908046 0.82471264 0.81896552 0.80747126 0.79885057 0.77586207\n",
            " 0.77298851 0.76724138 0.75574713 0.73850575 0.72701149 0.70977011\n",
            " 0.70114943 0.68390805 0.65804598 0.64655172 0.64367816 0.6408046\n",
            " 0.62931034 0.61206897 0.60632184 0.59195402 0.58333333 0.57471264\n",
            " 0.57471264 0.56896552 0.56321839 0.56321839 0.56321839 0.55172414\n",
            " 0.55172414 0.54885057 0.54310345 0.52011494 0.52011494 0.49712644\n",
            " 0.47701149 0.46264368 0.44827586 0.43965517 0.43678161 0.43390805\n",
            " 0.42816092 0.42816092 0.40229885 0.39942529 0.39655172 0.39367816\n",
            " 0.39367816 0.39367816 0.38218391 0.37931034 0.35057471 0.34770115\n",
            " 0.34482759 0.34482759 0.33908046 0.33908046 0.31896552 0.30747126\n",
            " 0.3045977  0.30172414 0.29310345 0.29310345 0.29310345 0.28448276\n",
            " 0.28448276 0.25862069 0.23275862 0.20689655 0.20402299 0.19827586\n",
            " 0.17816092 0.1637931  0.15804598 0.15517241 0.15229885 0.15229885\n",
            " 0.12643678 0.12643678 0.10344828 0.10344828 0.10057471 0.10057471\n",
            " 0.10057471 0.10057471 0.10057471 0.09195402 0.08908046 0.08908046\n",
            " 0.07183908 0.06609195 0.06321839 0.06034483 0.05747126 0.0545977\n",
            " 0.04885057 0.04310345 0.04022989 0.04022989 0.02873563 0.02011494\n",
            " 0.01436782 0.01149425 0.01149425 0.01149425 0.01149425 0.01149425\n",
            " 0.01149425 0.01149425 0.00574713 0.         0.         0.        ]\n",
            "[0.         0.00177305 0.00179211 0.00448833 0.00620018 0.0073187\n",
            " 0.00862069 0.00904977 0.00939597 0.01070234 0.01088732 0.01489573\n",
            " 0.01624365 0.01708543 0.02052786 0.0212766  0.02173913 0.02231668\n",
            " 0.02307692 0.02325581 0.02564103 0.03030303 0.03200523 0.03219448\n",
            " 0.03497409 0.03511141 0.03550296 0.03562176 0.03666921 0.03886926\n",
            " 0.03960396 0.0397351  0.04026846 0.04166667 0.04550626 0.04634994\n",
            " 0.04640371 0.0466805  0.04778157 0.04807692 0.04878049 0.04909561\n",
            " 0.04923077 0.05022321 0.05109489 0.05128205 0.05238095 0.05263158\n",
            " 0.05349794 0.05416667 0.05454545 0.05714286 0.06020558 0.0625\n",
            " 0.06666667 0.06725146 0.07077626 0.07968127 0.08       0.08163265\n",
            " 0.08617234 0.08984375 0.09018036 0.09090909 0.09375    0.0974026\n",
            " 0.1        0.1086351  0.109375   0.11290323 0.11702128 0.11764706\n",
            " 0.12244898 0.13173653 0.14285714 0.14350797 0.14444444 0.14545455\n",
            " 0.1509434  0.15384615 0.15517241 0.1588785  0.16317992 0.16326531\n",
            " 0.16923077 0.16949153 0.17105263 0.17241379 0.17351598 0.17647059\n",
            " 0.17857143 0.17955801 0.1810585  0.1827957  0.18367347 0.18670886\n",
            " 0.18888889 0.19444444 0.19736842 0.2        0.20192308 0.20652174\n",
            " 0.20833333 0.21180556 0.22222222 0.23529412 0.23809524 0.25\n",
            " 0.26666667 0.27272727 0.2952381  0.3        0.30769231 0.33333333\n",
            " 0.33684211 0.34       0.34615385 0.35294118 0.36065574 0.36170213\n",
            " 0.36363636 0.375      0.38888889 0.39393939 0.4        0.40449438\n",
            " 0.42857143 0.44444444 0.48387097 0.5        0.57692308 0.58333333\n",
            " 0.63636364 0.66666667 0.71428571 0.81818182 1.        ]\n"
          ],
          "name": "stdout"
        }
      ]
    },
    {
      "cell_type": "code",
      "metadata": {
        "colab": {
          "base_uri": "https://localhost:8080/",
          "height": 315
        },
        "id": "K1VpE3SU_S73",
        "outputId": "469a7f1d-762a-4a31-cd56-2b8ecc821f8d"
      },
      "source": [
        "# Plot precision / recall\n",
        "plot_precision_vs_recall(precisions, recalls)\n",
        "save_fig(\"precision_vs_recall_plot_optimized_model_dt\")\n",
        "plt.show()"
      ],
      "execution_count": null,
      "outputs": [
        {
          "output_type": "stream",
          "text": [
            "Saving figure precision_vs_recall_plot_optimized_model_dt\n"
          ],
          "name": "stdout"
        },
        {
          "output_type": "display_data",
          "data": {
            "image/png": "[encoded data removed]",
            "text/plain": [
              "<Figure size 432x288 with 1 Axes>"
            ]
          },
          "metadata": {
            "needs_background": "light"
          }
        }
      ]
    },
    {
      "cell_type": "code",
      "metadata": {
        "colab": {
          "base_uri": "https://localhost:8080/",
          "height": 291
        },
        "id": "zPkwV0kX_S73",
        "outputId": "e136ade6-3d52-4981-c3aa-3bdf02104bf2"
      },
      "source": [
        "# Plot precision and recall vs threshold\n",
        "plot_precision_recall_vs_threshold(precisions, recalls, thresholds)\n",
        "plt.show()"
      ],
      "execution_count": null,
      "outputs": [
        {
          "output_type": "display_data",
          "data": {
            "image/png": "[encoded data removed]",
            "text/plain": [
              "<Figure size 432x288 with 1 Axes>"
            ]
          },
          "metadata": {
            "needs_background": "light"
          }
        }
      ]
    },
    {
      "cell_type": "markdown",
      "metadata": {
        "id": "WZtKv8Hn_S73"
      },
      "source": [
        "##### ROC curve"
      ]
    },
    {
      "cell_type": "code",
      "metadata": {
        "colab": {
          "base_uri": "https://localhost:8080/",
          "height": 315
        },
        "id": "Jwemtjdq_S73",
        "outputId": "1ba4ccb3-c8af-4d74-cd9c-f48e9554e9ce"
      },
      "source": [
        "# ROC curve\n",
        "from sklearn.metrics import roc_curve\n",
        "\n",
        "fpr, tpr, thresholds = roc_curve(y_train, y_proba_dt[:,1])\n",
        "\n",
        "plot_roc_curve(fpr, tpr, \"Decision tree\")\n",
        "save_fig(\"roc_curve_plot_optimized_model_dt\")\n",
        "plt.show()"
      ],
      "execution_count": null,
      "outputs": [
        {
          "output_type": "stream",
          "text": [
            "Saving figure roc_curve_plot_optimized_model_dt\n"
          ],
          "name": "stdout"
        },
        {
          "output_type": "display_data",
          "data": {
            "image/png": "[encoded data removed]",
            "text/plain": [
              "<Figure size 432x288 with 1 Axes>"
            ]
          },
          "metadata": {
            "needs_background": "light"
          }
        }
      ]
    },
    {
      "cell_type": "markdown",
      "metadata": {
        "id": "0iM9rr4Y_S73"
      },
      "source": [
        "### Logistic Regression"
      ]
    },
    {
      "cell_type": "markdown",
      "metadata": {
        "id": "4WW9EBJK_S73"
      },
      "source": [
        "#### Grid search"
      ]
    },
    {
      "cell_type": "code",
      "metadata": {
        "colab": {
          "base_uri": "https://localhost:8080/"
        },
        "id": "BTECf1Bv_S74",
        "outputId": "d2e4f9ca-1289-49e4-c5e5-8f7b03040a92"
      },
      "source": [
        "from sklearn.model_selection import GridSearchCV\n",
        "from scipy.stats import randint\n",
        "\n",
        "param_grid = [\n",
        "        {'solver' : ['newton-cg', 'lbfgs', 'sag'], 'penalty': ['l2'], 'C': [0.001, 0.01, 0.1, 1, 10, 100, 1000] },\n",
        "        {'solver' : ['liblinear'], 'penalty': ['l1','l2'], 'C': [0.001, 0.01, 0.1, 1, 10, 100, 1000] }\n",
        "    ]\n",
        "\n",
        "grid_search_log = GridSearchCV(clf_log, param_grid, cv=5, scoring='precision', n_jobs=-1)\n",
        "grid_search_log.fit(X_train, y_train)\n",
        "\n",
        "print(\"Precision= \", grid_search_log.best_score_, grid_search_log.best_params_)\n",
        "grid_search_log.best_estimator_"
      ],
      "execution_count": null,
      "outputs": [
        {
          "output_type": "stream",
          "text": [
            "/usr/local/lib/python3.7/dist-packages/sklearn/linear_model/_logistic.py:1539: UserWarning: 'n_jobs' > 1 does not have any effect when 'solver' is set to 'liblinear'. Got 'n_jobs' = 2.\n",
            "  \" = {}.\".format(effective_n_jobs(self.n_jobs)))\n"
          ],
          "name": "stderr"
        },
        {
          "output_type": "stream",
          "text": [
            "Precision=  0.25 {'C': 10, 'penalty': 'l1', 'solver': 'liblinear'}\n"
          ],
          "name": "stdout"
        },
        {
          "output_type": "execute_result",
          "data": {
            "text/plain": [
              "LogisticRegression(C=10, class_weight=None, dual=False, fit_intercept=True,\n",
              "                   intercept_scaling=1, l1_ratio=None, max_iter=100,\n",
              "                   multi_class='auto', n_jobs=-1, penalty='l1', random_state=42,\n",
              "                   solver='liblinear', tol=0.0001, verbose=0, warm_start=False)"
            ]
          },
          "metadata": {},
          "execution_count": 247
        }
      ]
    },
    {
      "cell_type": "code",
      "metadata": {
        "colab": {
          "base_uri": "https://localhost:8080/"
        },
        "id": "uuO0G-uI_S74",
        "scrolled": true,
        "outputId": "f964d26f-833c-4b6c-e11c-d7c485f3f994"
      },
      "source": [
        "cvres_grid_log = grid_search_log.cv_results_\n",
        "for mean_score, params in zip(cvres_grid_log[\"mean_test_score\"], cvres_grid_log[\"params\"]):\n",
        "    print(\"Precision= \", mean_score, params)"
      ],
      "execution_count": null,
      "outputs": [
        {
          "output_type": "stream",
          "text": [
            "Precision=  0.0 {'C': 0.001, 'penalty': 'l2', 'solver': 'newton-cg'}\n",
            "Precision=  0.0 {'C': 0.001, 'penalty': 'l2', 'solver': 'lbfgs'}\n",
            "Precision=  0.0 {'C': 0.001, 'penalty': 'l2', 'solver': 'sag'}\n",
            "Precision=  0.0 {'C': 0.01, 'penalty': 'l2', 'solver': 'newton-cg'}\n",
            "Precision=  0.0 {'C': 0.01, 'penalty': 'l2', 'solver': 'lbfgs'}\n",
            "Precision=  0.0 {'C': 0.01, 'penalty': 'l2', 'solver': 'sag'}\n",
            "Precision=  0.0 {'C': 0.1, 'penalty': 'l2', 'solver': 'newton-cg'}\n",
            "Precision=  0.0 {'C': 0.1, 'penalty': 'l2', 'solver': 'lbfgs'}\n",
            "Precision=  0.0 {'C': 0.1, 'penalty': 'l2', 'solver': 'sag'}\n",
            "Precision=  0.2 {'C': 1, 'penalty': 'l2', 'solver': 'newton-cg'}\n",
            "Precision=  0.2 {'C': 1, 'penalty': 'l2', 'solver': 'lbfgs'}\n",
            "Precision=  0.2 {'C': 1, 'penalty': 'l2', 'solver': 'sag'}\n",
            "Precision=  0.15 {'C': 10, 'penalty': 'l2', 'solver': 'newton-cg'}\n",
            "Precision=  0.15 {'C': 10, 'penalty': 'l2', 'solver': 'lbfgs'}\n",
            "Precision=  0.15 {'C': 10, 'penalty': 'l2', 'solver': 'sag'}\n",
            "Precision=  0.22000000000000003 {'C': 100, 'penalty': 'l2', 'solver': 'newton-cg'}\n",
            "Precision=  0.2 {'C': 100, 'penalty': 'l2', 'solver': 'lbfgs'}\n",
            "Precision=  0.12 {'C': 100, 'penalty': 'l2', 'solver': 'sag'}\n",
            "Precision=  0.22000000000000003 {'C': 1000, 'penalty': 'l2', 'solver': 'newton-cg'}\n",
            "Precision=  0.2 {'C': 1000, 'penalty': 'l2', 'solver': 'lbfgs'}\n",
            "Precision=  0.22000000000000003 {'C': 1000, 'penalty': 'l2', 'solver': 'sag'}\n",
            "Precision=  0.0 {'C': 0.001, 'penalty': 'l1', 'solver': 'liblinear'}\n",
            "Precision=  0.0 {'C': 0.001, 'penalty': 'l2', 'solver': 'liblinear'}\n",
            "Precision=  0.0 {'C': 0.01, 'penalty': 'l1', 'solver': 'liblinear'}\n",
            "Precision=  0.0 {'C': 0.01, 'penalty': 'l2', 'solver': 'liblinear'}\n",
            "Precision=  0.0 {'C': 0.1, 'penalty': 'l1', 'solver': 'liblinear'}\n",
            "Precision=  0.0 {'C': 0.1, 'penalty': 'l2', 'solver': 'liblinear'}\n",
            "Precision=  0.2 {'C': 1, 'penalty': 'l1', 'solver': 'liblinear'}\n",
            "Precision=  0.2 {'C': 1, 'penalty': 'l2', 'solver': 'liblinear'}\n",
            "Precision=  0.25 {'C': 10, 'penalty': 'l1', 'solver': 'liblinear'}\n",
            "Precision=  0.15 {'C': 10, 'penalty': 'l2', 'solver': 'liblinear'}\n",
            "Precision=  0.22000000000000003 {'C': 100, 'penalty': 'l1', 'solver': 'liblinear'}\n",
            "Precision=  0.22000000000000003 {'C': 100, 'penalty': 'l2', 'solver': 'liblinear'}\n",
            "Precision=  0.22000000000000003 {'C': 1000, 'penalty': 'l1', 'solver': 'liblinear'}\n",
            "Precision=  0.22000000000000003 {'C': 1000, 'penalty': 'l2', 'solver': 'liblinear'}\n"
          ],
          "name": "stdout"
        }
      ]
    },
    {
      "cell_type": "markdown",
      "metadata": {
        "id": "SLeHbvyJ_S74"
      },
      "source": [
        "#### Best logistic regression model"
      ]
    },
    {
      "cell_type": "code",
      "metadata": {
        "colab": {
          "base_uri": "https://localhost:8080/"
        },
        "id": "yENMwU0A_S74",
        "outputId": "dcdcdeb6-f58c-453f-c34b-a53c30e89944"
      },
      "source": [
        "clf_best_log = grid_search_log.best_estimator_\n",
        "clf_best_log"
      ],
      "execution_count": null,
      "outputs": [
        {
          "output_type": "execute_result",
          "data": {
            "text/plain": [
              "LogisticRegression(C=10, class_weight=None, dual=False, fit_intercept=True,\n",
              "                   intercept_scaling=1, l1_ratio=None, max_iter=100,\n",
              "                   multi_class='auto', n_jobs=-1, penalty='l1', random_state=42,\n",
              "                   solver='liblinear', tol=0.0001, verbose=0, warm_start=False)"
            ]
          },
          "metadata": {},
          "execution_count": 249
        }
      ]
    },
    {
      "cell_type": "code",
      "metadata": {
        "colab": {
          "base_uri": "https://localhost:8080/"
        },
        "id": "DjBjWee__S75",
        "outputId": "02cb3281-f209-46f5-919b-fd6dd690c703"
      },
      "source": [
        "y_pred_log = cross_val_predict(clf_best_log, X_train, y_train, cv=10, n_jobs=-1)\n",
        "y_proba_log = cross_val_predict(clf_best_log, X_train, y_train, cv=10, method='predict_proba', n_jobs=-1)\n",
        "ranking_profit_log = create_ranking_profit_df(\"Logistic Regression\", y_train, y_proba_log)"
      ],
      "execution_count": null,
      "outputs": [
        {
          "output_type": "stream",
          "text": [
            "[    90     80     70 ... -23400 -23410 -23420]\n",
            "         score  actual  profit  cum_profit\n",
            "5630  1.000000       0     -10         -10\n",
            "2955  0.818182       0     -10         -20\n",
            "1595  0.818182       0     -10         -30\n",
            "5092  0.714286       0     -10         -40\n",
            "811   0.714286       1      90          50\n"
          ],
          "name": "stdout"
        }
      ]
    },
    {
      "cell_type": "code",
      "metadata": {
        "colab": {
          "base_uri": "https://localhost:8080/",
          "height": 206
        },
        "id": "XoObgc9g_S75",
        "scrolled": true,
        "outputId": "1a457050-e4d8-4c0a-f079-dcc068d71e43"
      },
      "source": [
        "ranking_profit_log.head()"
      ],
      "execution_count": null,
      "outputs": [
        {
          "output_type": "execute_result",
          "data": {
            "text/html": [
              "<div>\n",
              "<style scoped>\n",
              "    .dataframe tbody tr th:only-of-type {\n",
              "        vertical-align: middle;\n",
              "    }\n",
              "\n",
              "    .dataframe tbody tr th {\n",
              "        vertical-align: top;\n",
              "    }\n",
              "\n",
              "    .dataframe thead th {\n",
              "        text-align: right;\n",
              "    }\n",
              "</style>\n",
              "<table border=\"1\" class=\"dataframe\">\n",
              "  <thead>\n",
              "    <tr style=\"text-align: right;\">\n",
              "      <th></th>\n",
              "      <th>score</th>\n",
              "      <th>actual</th>\n",
              "      <th>profit</th>\n",
              "      <th>cum_profit</th>\n",
              "    </tr>\n",
              "  </thead>\n",
              "  <tbody>\n",
              "    <tr>\n",
              "      <th>2953</th>\n",
              "      <td>0.960082</td>\n",
              "      <td>1</td>\n",
              "      <td>90</td>\n",
              "      <td>90</td>\n",
              "    </tr>\n",
              "    <tr>\n",
              "      <th>4618</th>\n",
              "      <td>0.834794</td>\n",
              "      <td>0</td>\n",
              "      <td>-10</td>\n",
              "      <td>80</td>\n",
              "    </tr>\n",
              "    <tr>\n",
              "      <th>130</th>\n",
              "      <td>0.820525</td>\n",
              "      <td>0</td>\n",
              "      <td>-10</td>\n",
              "      <td>70</td>\n",
              "    </tr>\n",
              "    <tr>\n",
              "      <th>206</th>\n",
              "      <td>0.761757</td>\n",
              "      <td>0</td>\n",
              "      <td>-10</td>\n",
              "      <td>60</td>\n",
              "    </tr>\n",
              "    <tr>\n",
              "      <th>2188</th>\n",
              "      <td>0.739595</td>\n",
              "      <td>0</td>\n",
              "      <td>-10</td>\n",
              "      <td>50</td>\n",
              "    </tr>\n",
              "  </tbody>\n",
              "</table>\n",
              "</div>"
            ],
            "text/plain": [
              "         score  actual  profit  cum_profit\n",
              "2953  0.960082       1      90          90\n",
              "4618  0.834794       0     -10          80\n",
              "130   0.820525       0     -10          70\n",
              "206   0.761757       0     -10          60\n",
              "2188  0.739595       0     -10          50"
            ]
          },
          "metadata": {},
          "execution_count": 251
        }
      ]
    },
    {
      "cell_type": "markdown",
      "metadata": {
        "id": "iVq9KJ1g_S75"
      },
      "source": [
        "##### Performance metrics"
      ]
    },
    {
      "cell_type": "code",
      "metadata": {
        "colab": {
          "base_uri": "https://localhost:8080/"
        },
        "id": "PzAgiXKX_S75",
        "outputId": "84823048-5012-479a-dc1b-d8436a9825aa"
      },
      "source": [
        "# Performance metrics\n",
        "cm_log = confusion_matrix(y_train, y_pred_log)\n",
        "display_conf_matrix(y_train, y_pred_log)\n",
        "display_perf_metrics(y_train, y_pred_log, y_proba_log[:,1])"
      ],
      "execution_count": null,
      "outputs": [
        {
          "output_type": "stream",
          "text": [
            "[[5460   14]\n",
            " [ 346    2]]\n",
            "Accuracy           93.82%\n",
            "Precision          12.50%\n",
            "Recall             0.57%\n",
            "F1                 0.01\n",
            "AUC                0.74\n",
            "Cohen Kappa        0.01\n"
          ],
          "name": "stdout"
        }
      ]
    },
    {
      "cell_type": "markdown",
      "metadata": {
        "id": "u3TnRgR8_S76"
      },
      "source": [
        "##### Precision / recall curve"
      ]
    },
    {
      "cell_type": "code",
      "metadata": {
        "colab": {
          "base_uri": "https://localhost:8080/"
        },
        "id": "t9POVKkv_S76",
        "scrolled": true,
        "outputId": "a758375b-411a-49c3-e7e5-6a07db553c62"
      },
      "source": [
        "# Precision, recalls and thresholds\n",
        "from sklearn.metrics import precision_recall_curve\n",
        "precisions, recalls, thresholds = precision_recall_curve(y_train, y_proba_log[:,1])\n",
        "print(precisions)\n",
        "print(recalls)\n",
        "print(thresholds)"
      ],
      "execution_count": null,
      "outputs": [
        {
          "output_type": "stream",
          "text": [
            "[0.0607012  0.06053733 0.0605479  ... 0.5        1.         1.        ]\n",
            "[1.         0.99712644 0.99712644 ... 0.00287356 0.00287356 0.        ]\n",
            "[0.00371687 0.00373567 0.00375789 ... 0.82052514 0.83479409 0.96008209]\n"
          ],
          "name": "stdout"
        }
      ]
    },
    {
      "cell_type": "code",
      "metadata": {
        "colab": {
          "base_uri": "https://localhost:8080/",
          "height": 315
        },
        "id": "1DxAPypG_S76",
        "outputId": "d3dd3890-8bec-40a7-a846-0667f65c2d72"
      },
      "source": [
        "# Plot precision / recall\n",
        "plot_precision_vs_recall(precisions, recalls)\n",
        "save_fig(\"precision_vs_recall_plot_optimized_model_dt\")\n",
        "plt.show()"
      ],
      "execution_count": null,
      "outputs": [
        {
          "output_type": "stream",
          "text": [
            "Saving figure precision_vs_recall_plot_optimized_model_dt\n"
          ],
          "name": "stdout"
        },
        {
          "output_type": "display_data",
          "data": {
            "image/png": "[encoded data removed]",
            "text/plain": [
              "<Figure size 432x288 with 1 Axes>"
            ]
          },
          "metadata": {
            "needs_background": "light"
          }
        }
      ]
    },
    {
      "cell_type": "code",
      "metadata": {
        "colab": {
          "base_uri": "https://localhost:8080/",
          "height": 291
        },
        "id": "VcVv8Piz_S76",
        "outputId": "7fdf1a76-e38c-4c0f-d791-e976412cbfcd"
      },
      "source": [
        "# Plot precision and recall vs threshold\n",
        "plot_precision_recall_vs_threshold(precisions, recalls, thresholds)\n",
        "plt.show()"
      ],
      "execution_count": null,
      "outputs": [
        {
          "output_type": "display_data",
          "data": {
            "image/png": "[encoded data removed]",
            "text/plain": [
              "<Figure size 432x288 with 1 Axes>"
            ]
          },
          "metadata": {
            "needs_background": "light"
          }
        }
      ]
    },
    {
      "cell_type": "markdown",
      "metadata": {
        "id": "fMGHYBI__S76"
      },
      "source": [
        "##### ROC curve"
      ]
    },
    {
      "cell_type": "code",
      "metadata": {
        "colab": {
          "base_uri": "https://localhost:8080/",
          "height": 315
        },
        "id": "hQb04BBd_S77",
        "outputId": "28a1a910-87ea-465c-a90e-2e4bfb28ffcd"
      },
      "source": [
        "# ROC curve\n",
        "from sklearn.metrics import roc_curve\n",
        "\n",
        "fpr, tpr, thresholds = roc_curve(y_train, y_proba_log[:,1])\n",
        "\n",
        "plot_roc_curve(fpr, tpr, \"Decision tree\")\n",
        "save_fig(\"roc_curve_plot_optimized_model_dt\")\n",
        "plt.show()"
      ],
      "execution_count": null,
      "outputs": [
        {
          "output_type": "stream",
          "text": [
            "Saving figure roc_curve_plot_optimized_model_dt\n"
          ],
          "name": "stdout"
        },
        {
          "output_type": "display_data",
          "data": {
            "image/png": "[encoded data removed]",
            "text/plain": [
              "<Figure size 432x288 with 1 Axes>"
            ]
          },
          "metadata": {
            "needs_background": "light"
          }
        }
      ]
    },
    {
      "cell_type": "markdown",
      "metadata": {
        "id": "DtISHa0t_S77"
      },
      "source": [
        "### Random forest"
      ]
    },
    {
      "cell_type": "markdown",
      "metadata": {
        "id": "Kzx9JG6B_S77"
      },
      "source": [
        "#### Grid search"
      ]
    },
    {
      "cell_type": "code",
      "metadata": {
        "colab": {
          "base_uri": "https://localhost:8080/"
        },
        "id": "xmGSTyyi_S77",
        "outputId": "e1c6e8c7-7a26-4345-df5b-6e6157070e8d"
      },
      "source": [
        "# Selecting best features from previous decision tree\n",
        "model = SelectFromModel(clf_best_dt, prefit=True)\n",
        "X_new = model.transform(X_train)\n",
        "print(\"Nb of features selected: \", X_new.shape)"
      ],
      "execution_count": null,
      "outputs": [
        {
          "output_type": "stream",
          "text": [
            "Nb of features selected:  (5822, 14)\n"
          ],
          "name": "stdout"
        }
      ]
    },
    {
      "cell_type": "code",
      "metadata": {
        "colab": {
          "base_uri": "https://localhost:8080/"
        },
        "id": "oOaNtPkl_S77",
        "scrolled": true,
        "outputId": "320c04f1-eb7b-4c31-c9de-e8cb2bf3b4ba"
      },
      "source": [
        "from sklearn.model_selection import GridSearchCV\n",
        "from scipy.stats import randint\n",
        "\n",
        "param_grid = [\n",
        "        {'max_depth': [5, 8, 10, 15, 20], 'max_features': [5, 8, 13], 'min_samples_leaf': [0.0001, 0.001, 0.01, 0.1, 0.2]},\n",
        "    ]\n",
        "\n",
        "grid_search_rf = GridSearchCV(clf_rf, param_grid, cv=5, scoring='f1', n_jobs=-1)\n",
        "grid_search_rf.fit(X_new, y_train)\n",
        "\n",
        "print(\"F1= \", grid_search_rf.best_score_, grid_search_rf.best_params_)\n",
        "clf_rf2 = grid_search_rf.best_estimator_\n",
        "clf_rf2"
      ],
      "execution_count": null,
      "outputs": [
        {
          "output_type": "stream",
          "text": [
            "F1=  0.0927705963395279 {'max_depth': 20, 'max_features': 8, 'min_samples_leaf': 0.0001}\n"
          ],
          "name": "stdout"
        },
        {
          "output_type": "execute_result",
          "data": {
            "text/plain": [
              "RandomForestClassifier(bootstrap=True, ccp_alpha=0.0, class_weight=None,\n",
              "                       criterion='gini', max_depth=20, max_features=8,\n",
              "                       max_leaf_nodes=None, max_samples=None,\n",
              "                       min_impurity_decrease=0.0, min_impurity_split=None,\n",
              "                       min_samples_leaf=0.0001, min_samples_split=2,\n",
              "                       min_weight_fraction_leaf=0.0, n_estimators=100,\n",
              "                       n_jobs=-1, oob_score=False, random_state=42, verbose=0,\n",
              "                       warm_start=False)"
            ]
          },
          "metadata": {},
          "execution_count": 258
        }
      ]
    },
    {
      "cell_type": "code",
      "metadata": {
        "colab": {
          "base_uri": "https://localhost:8080/"
        },
        "id": "fMlIfKCy_S78",
        "scrolled": true,
        "outputId": "c29a339e-e9bc-4541-a1c1-63c545d664aa"
      },
      "source": [
        "cvres_grid_rf = grid_search_rf.cv_results_\n",
        "for mean_score, params in zip(cvres_grid_rf[\"mean_test_score\"], cvres_grid_rf[\"params\"]):\n",
        "    print(\"F1= \", mean_score, params)"
      ],
      "execution_count": null,
      "outputs": [
        {
          "output_type": "stream",
          "text": [
            "F1=  0.005714285714285714 {'max_depth': 5, 'max_features': 5, 'min_samples_leaf': 0.0001}\n",
            "F1=  0.0 {'max_depth': 5, 'max_features': 5, 'min_samples_leaf': 0.001}\n",
            "F1=  0.0 {'max_depth': 5, 'max_features': 5, 'min_samples_leaf': 0.01}\n",
            "F1=  0.0 {'max_depth': 5, 'max_features': 5, 'min_samples_leaf': 0.1}\n",
            "F1=  0.0 {'max_depth': 5, 'max_features': 5, 'min_samples_leaf': 0.2}\n",
            "F1=  0.011428571428571429 {'max_depth': 5, 'max_features': 8, 'min_samples_leaf': 0.0001}\n",
            "F1=  0.0 {'max_depth': 5, 'max_features': 8, 'min_samples_leaf': 0.001}\n",
            "F1=  0.0 {'max_depth': 5, 'max_features': 8, 'min_samples_leaf': 0.01}\n",
            "F1=  0.0 {'max_depth': 5, 'max_features': 8, 'min_samples_leaf': 0.1}\n",
            "F1=  0.0 {'max_depth': 5, 'max_features': 8, 'min_samples_leaf': 0.2}\n",
            "F1=  0.00563380281690141 {'max_depth': 5, 'max_features': 13, 'min_samples_leaf': 0.0001}\n",
            "F1=  0.0 {'max_depth': 5, 'max_features': 13, 'min_samples_leaf': 0.001}\n",
            "F1=  0.0 {'max_depth': 5, 'max_features': 13, 'min_samples_leaf': 0.01}\n",
            "F1=  0.0 {'max_depth': 5, 'max_features': 13, 'min_samples_leaf': 0.1}\n",
            "F1=  0.0 {'max_depth': 5, 'max_features': 13, 'min_samples_leaf': 0.2}\n",
            "F1=  0.011348088531187123 {'max_depth': 8, 'max_features': 5, 'min_samples_leaf': 0.0001}\n",
            "F1=  0.0 {'max_depth': 8, 'max_features': 5, 'min_samples_leaf': 0.001}\n",
            "F1=  0.0 {'max_depth': 8, 'max_features': 5, 'min_samples_leaf': 0.01}\n",
            "F1=  0.0 {'max_depth': 8, 'max_features': 5, 'min_samples_leaf': 0.1}\n",
            "F1=  0.0 {'max_depth': 8, 'max_features': 5, 'min_samples_leaf': 0.2}\n",
            "F1=  0.0165226917057903 {'max_depth': 8, 'max_features': 8, 'min_samples_leaf': 0.0001}\n",
            "F1=  0.0 {'max_depth': 8, 'max_features': 8, 'min_samples_leaf': 0.001}\n",
            "F1=  0.0 {'max_depth': 8, 'max_features': 8, 'min_samples_leaf': 0.01}\n",
            "F1=  0.0 {'max_depth': 8, 'max_features': 8, 'min_samples_leaf': 0.1}\n",
            "F1=  0.0 {'max_depth': 8, 'max_features': 8, 'min_samples_leaf': 0.2}\n",
            "F1=  0.03748127074442864 {'max_depth': 8, 'max_features': 13, 'min_samples_leaf': 0.0001}\n",
            "F1=  0.0 {'max_depth': 8, 'max_features': 13, 'min_samples_leaf': 0.001}\n",
            "F1=  0.0 {'max_depth': 8, 'max_features': 13, 'min_samples_leaf': 0.01}\n",
            "F1=  0.0 {'max_depth': 8, 'max_features': 13, 'min_samples_leaf': 0.1}\n",
            "F1=  0.0 {'max_depth': 8, 'max_features': 13, 'min_samples_leaf': 0.2}\n",
            "F1=  0.042570706287132776 {'max_depth': 10, 'max_features': 5, 'min_samples_leaf': 0.0001}\n",
            "F1=  0.0 {'max_depth': 10, 'max_features': 5, 'min_samples_leaf': 0.001}\n",
            "F1=  0.0 {'max_depth': 10, 'max_features': 5, 'min_samples_leaf': 0.01}\n",
            "F1=  0.0 {'max_depth': 10, 'max_features': 5, 'min_samples_leaf': 0.1}\n",
            "F1=  0.0 {'max_depth': 10, 'max_features': 5, 'min_samples_leaf': 0.2}\n",
            "F1=  0.051408626843618424 {'max_depth': 10, 'max_features': 8, 'min_samples_leaf': 0.0001}\n",
            "F1=  0.0 {'max_depth': 10, 'max_features': 8, 'min_samples_leaf': 0.001}\n",
            "F1=  0.0 {'max_depth': 10, 'max_features': 8, 'min_samples_leaf': 0.01}\n",
            "F1=  0.0 {'max_depth': 10, 'max_features': 8, 'min_samples_leaf': 0.1}\n",
            "F1=  0.0 {'max_depth': 10, 'max_features': 8, 'min_samples_leaf': 0.2}\n",
            "F1=  0.054545640118395536 {'max_depth': 10, 'max_features': 13, 'min_samples_leaf': 0.0001}\n",
            "F1=  0.011039208222306815 {'max_depth': 10, 'max_features': 13, 'min_samples_leaf': 0.001}\n",
            "F1=  0.0 {'max_depth': 10, 'max_features': 13, 'min_samples_leaf': 0.01}\n",
            "F1=  0.0 {'max_depth': 10, 'max_features': 13, 'min_samples_leaf': 0.1}\n",
            "F1=  0.0 {'max_depth': 10, 'max_features': 13, 'min_samples_leaf': 0.2}\n",
            "F1=  0.0821415443982246 {'max_depth': 15, 'max_features': 5, 'min_samples_leaf': 0.0001}\n",
            "F1=  0.0 {'max_depth': 15, 'max_features': 5, 'min_samples_leaf': 0.001}\n",
            "F1=  0.0 {'max_depth': 15, 'max_features': 5, 'min_samples_leaf': 0.01}\n",
            "F1=  0.0 {'max_depth': 15, 'max_features': 5, 'min_samples_leaf': 0.1}\n",
            "F1=  0.0 {'max_depth': 15, 'max_features': 5, 'min_samples_leaf': 0.2}\n",
            "F1=  0.07602036126057055 {'max_depth': 15, 'max_features': 8, 'min_samples_leaf': 0.0001}\n",
            "F1=  0.00563380281690141 {'max_depth': 15, 'max_features': 8, 'min_samples_leaf': 0.001}\n",
            "F1=  0.0 {'max_depth': 15, 'max_features': 8, 'min_samples_leaf': 0.01}\n",
            "F1=  0.0 {'max_depth': 15, 'max_features': 8, 'min_samples_leaf': 0.1}\n",
            "F1=  0.0 {'max_depth': 15, 'max_features': 8, 'min_samples_leaf': 0.2}\n",
            "F1=  0.0731670708232345 {'max_depth': 15, 'max_features': 13, 'min_samples_leaf': 0.0001}\n",
            "F1=  0.01608187134502924 {'max_depth': 15, 'max_features': 13, 'min_samples_leaf': 0.001}\n",
            "F1=  0.0 {'max_depth': 15, 'max_features': 13, 'min_samples_leaf': 0.01}\n",
            "F1=  0.0 {'max_depth': 15, 'max_features': 13, 'min_samples_leaf': 0.1}\n",
            "F1=  0.0 {'max_depth': 15, 'max_features': 13, 'min_samples_leaf': 0.2}\n",
            "F1=  0.09103556587687558 {'max_depth': 20, 'max_features': 5, 'min_samples_leaf': 0.0001}\n",
            "F1=  0.0 {'max_depth': 20, 'max_features': 5, 'min_samples_leaf': 0.001}\n",
            "F1=  0.0 {'max_depth': 20, 'max_features': 5, 'min_samples_leaf': 0.01}\n",
            "F1=  0.0 {'max_depth': 20, 'max_features': 5, 'min_samples_leaf': 0.1}\n",
            "F1=  0.0 {'max_depth': 20, 'max_features': 5, 'min_samples_leaf': 0.2}\n",
            "F1=  0.0927705963395279 {'max_depth': 20, 'max_features': 8, 'min_samples_leaf': 0.0001}\n",
            "F1=  0.00563380281690141 {'max_depth': 20, 'max_features': 8, 'min_samples_leaf': 0.001}\n",
            "F1=  0.0 {'max_depth': 20, 'max_features': 8, 'min_samples_leaf': 0.01}\n",
            "F1=  0.0 {'max_depth': 20, 'max_features': 8, 'min_samples_leaf': 0.1}\n",
            "F1=  0.0 {'max_depth': 20, 'max_features': 8, 'min_samples_leaf': 0.2}\n",
            "F1=  0.08979438854834587 {'max_depth': 20, 'max_features': 13, 'min_samples_leaf': 0.0001}\n",
            "F1=  0.016160118606375094 {'max_depth': 20, 'max_features': 13, 'min_samples_leaf': 0.001}\n",
            "F1=  0.0 {'max_depth': 20, 'max_features': 13, 'min_samples_leaf': 0.01}\n",
            "F1=  0.0 {'max_depth': 20, 'max_features': 13, 'min_samples_leaf': 0.1}\n",
            "F1=  0.0 {'max_depth': 20, 'max_features': 13, 'min_samples_leaf': 0.2}\n"
          ],
          "name": "stdout"
        }
      ]
    },
    {
      "cell_type": "markdown",
      "metadata": {
        "id": "leLgllzf_S78"
      },
      "source": [
        "#### Best random forest model"
      ]
    },
    {
      "cell_type": "code",
      "metadata": {
        "colab": {
          "base_uri": "https://localhost:8080/"
        },
        "id": "gFehI73P_S78",
        "outputId": "427ffa75-40c7-4a62-8e8e-551bc52886dc"
      },
      "source": [
        "clf_best_rf = grid_search_rf.best_estimator_\n",
        "clf_best_rf"
      ],
      "execution_count": null,
      "outputs": [
        {
          "output_type": "execute_result",
          "data": {
            "text/plain": [
              "RandomForestClassifier(bootstrap=True, ccp_alpha=0.0, class_weight=None,\n",
              "                       criterion='gini', max_depth=20, max_features=8,\n",
              "                       max_leaf_nodes=None, max_samples=None,\n",
              "                       min_impurity_decrease=0.0, min_impurity_split=None,\n",
              "                       min_samples_leaf=0.0001, min_samples_split=2,\n",
              "                       min_weight_fraction_leaf=0.0, n_estimators=100,\n",
              "                       n_jobs=-1, oob_score=False, random_state=42, verbose=0,\n",
              "                       warm_start=False)"
            ]
          },
          "metadata": {},
          "execution_count": 260
        }
      ]
    },
    {
      "cell_type": "code",
      "metadata": {
        "colab": {
          "base_uri": "https://localhost:8080/"
        },
        "id": "8HulR5Rw_S78",
        "outputId": "7b8e67b5-17b2-4912-8405-faf3206da957"
      },
      "source": [
        "y_pred_rf = cross_val_predict(clf_best_rf, X_new, y_train, cv=10, n_jobs=-1)\n",
        "y_proba_rf = cross_val_predict(clf_best_rf, X_new, y_train, cv=10, method='predict_proba', n_jobs=-1)\n",
        "ranking_profit_rf = create_ranking_profit_df(\"Random Forest\", y_train, y_proba_rf)"
      ],
      "execution_count": null,
      "outputs": [
        {
          "output_type": "stream",
          "text": [
            "[   -10    -20    -30 ... -23400 -23410 -23420]\n",
            "         score  actual  profit  cum_profit\n",
            "5630  1.000000       0     -10         -10\n",
            "2955  0.818182       0     -10         -20\n",
            "1595  0.818182       0     -10         -30\n",
            "5092  0.714286       0     -10         -40\n",
            "811   0.714286       1      90          50\n"
          ],
          "name": "stdout"
        }
      ]
    },
    {
      "cell_type": "markdown",
      "metadata": {
        "id": "aT7T7-6e_S78"
      },
      "source": [
        "##### Performance metrics"
      ]
    },
    {
      "cell_type": "code",
      "metadata": {
        "colab": {
          "base_uri": "https://localhost:8080/"
        },
        "id": "qzBDJKUv_S78",
        "outputId": "60ebc168-63be-404d-cb37-797857e42747"
      },
      "source": [
        "# Performance metrics\n",
        "cm_rf = confusion_matrix(y_train, y_pred_rf)\n",
        "display_conf_matrix(y_train, y_pred_rf)\n",
        "display_perf_metrics(y_train, y_pred_rf, y_proba_rf[:,1])"
      ],
      "execution_count": null,
      "outputs": [
        {
          "output_type": "stream",
          "text": [
            "[[5337  137]\n",
            " [ 326   22]]\n",
            "Accuracy           92.05%\n",
            "Precision          13.84%\n",
            "Recall             6.32%\n",
            "F1                 0.09\n",
            "AUC                0.72\n",
            "Cohen Kappa        0.05\n"
          ],
          "name": "stdout"
        }
      ]
    },
    {
      "cell_type": "markdown",
      "metadata": {
        "id": "k4O1Tzo__S79"
      },
      "source": [
        "##### Precision / recall curve"
      ]
    },
    {
      "cell_type": "code",
      "metadata": {
        "id": "EewP3Wgi_S79",
        "scrolled": true
      },
      "source": [
        "# Precision, recalls and thresholds\n",
        "from sklearn.metrics import precision_recall_curve\n",
        "precisions, recalls, thresholds = precision_recall_curve(y_train, y_proba_rf[:,1])"
      ],
      "execution_count": null,
      "outputs": []
    },
    {
      "cell_type": "code",
      "metadata": {
        "colab": {
          "base_uri": "https://localhost:8080/",
          "height": 315
        },
        "id": "Nt23JylH_S79",
        "outputId": "189c6a75-9258-4f0e-c862-f3e3cac9c5df"
      },
      "source": [
        "# Plot precision / recall\n",
        "plot_precision_vs_recall(precisions, recalls)\n",
        "save_fig(\"precision_vs_recall_plot_optimized_model_rf\")\n",
        "plt.show()"
      ],
      "execution_count": null,
      "outputs": [
        {
          "output_type": "stream",
          "text": [
            "Saving figure precision_vs_recall_plot_optimized_model_rf\n"
          ],
          "name": "stdout"
        },
        {
          "output_type": "display_data",
          "data": {
            "image/png": "[encoded data removed]",
            "text/plain": [
              "<Figure size 432x288 with 1 Axes>"
            ]
          },
          "metadata": {
            "needs_background": "light"
          }
        }
      ]
    },
    {
      "cell_type": "code",
      "metadata": {
        "colab": {
          "base_uri": "https://localhost:8080/",
          "height": 315
        },
        "id": "fbbAB86P_S79",
        "outputId": "d71499ab-9780-4cc0-92b1-c6f5805fb07e"
      },
      "source": [
        "# Plot precision and recall vs threshold\n",
        "plot_precision_recall_vs_threshold(precisions, recalls, thresholds)\n",
        "save_fig(\"precision_recall_vs_threshold_plot_optimized_model_rf\")\n",
        "plt.show()"
      ],
      "execution_count": null,
      "outputs": [
        {
          "output_type": "stream",
          "text": [
            "Saving figure precision_recall_vs_threshold_plot_optimized_model_rf\n"
          ],
          "name": "stdout"
        },
        {
          "output_type": "display_data",
          "data": {
            "image/png": "[encoded data removed]",
            "text/plain": [
              "<Figure size 432x288 with 1 Axes>"
            ]
          },
          "metadata": {
            "needs_background": "light"
          }
        }
      ]
    },
    {
      "cell_type": "markdown",
      "metadata": {
        "id": "hyFZLXDq_S79"
      },
      "source": [
        "##### ROC curve"
      ]
    },
    {
      "cell_type": "code",
      "metadata": {
        "colab": {
          "base_uri": "https://localhost:8080/",
          "height": 315
        },
        "id": "jyT8S_cJ_S7-",
        "outputId": "16f9beeb-bf79-4a25-fd55-84f6c5ff4646"
      },
      "source": [
        "# ROC curve\n",
        "from sklearn.metrics import roc_curve\n",
        "\n",
        "fpr, tpr, thresholds = roc_curve(y_train, y_proba_rf[:,1])\n",
        "\n",
        "plot_roc_curve(fpr, tpr, \"Decision tree\")\n",
        "save_fig(\"roc_curve_plot_optimized_model_rf\")\n",
        "plt.show()"
      ],
      "execution_count": null,
      "outputs": [
        {
          "output_type": "stream",
          "text": [
            "Saving figure roc_curve_plot_optimized_model_rf\n"
          ],
          "name": "stdout"
        },
        {
          "output_type": "display_data",
          "data": {
            "image/png": "[encoded data removed]",
            "text/plain": [
              "<Figure size 432x288 with 1 Axes>"
            ]
          },
          "metadata": {
            "needs_background": "light"
          }
        }
      ]
    },
    {
      "cell_type": "markdown",
      "metadata": {
        "id": "npvZw-hU_S7-"
      },
      "source": [
        "### Learning curves"
      ]
    },
    {
      "cell_type": "markdown",
      "metadata": {
        "id": "rv5u2VbX_S7-"
      },
      "source": [
        "#### Decision Tree"
      ]
    },
    {
      "cell_type": "code",
      "metadata": {
        "colab": {
          "base_uri": "https://localhost:8080/",
          "height": 302
        },
        "id": "g7sKwp3g_S7-",
        "outputId": "3a46da7f-c847-4739-81f3-c38dce3294f6"
      },
      "source": [
        "from sklearn.model_selection import learning_curve\n",
        "from sklearn.model_selection import ShuffleSplit\n",
        "\n",
        "title = \"Learning Curves (Decision Tree)\"\n",
        "plot_learning_curve(clf_best_dt, title, X_train, y_train, (0.8, 1.01), cv=10, n_jobs=7, train_sizes=[ 0.1, 0.33, 0.55, 0.78, 1.])\n",
        "\n",
        "plt.show()"
      ],
      "execution_count": null,
      "outputs": [
        {
          "output_type": "display_data",
          "data": {
            "image/png": "[encoded data removed]",
            "text/plain": [
              "<Figure size 432x288 with 1 Axes>"
            ]
          },
          "metadata": {
            "needs_background": "light"
          }
        }
      ]
    },
    {
      "cell_type": "markdown",
      "metadata": {
        "id": "hm-cmuui_S7-"
      },
      "source": [
        "The results show underfitting of the data. The score can be improved."
      ]
    },
    {
      "cell_type": "markdown",
      "metadata": {
        "id": "QRGW2dUB_S7_"
      },
      "source": [
        "#### Logistic Regression"
      ]
    },
    {
      "cell_type": "code",
      "metadata": {
        "colab": {
          "base_uri": "https://localhost:8080/",
          "height": 1000
        },
        "id": "88npB8hi_S7_",
        "outputId": "562b124b-9a05-44cd-bd3f-0c39da42a013"
      },
      "source": [
        "from sklearn.model_selection import learning_curve\n",
        "from sklearn.model_selection import ShuffleSplit\n",
        "\n",
        "title = \"Learning Curves (Logistic Regression)\"\n",
        "plot_learning_curve(clf_best_log, title, X_train, y_train, (0.8, 1.01), cv=10, n_jobs=1, train_sizes=[ 0.1, 0.33, 0.55, 0.78, 1.])\n",
        "\n",
        "plt.show()"
      ],
      "execution_count": null,
      "outputs": [
        {
          "output_type": "stream",
          "text": [
            "/usr/local/lib/python3.7/dist-packages/sklearn/linear_model/_logistic.py:1539: UserWarning: 'n_jobs' > 1 does not have any effect when 'solver' is set to 'liblinear'. Got 'n_jobs' = 2.\n",
            "  \" = {}.\".format(effective_n_jobs(self.n_jobs)))\n",
            "/usr/local/lib/python3.7/dist-packages/sklearn/linear_model/_logistic.py:1539: UserWarning: 'n_jobs' > 1 does not have any effect when 'solver' is set to 'liblinear'. Got 'n_jobs' = 2.\n",
            "  \" = {}.\".format(effective_n_jobs(self.n_jobs)))\n",
            "/usr/local/lib/python3.7/dist-packages/sklearn/linear_model/_logistic.py:1539: UserWarning: 'n_jobs' > 1 does not have any effect when 'solver' is set to 'liblinear'. Got 'n_jobs' = 2.\n",
            "  \" = {}.\".format(effective_n_jobs(self.n_jobs)))\n",
            "/usr/local/lib/python3.7/dist-packages/sklearn/linear_model/_logistic.py:1539: UserWarning: 'n_jobs' > 1 does not have any effect when 'solver' is set to 'liblinear'. Got 'n_jobs' = 2.\n",
            "  \" = {}.\".format(effective_n_jobs(self.n_jobs)))\n",
            "/usr/local/lib/python3.7/dist-packages/sklearn/linear_model/_logistic.py:1539: UserWarning: 'n_jobs' > 1 does not have any effect when 'solver' is set to 'liblinear'. Got 'n_jobs' = 2.\n",
            "  \" = {}.\".format(effective_n_jobs(self.n_jobs)))\n",
            "/usr/local/lib/python3.7/dist-packages/sklearn/linear_model/_logistic.py:1539: UserWarning: 'n_jobs' > 1 does not have any effect when 'solver' is set to 'liblinear'. Got 'n_jobs' = 2.\n",
            "  \" = {}.\".format(effective_n_jobs(self.n_jobs)))\n",
            "/usr/local/lib/python3.7/dist-packages/sklearn/linear_model/_logistic.py:1539: UserWarning: 'n_jobs' > 1 does not have any effect when 'solver' is set to 'liblinear'. Got 'n_jobs' = 2.\n",
            "  \" = {}.\".format(effective_n_jobs(self.n_jobs)))\n",
            "/usr/local/lib/python3.7/dist-packages/sklearn/linear_model/_logistic.py:1539: UserWarning: 'n_jobs' > 1 does not have any effect when 'solver' is set to 'liblinear'. Got 'n_jobs' = 2.\n",
            "  \" = {}.\".format(effective_n_jobs(self.n_jobs)))\n",
            "/usr/local/lib/python3.7/dist-packages/sklearn/linear_model/_logistic.py:1539: UserWarning: 'n_jobs' > 1 does not have any effect when 'solver' is set to 'liblinear'. Got 'n_jobs' = 2.\n",
            "  \" = {}.\".format(effective_n_jobs(self.n_jobs)))\n",
            "/usr/local/lib/python3.7/dist-packages/sklearn/linear_model/_logistic.py:1539: UserWarning: 'n_jobs' > 1 does not have any effect when 'solver' is set to 'liblinear'. Got 'n_jobs' = 2.\n",
            "  \" = {}.\".format(effective_n_jobs(self.n_jobs)))\n",
            "/usr/local/lib/python3.7/dist-packages/sklearn/linear_model/_logistic.py:1539: UserWarning: 'n_jobs' > 1 does not have any effect when 'solver' is set to 'liblinear'. Got 'n_jobs' = 2.\n",
            "  \" = {}.\".format(effective_n_jobs(self.n_jobs)))\n",
            "/usr/local/lib/python3.7/dist-packages/sklearn/linear_model/_logistic.py:1539: UserWarning: 'n_jobs' > 1 does not have any effect when 'solver' is set to 'liblinear'. Got 'n_jobs' = 2.\n",
            "  \" = {}.\".format(effective_n_jobs(self.n_jobs)))\n",
            "/usr/local/lib/python3.7/dist-packages/sklearn/linear_model/_logistic.py:1539: UserWarning: 'n_jobs' > 1 does not have any effect when 'solver' is set to 'liblinear'. Got 'n_jobs' = 2.\n",
            "  \" = {}.\".format(effective_n_jobs(self.n_jobs)))\n",
            "/usr/local/lib/python3.7/dist-packages/sklearn/linear_model/_logistic.py:1539: UserWarning: 'n_jobs' > 1 does not have any effect when 'solver' is set to 'liblinear'. Got 'n_jobs' = 2.\n",
            "  \" = {}.\".format(effective_n_jobs(self.n_jobs)))\n",
            "/usr/local/lib/python3.7/dist-packages/sklearn/linear_model/_logistic.py:1539: UserWarning: 'n_jobs' > 1 does not have any effect when 'solver' is set to 'liblinear'. Got 'n_jobs' = 2.\n",
            "  \" = {}.\".format(effective_n_jobs(self.n_jobs)))\n",
            "/usr/local/lib/python3.7/dist-packages/sklearn/linear_model/_logistic.py:1539: UserWarning: 'n_jobs' > 1 does not have any effect when 'solver' is set to 'liblinear'. Got 'n_jobs' = 2.\n",
            "  \" = {}.\".format(effective_n_jobs(self.n_jobs)))\n",
            "/usr/local/lib/python3.7/dist-packages/sklearn/linear_model/_logistic.py:1539: UserWarning: 'n_jobs' > 1 does not have any effect when 'solver' is set to 'liblinear'. Got 'n_jobs' = 2.\n",
            "  \" = {}.\".format(effective_n_jobs(self.n_jobs)))\n",
            "/usr/local/lib/python3.7/dist-packages/sklearn/linear_model/_logistic.py:1539: UserWarning: 'n_jobs' > 1 does not have any effect when 'solver' is set to 'liblinear'. Got 'n_jobs' = 2.\n",
            "  \" = {}.\".format(effective_n_jobs(self.n_jobs)))\n",
            "/usr/local/lib/python3.7/dist-packages/sklearn/linear_model/_logistic.py:1539: UserWarning: 'n_jobs' > 1 does not have any effect when 'solver' is set to 'liblinear'. Got 'n_jobs' = 2.\n",
            "  \" = {}.\".format(effective_n_jobs(self.n_jobs)))\n",
            "/usr/local/lib/python3.7/dist-packages/sklearn/linear_model/_logistic.py:1539: UserWarning: 'n_jobs' > 1 does not have any effect when 'solver' is set to 'liblinear'. Got 'n_jobs' = 2.\n",
            "  \" = {}.\".format(effective_n_jobs(self.n_jobs)))\n",
            "/usr/local/lib/python3.7/dist-packages/sklearn/linear_model/_logistic.py:1539: UserWarning: 'n_jobs' > 1 does not have any effect when 'solver' is set to 'liblinear'. Got 'n_jobs' = 2.\n",
            "  \" = {}.\".format(effective_n_jobs(self.n_jobs)))\n",
            "/usr/local/lib/python3.7/dist-packages/sklearn/linear_model/_logistic.py:1539: UserWarning: 'n_jobs' > 1 does not have any effect when 'solver' is set to 'liblinear'. Got 'n_jobs' = 2.\n",
            "  \" = {}.\".format(effective_n_jobs(self.n_jobs)))\n",
            "/usr/local/lib/python3.7/dist-packages/sklearn/linear_model/_logistic.py:1539: UserWarning: 'n_jobs' > 1 does not have any effect when 'solver' is set to 'liblinear'. Got 'n_jobs' = 2.\n",
            "  \" = {}.\".format(effective_n_jobs(self.n_jobs)))\n",
            "/usr/local/lib/python3.7/dist-packages/sklearn/linear_model/_logistic.py:1539: UserWarning: 'n_jobs' > 1 does not have any effect when 'solver' is set to 'liblinear'. Got 'n_jobs' = 2.\n",
            "  \" = {}.\".format(effective_n_jobs(self.n_jobs)))\n",
            "/usr/local/lib/python3.7/dist-packages/sklearn/linear_model/_logistic.py:1539: UserWarning: 'n_jobs' > 1 does not have any effect when 'solver' is set to 'liblinear'. Got 'n_jobs' = 2.\n",
            "  \" = {}.\".format(effective_n_jobs(self.n_jobs)))\n",
            "/usr/local/lib/python3.7/dist-packages/sklearn/linear_model/_logistic.py:1539: UserWarning: 'n_jobs' > 1 does not have any effect when 'solver' is set to 'liblinear'. Got 'n_jobs' = 2.\n",
            "  \" = {}.\".format(effective_n_jobs(self.n_jobs)))\n",
            "/usr/local/lib/python3.7/dist-packages/sklearn/linear_model/_logistic.py:1539: UserWarning: 'n_jobs' > 1 does not have any effect when 'solver' is set to 'liblinear'. Got 'n_jobs' = 2.\n",
            "  \" = {}.\".format(effective_n_jobs(self.n_jobs)))\n",
            "/usr/local/lib/python3.7/dist-packages/sklearn/linear_model/_logistic.py:1539: UserWarning: 'n_jobs' > 1 does not have any effect when 'solver' is set to 'liblinear'. Got 'n_jobs' = 2.\n",
            "  \" = {}.\".format(effective_n_jobs(self.n_jobs)))\n",
            "/usr/local/lib/python3.7/dist-packages/sklearn/linear_model/_logistic.py:1539: UserWarning: 'n_jobs' > 1 does not have any effect when 'solver' is set to 'liblinear'. Got 'n_jobs' = 2.\n",
            "  \" = {}.\".format(effective_n_jobs(self.n_jobs)))\n",
            "/usr/local/lib/python3.7/dist-packages/sklearn/linear_model/_logistic.py:1539: UserWarning: 'n_jobs' > 1 does not have any effect when 'solver' is set to 'liblinear'. Got 'n_jobs' = 2.\n",
            "  \" = {}.\".format(effective_n_jobs(self.n_jobs)))\n",
            "/usr/local/lib/python3.7/dist-packages/sklearn/linear_model/_logistic.py:1539: UserWarning: 'n_jobs' > 1 does not have any effect when 'solver' is set to 'liblinear'. Got 'n_jobs' = 2.\n",
            "  \" = {}.\".format(effective_n_jobs(self.n_jobs)))\n",
            "/usr/local/lib/python3.7/dist-packages/sklearn/linear_model/_logistic.py:1539: UserWarning: 'n_jobs' > 1 does not have any effect when 'solver' is set to 'liblinear'. Got 'n_jobs' = 2.\n",
            "  \" = {}.\".format(effective_n_jobs(self.n_jobs)))\n",
            "/usr/local/lib/python3.7/dist-packages/sklearn/linear_model/_logistic.py:1539: UserWarning: 'n_jobs' > 1 does not have any effect when 'solver' is set to 'liblinear'. Got 'n_jobs' = 2.\n",
            "  \" = {}.\".format(effective_n_jobs(self.n_jobs)))\n",
            "/usr/local/lib/python3.7/dist-packages/sklearn/linear_model/_logistic.py:1539: UserWarning: 'n_jobs' > 1 does not have any effect when 'solver' is set to 'liblinear'. Got 'n_jobs' = 2.\n",
            "  \" = {}.\".format(effective_n_jobs(self.n_jobs)))\n",
            "/usr/local/lib/python3.7/dist-packages/sklearn/linear_model/_logistic.py:1539: UserWarning: 'n_jobs' > 1 does not have any effect when 'solver' is set to 'liblinear'. Got 'n_jobs' = 2.\n",
            "  \" = {}.\".format(effective_n_jobs(self.n_jobs)))\n",
            "/usr/local/lib/python3.7/dist-packages/sklearn/linear_model/_logistic.py:1539: UserWarning: 'n_jobs' > 1 does not have any effect when 'solver' is set to 'liblinear'. Got 'n_jobs' = 2.\n",
            "  \" = {}.\".format(effective_n_jobs(self.n_jobs)))\n",
            "/usr/local/lib/python3.7/dist-packages/sklearn/linear_model/_logistic.py:1539: UserWarning: 'n_jobs' > 1 does not have any effect when 'solver' is set to 'liblinear'. Got 'n_jobs' = 2.\n",
            "  \" = {}.\".format(effective_n_jobs(self.n_jobs)))\n",
            "/usr/local/lib/python3.7/dist-packages/sklearn/linear_model/_logistic.py:1539: UserWarning: 'n_jobs' > 1 does not have any effect when 'solver' is set to 'liblinear'. Got 'n_jobs' = 2.\n",
            "  \" = {}.\".format(effective_n_jobs(self.n_jobs)))\n",
            "/usr/local/lib/python3.7/dist-packages/sklearn/linear_model/_logistic.py:1539: UserWarning: 'n_jobs' > 1 does not have any effect when 'solver' is set to 'liblinear'. Got 'n_jobs' = 2.\n",
            "  \" = {}.\".format(effective_n_jobs(self.n_jobs)))\n",
            "/usr/local/lib/python3.7/dist-packages/sklearn/linear_model/_logistic.py:1539: UserWarning: 'n_jobs' > 1 does not have any effect when 'solver' is set to 'liblinear'. Got 'n_jobs' = 2.\n",
            "  \" = {}.\".format(effective_n_jobs(self.n_jobs)))\n",
            "/usr/local/lib/python3.7/dist-packages/sklearn/linear_model/_logistic.py:1539: UserWarning: 'n_jobs' > 1 does not have any effect when 'solver' is set to 'liblinear'. Got 'n_jobs' = 2.\n",
            "  \" = {}.\".format(effective_n_jobs(self.n_jobs)))\n",
            "/usr/local/lib/python3.7/dist-packages/sklearn/linear_model/_logistic.py:1539: UserWarning: 'n_jobs' > 1 does not have any effect when 'solver' is set to 'liblinear'. Got 'n_jobs' = 2.\n",
            "  \" = {}.\".format(effective_n_jobs(self.n_jobs)))\n",
            "/usr/local/lib/python3.7/dist-packages/sklearn/linear_model/_logistic.py:1539: UserWarning: 'n_jobs' > 1 does not have any effect when 'solver' is set to 'liblinear'. Got 'n_jobs' = 2.\n",
            "  \" = {}.\".format(effective_n_jobs(self.n_jobs)))\n",
            "/usr/local/lib/python3.7/dist-packages/sklearn/linear_model/_logistic.py:1539: UserWarning: 'n_jobs' > 1 does not have any effect when 'solver' is set to 'liblinear'. Got 'n_jobs' = 2.\n",
            "  \" = {}.\".format(effective_n_jobs(self.n_jobs)))\n",
            "/usr/local/lib/python3.7/dist-packages/sklearn/linear_model/_logistic.py:1539: UserWarning: 'n_jobs' > 1 does not have any effect when 'solver' is set to 'liblinear'. Got 'n_jobs' = 2.\n",
            "  \" = {}.\".format(effective_n_jobs(self.n_jobs)))\n",
            "/usr/local/lib/python3.7/dist-packages/sklearn/linear_model/_logistic.py:1539: UserWarning: 'n_jobs' > 1 does not have any effect when 'solver' is set to 'liblinear'. Got 'n_jobs' = 2.\n",
            "  \" = {}.\".format(effective_n_jobs(self.n_jobs)))\n",
            "/usr/local/lib/python3.7/dist-packages/sklearn/linear_model/_logistic.py:1539: UserWarning: 'n_jobs' > 1 does not have any effect when 'solver' is set to 'liblinear'. Got 'n_jobs' = 2.\n",
            "  \" = {}.\".format(effective_n_jobs(self.n_jobs)))\n",
            "/usr/local/lib/python3.7/dist-packages/sklearn/linear_model/_logistic.py:1539: UserWarning: 'n_jobs' > 1 does not have any effect when 'solver' is set to 'liblinear'. Got 'n_jobs' = 2.\n",
            "  \" = {}.\".format(effective_n_jobs(self.n_jobs)))\n",
            "/usr/local/lib/python3.7/dist-packages/sklearn/linear_model/_logistic.py:1539: UserWarning: 'n_jobs' > 1 does not have any effect when 'solver' is set to 'liblinear'. Got 'n_jobs' = 2.\n",
            "  \" = {}.\".format(effective_n_jobs(self.n_jobs)))\n",
            "/usr/local/lib/python3.7/dist-packages/sklearn/linear_model/_logistic.py:1539: UserWarning: 'n_jobs' > 1 does not have any effect when 'solver' is set to 'liblinear'. Got 'n_jobs' = 2.\n",
            "  \" = {}.\".format(effective_n_jobs(self.n_jobs)))\n"
          ],
          "name": "stderr"
        },
        {
          "output_type": "display_data",
          "data": {
            "image/png": "[encoded data removed]",
            "text/plain": [
              "<Figure size 432x288 with 1 Axes>"
            ]
          },
          "metadata": {
            "needs_background": "light"
          }
        }
      ]
    },
    {
      "cell_type": "markdown",
      "metadata": {
        "id": "I__w2Yaj_S7_"
      },
      "source": [
        "The result shows underfitting of the data. The score can be improved."
      ]
    },
    {
      "cell_type": "markdown",
      "metadata": {
        "id": "QbBTgQsQ_S7_"
      },
      "source": [
        "#### Random forest"
      ]
    },
    {
      "cell_type": "code",
      "metadata": {
        "colab": {
          "base_uri": "https://localhost:8080/",
          "height": 302
        },
        "id": "V1v_lJzv_S7_",
        "outputId": "26c8d756-1943-44bb-b1cc-1d52b3fe6769"
      },
      "source": [
        "from sklearn.model_selection import learning_curve\n",
        "from sklearn.model_selection import ShuffleSplit\n",
        "\n",
        "title = \"Learning Curves (Random Forest)\"\n",
        "plot_learning_curve(clf_best_rf, title, X_train, y_train, (0.8, 1.01), cv=10, n_jobs=7, train_sizes=[ 0.1, 0.33, 0.55, 0.78, 1.])\n",
        "\n",
        "plt.show()"
      ],
      "execution_count": null,
      "outputs": [
        {
          "output_type": "display_data",
          "data": {
            "image/png": "[encoded data removed]",
            "text/plain": [
              "<Figure size 432x288 with 1 Axes>"
            ]
          },
          "metadata": {
            "needs_background": "light"
          }
        }
      ]
    },
    {
      "cell_type": "markdown",
      "metadata": {
        "id": "P5X8Q7iK_S8A"
      },
      "source": [
        "Overfitting of data is occuring"
      ]
    },
    {
      "cell_type": "markdown",
      "metadata": {
        "id": "QsDmuMDg_S8A"
      },
      "source": [
        "## Cost / benefit matrix"
      ]
    },
    {
      "cell_type": "markdown",
      "metadata": {
        "id": "JA6NoVwr_S8A"
      },
      "source": [
        "Using a cost / benefit matrix to identify the best threshold."
      ]
    },
    {
      "cell_type": "code",
      "metadata": {
        "colab": {
          "base_uri": "https://localhost:8080/"
        },
        "id": "kxRlEuLB_S8A",
        "outputId": "32b9e7d0-ffb2-477e-d994-b36d8536a3d8"
      },
      "source": [
        "print(cm_dt)\n",
        "print(cm_log)\n",
        "print(cm_rf)"
      ],
      "execution_count": null,
      "outputs": [
        {
          "output_type": "stream",
          "text": [
            "[[5460   14]\n",
            " [ 344    4]]\n",
            "[[5460   14]\n",
            " [ 346    2]]\n",
            "[[5337  137]\n",
            " [ 326   22]]\n"
          ],
          "name": "stdout"
        }
      ]
    },
    {
      "cell_type": "code",
      "metadata": {
        "colab": {
          "base_uri": "https://localhost:8080/"
        },
        "id": "_IhGv52T_S8A",
        "outputId": "b0f7ac14-498f-423c-982c-f799a74b969b"
      },
      "source": [
        "print('Compare Profit from Models')\n",
        "print('-------------------------------------')\n",
        "\n",
        "Profit_DT = calculate_profit(cm_dt, FN_amount, TP_amount, TN_amount, FP_amount)\n",
        "print('Decision Tree Profit:        ' + str(Profit_DT))\n",
        "\n",
        "Profit_LOG = calculate_profit(cm_log, FN_amount, TP_amount, TN_amount, FP_amount)\n",
        "print('Logistic Regression Profit:  ' + str(Profit_LOG))\n",
        "\n",
        "Profit_RF = calculate_profit(cm_rf, FN_amount, TP_amount, TN_amount, FP_amount)\n",
        "print('Random Forest Profit:        ' + str(Profit_RF))"
      ],
      "execution_count": null,
      "outputs": [
        {
          "output_type": "stream",
          "text": [
            "Compare Profit from Models\n",
            "-------------------------------------\n",
            "Decision Tree Profit:        220\n",
            "Logistic Regression Profit:  40\n",
            "Random Forest Profit:        610\n"
          ],
          "name": "stdout"
        }
      ]
    },
    {
      "cell_type": "markdown",
      "metadata": {
        "id": "n8RZtAf3_S8B"
      },
      "source": [
        "## Profit curve"
      ]
    },
    {
      "cell_type": "code",
      "metadata": {
        "colab": {
          "base_uri": "https://localhost:8080/",
          "height": 459
        },
        "id": "nApeKeCj_S8B",
        "outputId": "1ef2ce2b-c05e-4b54-d9e1-660416aa83ee"
      },
      "source": [
        "# Plot profit curve\n",
        "plt.figure(figsize=(8, 6))\n",
        "plot_profit_curve(\"Decision tree\", ranking_profit_dt)\n",
        "plot_profit_curve(\"Logistic regression\", ranking_profit_log)\n",
        "plot_profit_curve(\"Random forest\", ranking_profit_rf)\n",
        "save_fig(\"profit_curve\")\n",
        "plt.show()"
      ],
      "execution_count": null,
      "outputs": [
        {
          "output_type": "stream",
          "text": [
            "Saving figure profit_curve\n"
          ],
          "name": "stdout"
        },
        {
          "output_type": "display_data",
          "data": {
            "image/png": "[encoded data removed]",
            "text/plain": [
              "<Figure size 576x432 with 1 Axes>"
            ]
          },
          "metadata": {
            "needs_background": "light"
          }
        }
      ]
    },
    {
      "cell_type": "markdown",
      "metadata": {
        "id": "iyosrIxn_S8B"
      },
      "source": [
        "## Conclusion"
      ]
    },
    {
      "cell_type": "markdown",
      "metadata": {
        "id": "3kUSZcOd_S8B"
      },
      "source": [
        "**Most important features identified are:**\n",
        "\n",
        "- PPERSAUT: Contribution car policies\n",
        "- PBRAND: Contribution fire policies\n",
        "- MOPLLAAG: Lower level education"
      ]
    },
    {
      "cell_type": "code",
      "metadata": {
        "colab": {
          "base_uri": "https://localhost:8080/"
        },
        "id": "PXERiEiR_S8C",
        "outputId": "af1cc892-2ad6-4efc-d471-d5bba0aa7b23"
      },
      "source": [
        "y_pred_final = cross_val_predict(clf_best_dt, X_test, y_test, cv=10, n_jobs=-1)\n",
        "y_proba_final = cross_val_predict(clf_best_dt, X_test, y_test, cv=10, method='predict_proba', n_jobs=-1)\n",
        "ranking_profit_final = create_ranking_profit_df(\"Decision Tree\", y_test, y_proba_final)"
      ],
      "execution_count": null,
      "outputs": [
        {
          "output_type": "stream",
          "text": [
            "[   -10    -20     70 ... -16280 -16190 -16200]\n",
            "         score  actual  profit  cum_profit\n",
            "5630  1.000000       0     -10         -10\n",
            "2955  0.818182       0     -10         -20\n",
            "1595  0.818182       0     -10         -30\n",
            "5092  0.714286       0     -10         -40\n",
            "811   0.714286       1      90          50\n"
          ],
          "name": "stdout"
        }
      ]
    },
    {
      "cell_type": "code",
      "metadata": {
        "colab": {
          "base_uri": "https://localhost:8080/",
          "height": 424
        },
        "id": "Yp_woJPt_S8C",
        "scrolled": true,
        "outputId": "37728d15-8727-440c-a35b-727e19913be0"
      },
      "source": [
        "ranking_profit_final"
      ],
      "execution_count": null,
      "outputs": [
        {
          "output_type": "execute_result",
          "data": {
            "text/html": [
              "<div>\n",
              "<style scoped>\n",
              "    .dataframe tbody tr th:only-of-type {\n",
              "        vertical-align: middle;\n",
              "    }\n",
              "\n",
              "    .dataframe tbody tr th {\n",
              "        vertical-align: top;\n",
              "    }\n",
              "\n",
              "    .dataframe thead th {\n",
              "        text-align: right;\n",
              "    }\n",
              "</style>\n",
              "<table border=\"1\" class=\"dataframe\">\n",
              "  <thead>\n",
              "    <tr style=\"text-align: right;\">\n",
              "      <th></th>\n",
              "      <th>score</th>\n",
              "      <th>actual</th>\n",
              "      <th>profit</th>\n",
              "      <th>cum_profit</th>\n",
              "    </tr>\n",
              "  </thead>\n",
              "  <tbody>\n",
              "    <tr>\n",
              "      <th>2403</th>\n",
              "      <td>0.80</td>\n",
              "      <td>0</td>\n",
              "      <td>-10</td>\n",
              "      <td>-10</td>\n",
              "    </tr>\n",
              "    <tr>\n",
              "      <th>1915</th>\n",
              "      <td>0.75</td>\n",
              "      <td>0</td>\n",
              "      <td>-10</td>\n",
              "      <td>-20</td>\n",
              "    </tr>\n",
              "    <tr>\n",
              "      <th>718</th>\n",
              "      <td>0.75</td>\n",
              "      <td>1</td>\n",
              "      <td>90</td>\n",
              "      <td>70</td>\n",
              "    </tr>\n",
              "    <tr>\n",
              "      <th>2880</th>\n",
              "      <td>0.75</td>\n",
              "      <td>0</td>\n",
              "      <td>-10</td>\n",
              "      <td>60</td>\n",
              "    </tr>\n",
              "    <tr>\n",
              "      <th>2603</th>\n",
              "      <td>0.75</td>\n",
              "      <td>0</td>\n",
              "      <td>-10</td>\n",
              "      <td>50</td>\n",
              "    </tr>\n",
              "    <tr>\n",
              "      <th>...</th>\n",
              "      <td>...</td>\n",
              "      <td>...</td>\n",
              "      <td>...</td>\n",
              "      <td>...</td>\n",
              "    </tr>\n",
              "    <tr>\n",
              "      <th>3180</th>\n",
              "      <td>0.00</td>\n",
              "      <td>0</td>\n",
              "      <td>-10</td>\n",
              "      <td>-16260</td>\n",
              "    </tr>\n",
              "    <tr>\n",
              "      <th>328</th>\n",
              "      <td>0.00</td>\n",
              "      <td>0</td>\n",
              "      <td>-10</td>\n",
              "      <td>-16270</td>\n",
              "    </tr>\n",
              "    <tr>\n",
              "      <th>268</th>\n",
              "      <td>0.00</td>\n",
              "      <td>0</td>\n",
              "      <td>-10</td>\n",
              "      <td>-16280</td>\n",
              "    </tr>\n",
              "    <tr>\n",
              "      <th>1846</th>\n",
              "      <td>0.00</td>\n",
              "      <td>1</td>\n",
              "      <td>90</td>\n",
              "      <td>-16190</td>\n",
              "    </tr>\n",
              "    <tr>\n",
              "      <th>1454</th>\n",
              "      <td>0.00</td>\n",
              "      <td>0</td>\n",
              "      <td>-10</td>\n",
              "      <td>-16200</td>\n",
              "    </tr>\n",
              "  </tbody>\n",
              "</table>\n",
              "<p>4000 rows × 4 columns</p>\n",
              "</div>"
            ],
            "text/plain": [
              "      score  actual  profit  cum_profit\n",
              "2403   0.80       0     -10         -10\n",
              "1915   0.75       0     -10         -20\n",
              "718    0.75       1      90          70\n",
              "2880   0.75       0     -10          60\n",
              "2603   0.75       0     -10          50\n",
              "...     ...     ...     ...         ...\n",
              "3180   0.00       0     -10      -16260\n",
              "328    0.00       0     -10      -16270\n",
              "268    0.00       0     -10      -16280\n",
              "1846   0.00       1      90      -16190\n",
              "1454   0.00       0     -10      -16200\n",
              "\n",
              "[4000 rows x 4 columns]"
            ]
          },
          "metadata": {},
          "execution_count": 274
        }
      ]
    },
    {
      "cell_type": "code",
      "metadata": {
        "colab": {
          "base_uri": "https://localhost:8080/",
          "height": 292
        },
        "id": "xaP2Wh-r_S8C",
        "outputId": "d6eebd79-b6a5-444f-d884-64a8420cad06"
      },
      "source": [
        "plot_profit_curve(\"Decision tree on test set\", ranking_profit_final)"
      ],
      "execution_count": null,
      "outputs": [
        {
          "output_type": "display_data",
          "data": {
            "image/png": "[encoded data removed]",
            "text/plain": [
              "<Figure size 432x288 with 1 Axes>"
            ]
          },
          "metadata": {
            "needs_background": "light"
          }
        }
      ]
    }
  ]
}